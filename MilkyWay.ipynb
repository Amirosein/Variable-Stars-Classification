{
  "nbformat": 4,
  "nbformat_minor": 0,
  "metadata": {
    "colab": {
      "name": "MilkyWay.ipynb",
      "provenance": [],
      "collapsed_sections": [
        "XOukgp88eK_l",
        "xH-4ovD772js",
        "p5FHKI9iTswZ",
        "MVmL3FNHUWM2",
        "GABLQPAEbMMo",
        "KulgLF7i23TQ"
      ],
      "authorship_tag": "ABX9TyPHr0ooQndJ4ijr0k8cV1aM",
      "include_colab_link": true
    },
    "kernelspec": {
      "name": "python3",
      "display_name": "Python 3"
    },
    "language_info": {
      "name": "python"
    }
  },
  "cells": [
    {
      "cell_type": "markdown",
      "metadata": {
        "id": "view-in-github",
        "colab_type": "text"
      },
      "source": [
        "<a href=\"https://colab.research.google.com/github/Amirosein/MilkywayFormation/blob/main/MilkyWay.ipynb\" target=\"_parent\"><img src=\"https://colab.research.google.com/assets/colab-badge.svg\" alt=\"Open In Colab\"/></a>"
      ]
    },
    {
      "cell_type": "markdown",
      "metadata": {
        "id": "XOukgp88eK_l"
      },
      "source": [
        "# Pre"
      ]
    },
    {
      "cell_type": "code",
      "metadata": {
        "id": "_xYXTtukc4Oe",
        "colab": {
          "base_uri": "https://localhost:8080/"
        },
        "outputId": "faa6ce7c-0472-411a-f91b-ee97787ed144"
      },
      "source": [
        "import pandas as pd\n",
        "import numpy as np\n",
        "import matplotlib.pyplot as plt\n",
        "import io, requests, zipfile\n",
        "from zipfile import ZipFile\n",
        "\n",
        "!pip install tsfresh\n",
        "from tsfresh import extract_features\n",
        "\n",
        "!pip install pyunpack\n",
        "!pip install patool\n",
        "from pyunpack import Archive\n",
        "\n",
        "import warnings\n",
        "warnings.filterwarnings('ignore')\n",
        "\n",
        "\n",
        "# plt.rcParams.update({'font.size': 20, 'figsize':(8,6)})\n",
        "SMALL_SIZE = 12\n",
        "MEDIUM_SIZE = 15\n",
        "BIGGER_SIZE = 18\n",
        "\n",
        "plt.rc('font', size=BIGGER_SIZE)          # controls default text sizes\n",
        "plt.rc('axes', titlesize=MEDIUM_SIZE)     # fontsize of the axes title\n",
        "plt.rc('axes', labelsize=BIGGER_SIZE)    # fontsize of the x and y labels\n",
        "plt.rc('xtick', labelsize=SMALL_SIZE)    # fontsize of the tick labels\n",
        "plt.rc('ytick', labelsize=SMALL_SIZE)    # fontsize of the tick labels\n",
        "plt.rc('legend', fontsize=MEDIUM_SIZE)    # legend fontsize\n",
        "plt.rc('figure', titlesize=BIGGER_SIZE)  # fontsize of the figure title\n",
        "\n",
        "plt.rc('axes', linewidth = 5 )\n",
        "plt.rc('lines', linewidth = 5 )\n",
        "\n",
        "plt.rc('lines', markersize = 5 )\n",
        "\n",
        "plt.rc('figure', figsize=(8,4) )         # Image size"
      ],
      "execution_count": 1,
      "outputs": [
        {
          "output_type": "stream",
          "text": [
            "Requirement already satisfied: tsfresh in /usr/local/lib/python3.7/dist-packages (0.18.0)\n",
            "Requirement already satisfied: numpy>=1.15.1 in /usr/local/lib/python3.7/dist-packages (from tsfresh) (1.19.5)\n",
            "Requirement already satisfied: pandas>=0.25.0 in /usr/local/lib/python3.7/dist-packages (from tsfresh) (1.1.5)\n",
            "Requirement already satisfied: scipy>=1.2.0 in /usr/local/lib/python3.7/dist-packages (from tsfresh) (1.4.1)\n",
            "Requirement already satisfied: tqdm>=4.10.0 in /usr/local/lib/python3.7/dist-packages (from tsfresh) (4.41.1)\n",
            "Requirement already satisfied: dask[dataframe]>=2.9.0 in /usr/local/lib/python3.7/dist-packages (from tsfresh) (2.12.0)\n",
            "Requirement already satisfied: matrixprofile>=1.1.10<2.0.0 in /usr/local/lib/python3.7/dist-packages (from tsfresh) (1.1.10)\n",
            "Requirement already satisfied: scikit-learn>=0.22.0 in /usr/local/lib/python3.7/dist-packages (from tsfresh) (0.22.2.post1)\n",
            "Requirement already satisfied: distributed>=2.11.0 in /usr/local/lib/python3.7/dist-packages (from tsfresh) (2021.7.0)\n",
            "Requirement already satisfied: stumpy>=1.7.2 in /usr/local/lib/python3.7/dist-packages (from tsfresh) (1.8.0)\n",
            "Requirement already satisfied: patsy>=0.4.1 in /usr/local/lib/python3.7/dist-packages (from tsfresh) (0.5.1)\n",
            "Requirement already satisfied: requests>=2.9.1 in /usr/local/lib/python3.7/dist-packages (from tsfresh) (2.23.0)\n",
            "Requirement already satisfied: statsmodels>=0.9.0 in /usr/local/lib/python3.7/dist-packages (from tsfresh) (0.10.2)\n",
            "Requirement already satisfied: pytz>=2017.2 in /usr/local/lib/python3.7/dist-packages (from pandas>=0.25.0->tsfresh) (2018.9)\n",
            "Requirement already satisfied: python-dateutil>=2.7.3 in /usr/local/lib/python3.7/dist-packages (from pandas>=0.25.0->tsfresh) (2.8.1)\n",
            "Requirement already satisfied: partd>=0.3.10; extra == \"dataframe\" in /usr/local/lib/python3.7/dist-packages (from dask[dataframe]>=2.9.0->tsfresh) (1.2.0)\n",
            "Requirement already satisfied: fsspec>=0.6.0; extra == \"dataframe\" in /usr/local/lib/python3.7/dist-packages (from dask[dataframe]>=2.9.0->tsfresh) (2021.7.0)\n",
            "Requirement already satisfied: toolz>=0.7.3; extra == \"dataframe\" in /usr/local/lib/python3.7/dist-packages (from dask[dataframe]>=2.9.0->tsfresh) (0.11.1)\n",
            "Requirement already satisfied: protobuf==3.11.2 in /usr/local/lib/python3.7/dist-packages (from matrixprofile>=1.1.10<2.0.0->tsfresh) (3.11.2)\n",
            "Requirement already satisfied: matplotlib>=3.0.3 in /usr/local/lib/python3.7/dist-packages (from matrixprofile>=1.1.10<2.0.0->tsfresh) (3.2.2)\n",
            "Requirement already satisfied: joblib>=0.11 in /usr/local/lib/python3.7/dist-packages (from scikit-learn>=0.22.0->tsfresh) (1.0.1)\n",
            "Requirement already satisfied: msgpack>=0.6.0 in /usr/local/lib/python3.7/dist-packages (from distributed>=2.11.0->tsfresh) (1.0.2)\n",
            "Requirement already satisfied: psutil>=5.0 in /usr/local/lib/python3.7/dist-packages (from distributed>=2.11.0->tsfresh) (5.4.8)\n",
            "Requirement already satisfied: cloudpickle>=1.5.0 in /usr/local/lib/python3.7/dist-packages (from distributed>=2.11.0->tsfresh) (1.6.0)\n",
            "Requirement already satisfied: tblib>=1.6.0 in /usr/local/lib/python3.7/dist-packages (from distributed>=2.11.0->tsfresh) (1.7.0)\n",
            "Requirement already satisfied: pyyaml in /usr/local/lib/python3.7/dist-packages (from distributed>=2.11.0->tsfresh) (3.13)\n",
            "Requirement already satisfied: setuptools in /usr/local/lib/python3.7/dist-packages (from distributed>=2.11.0->tsfresh) (57.0.0)\n",
            "Requirement already satisfied: tornado>=5; python_version < \"3.8\" in /usr/local/lib/python3.7/dist-packages (from distributed>=2.11.0->tsfresh) (5.1.1)\n",
            "Requirement already satisfied: click>=6.6 in /usr/local/lib/python3.7/dist-packages (from distributed>=2.11.0->tsfresh) (7.1.2)\n",
            "Requirement already satisfied: sortedcontainers!=2.0.0,!=2.0.1 in /usr/local/lib/python3.7/dist-packages (from distributed>=2.11.0->tsfresh) (2.4.0)\n",
            "Requirement already satisfied: zict>=0.1.3 in /usr/local/lib/python3.7/dist-packages (from distributed>=2.11.0->tsfresh) (2.0.0)\n",
            "Requirement already satisfied: numba>=0.48 in /usr/local/lib/python3.7/dist-packages (from stumpy>=1.7.2->tsfresh) (0.51.2)\n",
            "Requirement already satisfied: six in /usr/local/lib/python3.7/dist-packages (from patsy>=0.4.1->tsfresh) (1.15.0)\n",
            "Requirement already satisfied: certifi>=2017.4.17 in /usr/local/lib/python3.7/dist-packages (from requests>=2.9.1->tsfresh) (2021.5.30)\n",
            "Requirement already satisfied: chardet<4,>=3.0.2 in /usr/local/lib/python3.7/dist-packages (from requests>=2.9.1->tsfresh) (3.0.4)\n",
            "Requirement already satisfied: idna<3,>=2.5 in /usr/local/lib/python3.7/dist-packages (from requests>=2.9.1->tsfresh) (2.10)\n",
            "Requirement already satisfied: urllib3!=1.25.0,!=1.25.1,<1.26,>=1.21.1 in /usr/local/lib/python3.7/dist-packages (from requests>=2.9.1->tsfresh) (1.24.3)\n",
            "Requirement already satisfied: locket in /usr/local/lib/python3.7/dist-packages (from partd>=0.3.10; extra == \"dataframe\"->dask[dataframe]>=2.9.0->tsfresh) (0.2.1)\n",
            "Requirement already satisfied: cycler>=0.10 in /usr/local/lib/python3.7/dist-packages (from matplotlib>=3.0.3->matrixprofile>=1.1.10<2.0.0->tsfresh) (0.10.0)\n",
            "Requirement already satisfied: kiwisolver>=1.0.1 in /usr/local/lib/python3.7/dist-packages (from matplotlib>=3.0.3->matrixprofile>=1.1.10<2.0.0->tsfresh) (1.3.1)\n",
            "Requirement already satisfied: pyparsing!=2.0.4,!=2.1.2,!=2.1.6,>=2.0.1 in /usr/local/lib/python3.7/dist-packages (from matplotlib>=3.0.3->matrixprofile>=1.1.10<2.0.0->tsfresh) (2.4.7)\n",
            "Requirement already satisfied: heapdict in /usr/local/lib/python3.7/dist-packages (from zict>=0.1.3->distributed>=2.11.0->tsfresh) (1.0.1)\n",
            "Requirement already satisfied: llvmlite<0.35,>=0.34.0.dev0 in /usr/local/lib/python3.7/dist-packages (from numba>=0.48->stumpy>=1.7.2->tsfresh) (0.34.0)\n"
          ],
          "name": "stdout"
        },
        {
          "output_type": "stream",
          "text": [
            "/usr/local/lib/python3.7/dist-packages/statsmodels/tools/_testing.py:19: FutureWarning: pandas.util.testing is deprecated. Use the functions in the public API at pandas.testing instead.\n",
            "  import pandas.util.testing as tm\n"
          ],
          "name": "stderr"
        },
        {
          "output_type": "stream",
          "text": [
            "Collecting pyunpack\n",
            "  Downloading https://files.pythonhosted.org/packages/83/29/020436b1d8e96e5f26fa282b9c3c13a3b456a36b9ea2edc87c5fed008369/pyunpack-0.2.2-py2.py3-none-any.whl\n",
            "Collecting entrypoint2\n",
            "  Downloading https://files.pythonhosted.org/packages/8a/b0/8ef4b1d8be02448d164c52466530059d7f57218655d21309a0c4236d7454/entrypoint2-0.2.4-py3-none-any.whl\n",
            "Collecting easyprocess\n",
            "  Downloading https://files.pythonhosted.org/packages/48/3c/75573613641c90c6d094059ac28adb748560d99bd27ee6f80cce398f404e/EasyProcess-0.3-py2.py3-none-any.whl\n",
            "Installing collected packages: entrypoint2, easyprocess, pyunpack\n",
            "Successfully installed easyprocess-0.3 entrypoint2-0.2.4 pyunpack-0.2.2\n",
            "Collecting patool\n",
            "\u001b[?25l  Downloading https://files.pythonhosted.org/packages/43/94/52243ddff508780dd2d8110964320ab4851134a55ab102285b46e740f76a/patool-1.12-py2.py3-none-any.whl (77kB)\n",
            "\u001b[K     |████████████████████████████████| 81kB 8.5MB/s \n",
            "\u001b[?25hInstalling collected packages: patool\n",
            "Successfully installed patool-1.12\n"
          ],
          "name": "stdout"
        }
      ]
    },
    {
      "cell_type": "markdown",
      "metadata": {
        "id": "pg9kRo7v7bY_"
      },
      "source": [
        "> * **Save file function**"
      ]
    },
    {
      "cell_type": "code",
      "metadata": {
        "id": "y0dtYscheD6j"
      },
      "source": [
        "def savefile(df,name):\n",
        "  t = df\n",
        "  t.to_csv(name, header=True, index=True)\n",
        "  return 0"
      ],
      "execution_count": 2,
      "outputs": []
    },
    {
      "cell_type": "markdown",
      "metadata": {
        "id": "xH-4ovD772js"
      },
      "source": [
        "# Mount drive"
      ]
    },
    {
      "cell_type": "code",
      "metadata": {
        "colab": {
          "base_uri": "https://localhost:8080/"
        },
        "id": "41fMnJI4lMll",
        "outputId": "d9e82193-c658-4a94-daa4-965687fc0858"
      },
      "source": [
        "from google.colab import drive\n",
        "\n",
        "drive.mount('/content/drive')"
      ],
      "execution_count": 3,
      "outputs": [
        {
          "output_type": "stream",
          "text": [
            "Mounted at /content/drive\n"
          ],
          "name": "stdout"
        }
      ]
    },
    {
      "cell_type": "markdown",
      "metadata": {
        "id": "p5FHKI9iTswZ"
      },
      "source": [
        "# **Convert Dat. files to a CSV Function**\n"
      ]
    },
    {
      "cell_type": "code",
      "metadata": {
        "id": "eppPUCj6QtAo"
      },
      "source": [
        "import pandas as pd\n",
        "from pathlib import Path\n",
        "import csv\n",
        "from pathlib import Path\n",
        "\n",
        "f = open(\"/content/draft.csv\", \"x\")\n",
        "\n",
        "# function\n",
        "def data2csv(path, var, os):\n",
        "  files = Path(path).rglob(\"*.dat\")\n",
        "\n",
        "  i = 0\n",
        "\n",
        "  for file in files:\n",
        "    datContent = [i.strip().split() for i in open(file).readlines()]\n",
        "    id = os +'-'+ Path(file).stem\n",
        "    \n",
        "    # write it as a new CSV file\n",
        "    with open(\"/content/draft.csv\", \"w\") as f:\n",
        "      writer = csv.writer(f)\n",
        "      writer.writerows(datContent)\n",
        "\n",
        "    df = pd.read_csv(\"/content/draft.csv\", names=['time','value','e']) \n",
        "    df = df[['time','value']]\n",
        "    df['id'] = id\n",
        "    df['kind'] = var\n",
        "\n",
        "    if i==0:\n",
        "      data = df\n",
        "    else:\n",
        "      data = pd.concat([data,df], axis=0)\n",
        "\n",
        "    i = i+1\n",
        "    #print(i)\n",
        "\n",
        "  return data"
      ],
      "execution_count": 9,
      "outputs": []
    },
    {
      "cell_type": "markdown",
      "metadata": {
        "id": "MVmL3FNHUWM2"
      },
      "source": [
        "# Convert and Save data"
      ]
    },
    {
      "cell_type": "code",
      "metadata": {
        "id": "Lx3fKykQk6nB"
      },
      "source": [
        "Archive('/content/drive/MyDrive/LPV.rar').extractall('/content/drive/MyDrive')\n"
      ],
      "execution_count": null,
      "outputs": []
    },
    {
      "cell_type": "markdown",
      "metadata": {
        "id": "Wb6S2lj4Vt8G"
      },
      "source": [
        "> * **LMC**"
      ]
    },
    {
      "cell_type": "code",
      "metadata": {
        "id": "0wCY2HB2rJpB"
      },
      "source": [
        "LMC3_I1 = data2csv('/content/drive/MyDrive/LPV/IIILMC/phot/I/p1', 'I','III')\n",
        "LMC3_I2 = data2csv('/content/drive/MyDrive/LPV/IIILMC/phot/I/p2', 'I','III')\n",
        "LMC3_I3 = data2csv('/content/drive/MyDrive/LPV/IIILMC/phot/I/p3', 'I','III')\n",
        "LMC3_I4 = data2csv('/content/drive/MyDrive/LPV/IIILMC/phot/I/p4', 'I','III')\n",
        "LMC3_I5 = data2csv('/content/drive/MyDrive/LPV/IIILMC/phot/I/p5', 'I','III')\n",
        "LMC3_I6 = data2csv('/content/drive/MyDrive/LPV/IIILMC/phot/I/p6', 'I','III')\n",
        "LMC3_I7 = data2csv('/content/drive/MyDrive/LPV/IIILMC/phot/I/p7', 'I','III')\n",
        "LMC3_I8 = data2csv('/content/drive/MyDrive/LPV/IIILMC/phot/I/p8', 'I','III')\n",
        "LMC3_I9 = data2csv('/content/drive/MyDrive/LPV/IIILMC/phot/I/p9', 'I','III')\n",
        "LMC3_I10 = data2csv('/content/drive/MyDrive/LPV/IIILMC/phot/I/p10', 'I','III')\n",
        "LMC3_I11 = data2csv('/content/drive/MyDrive/LPV/IIILMC/phot/I/p11', 'I','III')\n",
        "LMC3_I12 = data2csv('/content/drive/MyDrive/LPV/IIILMC/phot/I/p12', 'I','III')\n",
        "LMC3_I13 = data2csv('/content/drive/MyDrive/LPV/IIILMC/phot/I/p13', 'I','III')\n",
        "LMC3_I14 = data2csv('/content/drive/MyDrive/LPV/IIILMC/phot/I/p14', 'I','III')\n",
        "LMC3_I15 = data2csv('/content/drive/MyDrive/LPV/IIILMC/phot/I/p15', 'I','III')\n",
        "LMC3_I16 = data2csv('/content/drive/MyDrive/LPV/IIILMC/phot/I/p16', 'I','III')\n",
        "LMC3_I17 = data2csv('/content/drive/MyDrive/LPV/IIILMC/phot/I/p17', 'I','III')\n",
        "LMC3_I18 = data2csv('/content/drive/MyDrive/LPV/IIILMC/phot/I/p18', 'I','III')\n",
        "\n",
        "LMC3_I = pd.concat([LMC3_I1,LMC3_I2,LMC3_I3,LMC3_I4,LMC3_I5,LMC3_I6,\n",
        "                    LMC3_I7,LMC3_I8,LMC3_I9,LMC3_I10,LMC3_I11,LMC3_I12,\n",
        "                    LMC3_I13,LMC3_I14,LMC3_I15,LMC3_I16,LMC3_I17,LMC3_I18])\n"
      ],
      "execution_count": null,
      "outputs": []
    },
    {
      "cell_type": "code",
      "metadata": {
        "id": "Nx6csnmMak_E"
      },
      "source": [
        "LMC3_V1 = data2csv('/content/drive/MyDrive/LPV/IIILMC/phot/V/p1', 'V','III')\n",
        "LMC3_V2 = data2csv('/content/drive/MyDrive/LPV/IIILMC/phot/V/p2', 'V','III')\n",
        "LMC3_V3 = data2csv('/content/drive/MyDrive/LPV/IIILMC/phot/V/p3', 'V','III')\n",
        "LMC3_V4 = data2csv('/content/drive/MyDrive/LPV/IIILMC/phot/V/p4', 'V','III')\n",
        "LMC3_V5 = data2csv('/content/drive/MyDrive/LPV/IIILMC/phot/V/p5', 'V','III')\n",
        "LMC3_V6 = data2csv('/content/drive/MyDrive/LPV/IIILMC/phot/V/p6', 'V','III')\n",
        "LMC3_V7 = data2csv('/content/drive/MyDrive/LPV/IIILMC/phot/V/p7', 'V','III')\n",
        "LMC3_V8 = data2csv('/content/drive/MyDrive/LPV/IIILMC/phot/V/p8', 'V','III')\n",
        "LMC3_V9 = data2csv('/content/drive/MyDrive/LPV/IIILMC/phot/V/p9', 'V','III')\n",
        "LMC3_V10 = data2csv('/content/drive/MyDrive/LPV/IIILMC/phot/V/p10', 'V','III')\n",
        "\n",
        "LMC3_V = pd.concat([LMC3_V1,LMC3_V2,LMC3_V3,LMC3_V4,LMC3_V5,LMC3_V6,\n",
        "                    LMC3_V7,LMC3_V8,LMC3_V9,LMC3_V10])\n"
      ],
      "execution_count": null,
      "outputs": []
    },
    {
      "cell_type": "code",
      "metadata": {
        "colab": {
          "base_uri": "https://localhost:8080/",
          "height": 204
        },
        "id": "DmiGHm_mHpSp",
        "outputId": "0593e880-c7fb-4d0c-e68b-c596fec41bfe"
      },
      "source": [
        "LPV_LMC = pd.concat([LMC3_I,LMC3_V])\n",
        "  \n",
        "LPV_LMC['class'] = 'LPV'  \n",
        "savefile(LPV_LMC,'LPV_LMC')\n",
        "LPV_LMC.head()"
      ],
      "execution_count": null,
      "outputs": [
        {
          "output_type": "execute_result",
          "data": {
            "text/html": [
              "<div>\n",
              "<style scoped>\n",
              "    .dataframe tbody tr th:only-of-type {\n",
              "        vertical-align: middle;\n",
              "    }\n",
              "\n",
              "    .dataframe tbody tr th {\n",
              "        vertical-align: top;\n",
              "    }\n",
              "\n",
              "    .dataframe thead th {\n",
              "        text-align: right;\n",
              "    }\n",
              "</style>\n",
              "<table border=\"1\" class=\"dataframe\">\n",
              "  <thead>\n",
              "    <tr style=\"text-align: right;\">\n",
              "      <th></th>\n",
              "      <th>time</th>\n",
              "      <th>value</th>\n",
              "      <th>id</th>\n",
              "      <th>kind</th>\n",
              "      <th>class</th>\n",
              "    </tr>\n",
              "  </thead>\n",
              "  <tbody>\n",
              "    <tr>\n",
              "      <th>0</th>\n",
              "      <td>2171.86025</td>\n",
              "      <td>14.956</td>\n",
              "      <td>III-OGLE-LMC-LPV-00001</td>\n",
              "      <td>I</td>\n",
              "      <td>LPV</td>\n",
              "    </tr>\n",
              "    <tr>\n",
              "      <th>1</th>\n",
              "      <td>2183.81956</td>\n",
              "      <td>14.961</td>\n",
              "      <td>III-OGLE-LMC-LPV-00001</td>\n",
              "      <td>I</td>\n",
              "      <td>LPV</td>\n",
              "    </tr>\n",
              "    <tr>\n",
              "      <th>2</th>\n",
              "      <td>2184.81907</td>\n",
              "      <td>14.961</td>\n",
              "      <td>III-OGLE-LMC-LPV-00001</td>\n",
              "      <td>I</td>\n",
              "      <td>LPV</td>\n",
              "    </tr>\n",
              "    <tr>\n",
              "      <th>3</th>\n",
              "      <td>2188.86966</td>\n",
              "      <td>14.970</td>\n",
              "      <td>III-OGLE-LMC-LPV-00001</td>\n",
              "      <td>I</td>\n",
              "      <td>LPV</td>\n",
              "    </tr>\n",
              "    <tr>\n",
              "      <th>4</th>\n",
              "      <td>2191.78070</td>\n",
              "      <td>14.955</td>\n",
              "      <td>III-OGLE-LMC-LPV-00001</td>\n",
              "      <td>I</td>\n",
              "      <td>LPV</td>\n",
              "    </tr>\n",
              "  </tbody>\n",
              "</table>\n",
              "</div>"
            ],
            "text/plain": [
              "         time   value                      id kind class\n",
              "0  2171.86025  14.956  III-OGLE-LMC-LPV-00001    I   LPV\n",
              "1  2183.81956  14.961  III-OGLE-LMC-LPV-00001    I   LPV\n",
              "2  2184.81907  14.961  III-OGLE-LMC-LPV-00001    I   LPV\n",
              "3  2188.86966  14.970  III-OGLE-LMC-LPV-00001    I   LPV\n",
              "4  2191.78070  14.955  III-OGLE-LMC-LPV-00001    I   LPV"
            ]
          },
          "metadata": {
            "tags": []
          },
          "execution_count": 34
        }
      ]
    },
    {
      "cell_type": "markdown",
      "metadata": {
        "id": "udPcBSbIV39t"
      },
      "source": [
        "> * **SMC**"
      ]
    },
    {
      "cell_type": "code",
      "metadata": {
        "id": "Q-gDT27VRaDd"
      },
      "source": [
        "SMC3_I1 = data2csv('/content/drive/MyDrive/LPV/III/phot/I/p1', 'I','III')\n",
        "SMC3_I2 = data2csv('/content/drive/MyDrive/LPV/III/phot/I/p2', 'I','III')\n",
        "SMC3_I3 = data2csv('/content/drive/MyDrive/LPV/III/phot/I/p3', 'I','III')\n",
        "SMC3_I4 = data2csv('/content/drive/MyDrive/LPV/III/phot/I/p4', 'I','III')\n",
        "SMC3_I = pd.concat([SMC3_I1,SMC3_I2,SMC3_I3,SMC3_I4])\n",
        "\n",
        "savefile(SMC3_I,'SMC3_I')"
      ],
      "execution_count": null,
      "outputs": []
    },
    {
      "cell_type": "code",
      "metadata": {
        "id": "mbRaVFRfTGSJ"
      },
      "source": [
        "SMC3_V1 = data2csv('/content/drive/MyDrive/LPV/III/phot/V/p1', 'V','III')\n",
        "SMC3_V2 = data2csv('/content/drive/MyDrive/LPV/III/phot/V/p2', 'V','III')\n",
        "SMC3_V3 = data2csv('/content/drive/MyDrive/LPV/III/phot/V/p3', 'V','III')\n",
        "SMC3_V4 = data2csv('/content/drive/MyDrive/LPV/III/phot/V/p4', 'V','III')\n",
        "SMC3_V = pd.concat([SMC3_V1,SMC3_V2,SMC3_V3,SMC3_V4])\n",
        "\n",
        "savefile(SMC3_V,'SMC3_V')"
      ],
      "execution_count": null,
      "outputs": []
    },
    {
      "cell_type": "code",
      "metadata": {
        "id": "Qx-HYboOJOwg",
        "colab": {
          "base_uri": "https://localhost:8080/",
          "height": 204
        },
        "outputId": "1c3ca412-8f91-4759-ba7b-cc71836a9f89"
      },
      "source": [
        "LPV_SMC = pd.concat([SMC3_I,SMC3_V])\n",
        "  \n",
        "LPV_SMC['class'] = 'LPV'  \n",
        "savefile(LPV_SMC,'LPV_SMC')\n",
        "LPV_SMC.head()"
      ],
      "execution_count": null,
      "outputs": [
        {
          "output_type": "execute_result",
          "data": {
            "text/html": [
              "<div>\n",
              "<style scoped>\n",
              "    .dataframe tbody tr th:only-of-type {\n",
              "        vertical-align: middle;\n",
              "    }\n",
              "\n",
              "    .dataframe tbody tr th {\n",
              "        vertical-align: top;\n",
              "    }\n",
              "\n",
              "    .dataframe thead th {\n",
              "        text-align: right;\n",
              "    }\n",
              "</style>\n",
              "<table border=\"1\" class=\"dataframe\">\n",
              "  <thead>\n",
              "    <tr style=\"text-align: right;\">\n",
              "      <th></th>\n",
              "      <th>time</th>\n",
              "      <th>value</th>\n",
              "      <th>id</th>\n",
              "      <th>kind</th>\n",
              "      <th>class</th>\n",
              "    </tr>\n",
              "  </thead>\n",
              "  <tbody>\n",
              "    <tr>\n",
              "      <th>0</th>\n",
              "      <td>2088.91535</td>\n",
              "      <td>14.977</td>\n",
              "      <td>III-OGLE-SMC-LPV-00001</td>\n",
              "      <td>I</td>\n",
              "      <td>LPV</td>\n",
              "    </tr>\n",
              "    <tr>\n",
              "      <th>1</th>\n",
              "      <td>2090.87535</td>\n",
              "      <td>14.978</td>\n",
              "      <td>III-OGLE-SMC-LPV-00001</td>\n",
              "      <td>I</td>\n",
              "      <td>LPV</td>\n",
              "    </tr>\n",
              "    <tr>\n",
              "      <th>2</th>\n",
              "      <td>2103.92958</td>\n",
              "      <td>14.980</td>\n",
              "      <td>III-OGLE-SMC-LPV-00001</td>\n",
              "      <td>I</td>\n",
              "      <td>LPV</td>\n",
              "    </tr>\n",
              "    <tr>\n",
              "      <th>3</th>\n",
              "      <td>2104.94812</td>\n",
              "      <td>14.986</td>\n",
              "      <td>III-OGLE-SMC-LPV-00001</td>\n",
              "      <td>I</td>\n",
              "      <td>LPV</td>\n",
              "    </tr>\n",
              "    <tr>\n",
              "      <th>4</th>\n",
              "      <td>2106.84596</td>\n",
              "      <td>14.998</td>\n",
              "      <td>III-OGLE-SMC-LPV-00001</td>\n",
              "      <td>I</td>\n",
              "      <td>LPV</td>\n",
              "    </tr>\n",
              "  </tbody>\n",
              "</table>\n",
              "</div>"
            ],
            "text/plain": [
              "         time   value                      id kind class\n",
              "0  2088.91535  14.977  III-OGLE-SMC-LPV-00001    I   LPV\n",
              "1  2090.87535  14.978  III-OGLE-SMC-LPV-00001    I   LPV\n",
              "2  2103.92958  14.980  III-OGLE-SMC-LPV-00001    I   LPV\n",
              "3  2104.94812  14.986  III-OGLE-SMC-LPV-00001    I   LPV\n",
              "4  2106.84596  14.998  III-OGLE-SMC-LPV-00001    I   LPV"
            ]
          },
          "metadata": {
            "tags": []
          },
          "execution_count": 8
        }
      ]
    },
    {
      "cell_type": "code",
      "metadata": {
        "id": "9_B2zT1KVNUX",
        "colab": {
          "base_uri": "https://localhost:8080/",
          "height": 204
        },
        "outputId": "acd74070-9a76-4794-f111-e577551a92b8"
      },
      "source": [
        "#SMC3 = pd.concat([SMC3_I,SMC3_V])\n",
        "#LMC3 = pd.concat([LMC3_I,LMC3_V])\n",
        "#LMC4 = pd.concat([LMC4_I,LMC4_V])\n",
        "#SMC4 = pd.concat([SMC4_I,SMC4_V])\n",
        "\n",
        "#LPV['class'] = 'LPV' \n",
        "\n",
        "LPV = pd.concat([LPV_LMC,LPV_SMC])\n",
        "\n",
        "savefile(LPV,'LPV')\n",
        "LPV.head()"
      ],
      "execution_count": null,
      "outputs": [
        {
          "output_type": "execute_result",
          "data": {
            "text/html": [
              "<div>\n",
              "<style scoped>\n",
              "    .dataframe tbody tr th:only-of-type {\n",
              "        vertical-align: middle;\n",
              "    }\n",
              "\n",
              "    .dataframe tbody tr th {\n",
              "        vertical-align: top;\n",
              "    }\n",
              "\n",
              "    .dataframe thead th {\n",
              "        text-align: right;\n",
              "    }\n",
              "</style>\n",
              "<table border=\"1\" class=\"dataframe\">\n",
              "  <thead>\n",
              "    <tr style=\"text-align: right;\">\n",
              "      <th></th>\n",
              "      <th>time</th>\n",
              "      <th>value</th>\n",
              "      <th>id</th>\n",
              "      <th>kind</th>\n",
              "      <th>class</th>\n",
              "    </tr>\n",
              "  </thead>\n",
              "  <tbody>\n",
              "    <tr>\n",
              "      <th>0</th>\n",
              "      <td>2171.86025</td>\n",
              "      <td>14.956</td>\n",
              "      <td>III-OGLE-LMC-LPV-00001</td>\n",
              "      <td>I</td>\n",
              "      <td>LPV</td>\n",
              "    </tr>\n",
              "    <tr>\n",
              "      <th>1</th>\n",
              "      <td>2183.81956</td>\n",
              "      <td>14.961</td>\n",
              "      <td>III-OGLE-LMC-LPV-00001</td>\n",
              "      <td>I</td>\n",
              "      <td>LPV</td>\n",
              "    </tr>\n",
              "    <tr>\n",
              "      <th>2</th>\n",
              "      <td>2184.81907</td>\n",
              "      <td>14.961</td>\n",
              "      <td>III-OGLE-LMC-LPV-00001</td>\n",
              "      <td>I</td>\n",
              "      <td>LPV</td>\n",
              "    </tr>\n",
              "    <tr>\n",
              "      <th>3</th>\n",
              "      <td>2188.86966</td>\n",
              "      <td>14.970</td>\n",
              "      <td>III-OGLE-LMC-LPV-00001</td>\n",
              "      <td>I</td>\n",
              "      <td>LPV</td>\n",
              "    </tr>\n",
              "    <tr>\n",
              "      <th>4</th>\n",
              "      <td>2191.78070</td>\n",
              "      <td>14.955</td>\n",
              "      <td>III-OGLE-LMC-LPV-00001</td>\n",
              "      <td>I</td>\n",
              "      <td>LPV</td>\n",
              "    </tr>\n",
              "  </tbody>\n",
              "</table>\n",
              "</div>"
            ],
            "text/plain": [
              "         time   value                      id kind class\n",
              "0  2171.86025  14.956  III-OGLE-LMC-LPV-00001    I   LPV\n",
              "1  2183.81956  14.961  III-OGLE-LMC-LPV-00001    I   LPV\n",
              "2  2184.81907  14.961  III-OGLE-LMC-LPV-00001    I   LPV\n",
              "3  2188.86966  14.970  III-OGLE-LMC-LPV-00001    I   LPV\n",
              "4  2191.78070  14.955  III-OGLE-LMC-LPV-00001    I   LPV"
            ]
          },
          "metadata": {
            "tags": []
          },
          "execution_count": 16
        }
      ]
    },
    {
      "cell_type": "code",
      "metadata": {
        "id": "hvkpVdMBaWaf"
      },
      "source": [
        "zipObj = ZipFile('LPV.zip', 'w', zipfile.ZIP_BZIP2)\n",
        "\n",
        "zipObj.write('/content/LPV')\n",
        "zipObj.close()"
      ],
      "execution_count": null,
      "outputs": []
    },
    {
      "cell_type": "markdown",
      "metadata": {
        "id": "J51IgS8KLi7v"
      },
      "source": [
        "# **Feature Selection :**"
      ]
    },
    {
      "cell_type": "code",
      "metadata": {
        "id": "ehFzcD8uowT5"
      },
      "source": [
        "Archive('/content/drive/MyDrive/Feature Selection Sample dataset.rar').extractall('/content')"
      ],
      "execution_count": 5,
      "outputs": []
    },
    {
      "cell_type": "code",
      "metadata": {
        "id": "uVJGOurURdUc"
      },
      "source": [
        "from tsfresh.feature_extraction import EfficientFCParameters, MinimalFCParameters, ComprehensiveFCParameters\n",
        "\n",
        "def ftrs(X,cls):\n",
        "  m = extract_features(X, column_id=\"id\", column_sort=\"time\", n_jobs= 5,\n",
        "                       column_kind=\"kind\", column_value=\"value\",\n",
        "                       default_fc_parameters = ComprehensiveFCParameters())\n",
        "  m['class'] = cls\n",
        "  return m"
      ],
      "execution_count": 10,
      "outputs": []
    },
    {
      "cell_type": "code",
      "metadata": {
        "id": "3iKy4hEAoclb"
      },
      "source": [
        "def dat2feat(urlI,urlV,cls):\n",
        "  mI = data2csv(urlI, 'I','S')\n",
        "  mV = data2csv(urlV, 'V','S')\n",
        "  m = pd.concat([mI,mV])\n",
        "  \n",
        "  f = ftrs(m,cls)\n",
        "\n",
        "  return f"
      ],
      "execution_count": 11,
      "outputs": []
    },
    {
      "cell_type": "markdown",
      "metadata": {
        "id": "6BRG6isV2OR1"
      },
      "source": [
        "> * Creating Sample Dataset for Feature Selection"
      ]
    },
    {
      "cell_type": "code",
      "metadata": {
        "colab": {
          "base_uri": "https://localhost:8080/"
        },
        "id": "Iid3_BMarR6Y",
        "outputId": "07ac574c-0e3e-4021-af9b-76de6a0c1015"
      },
      "source": [
        "ur11 = '/content/Anomalous-Cepheids/I'\n",
        "ur12 = '/content/Anomalous-Cepheids/V'\n",
        "ur21 = '/content/classical-Cepheids/I'\n",
        "ur22 = '/content/classical-Cepheids/V'\n",
        "ur31 = '/content/Double-Period-Variables/I'\n",
        "ur32 = '/content/Double-Period-Variables/V'\n",
        "ur41 = '/content/Eclipsing-and-ellipsoidal-binary-sys/I'\n",
        "ur42 = '/content/Eclipsing-and-ellipsoidal-binary-sys/V'\n",
        "ur51 = '/content/Long-period-variables/I'\n",
        "ur52 = '/content/Long-period-variables/V'\n",
        "ur61 = '/content/R-CrB/I'\n",
        "ur62 = '/content/R-CrB/V'\n",
        "ur71 = '/content/RR-Lyrae/I'\n",
        "ur72 = '/content/RR-Lyrae/V'\n",
        "ur81 = '/content/Type-II-Cepheids/I'\n",
        "ur82 = '/content/Type-II-Cepheids/V'\n",
        "ur91 = '/content/δ-Scuti/I'\n",
        "ur92 = '/content/δ-Scuti/V'\n",
        "\n",
        "\n",
        "ACEP_sf = dat2feat(ur11,ur12,'ACEP')\n",
        "CEP_sf = dat2feat(ur21,ur22,'CEP')\n",
        "DPV_sf = dat2feat(ur31,ur32,'DPV')\n",
        "ECL_sf = dat2feat(ur41,ur42,'ECL')\n",
        "LPV_sf = dat2feat(ur51,ur52,'LPV')\n",
        "RCB_sf = dat2feat(ur61,ur62,'RCB')\n",
        "RRLYR_sf = dat2feat(ur71,ur72,'RRLYR')\n",
        "T2CEP_sf = dat2feat(ur81,ur82,'T2CEP')\n",
        "DSCT_sf = dat2feat(ur91,ur92,'DSCT')\n",
        "\n",
        "data = pd.concat([ACEP_sf, CEP_sf, DPV_sf, ECL_sf, LPV_sf,\n",
        "                  RCB_sf, RRLYR_sf, T2CEP_sf, DSCT_sf])"
      ],
      "execution_count": 13,
      "outputs": [
        {
          "output_type": "stream",
          "text": [
            "Feature Extraction: 100%|██████████| 25/25 [01:11<00:00,  2.86s/it]\n",
            "Feature Extraction: 100%|██████████| 25/25 [01:18<00:00,  3.14s/it]\n",
            "Feature Extraction: 100%|██████████| 23/23 [00:58<00:00,  2.54s/it]\n",
            "Feature Extraction: 100%|██████████| 24/24 [01:07<00:00,  2.80s/it]\n",
            "Feature Extraction: 100%|██████████| 25/25 [01:33<00:00,  3.72s/it]\n",
            "Feature Extraction: 100%|██████████| 23/23 [00:09<00:00,  2.32it/s]\n",
            "Feature Extraction: 100%|██████████| 25/25 [01:14<00:00,  2.99s/it]\n",
            "Feature Extraction: 100%|██████████| 24/24 [01:22<00:00,  3.43s/it]\n",
            "Feature Extraction: 100%|██████████| 24/24 [00:44<00:00,  1.85s/it]\n"
          ],
          "name": "stderr"
        }
      ]
    },
    {
      "cell_type": "code",
      "metadata": {
        "id": "sjhoS7-yy6wk"
      },
      "source": [
        "X = data.iloc[:,0:1574]\n",
        "Y = data.loc[:,'class']"
      ],
      "execution_count": 160,
      "outputs": []
    },
    {
      "cell_type": "code",
      "metadata": {
        "id": "GEP_6ajW2uXc"
      },
      "source": [
        "# Output Encoding\n",
        "from sklearn.preprocessing import OneHotEncoder\n",
        "\n",
        "a = np.array(Y)\n",
        "OH_Enc = OneHotEncoder( )\n",
        "OH_Encoded = OH_Enc.fit_transform(a.reshape(-1,1)).toarray()\n",
        "OH_Y = pd.DataFrame(OH_Encoded)\n",
        "OH_Y.columns = ['OH1','OH2','OH3','OH4','OH5','OH6','OH7','OH8','OH9']\n",
        "\n",
        "from sklearn import preprocessing\n",
        "\n",
        "LE = preprocessing.LabelEncoder()\n",
        "y = LE.fit_transform(Y)\n",
        "\n",
        "O_Y = pd.DataFrame(y)\n",
        "O_Y.columns = ['OY']"
      ],
      "execution_count": 157,
      "outputs": []
    },
    {
      "cell_type": "code",
      "metadata": {
        "id": "5CN8Kk6c3bPM"
      },
      "source": [
        "# Input Imputation\n",
        "\n",
        "from sklearn.experimental import enable_iterative_imputer\n",
        "from sklearn.impute import IterativeImputer\n",
        "\n",
        "nc = X.columns[X.isnull().all()].tolist()\n",
        "X.drop(nc, inplace=True, axis=1)\n",
        "\n",
        "X.replace([np.inf, -np.inf], np.nan, inplace=True)\n",
        "imp = IterativeImputer(n_nearest_features=30)\n",
        "imp_data = imp.fit_transform(X)\n",
        "X = pd.DataFrame(imp_data, columns= X.columns)\n"
      ],
      "execution_count": 162,
      "outputs": []
    },
    {
      "cell_type": "markdown",
      "metadata": {
        "id": "p-fs6DKEwHOR"
      },
      "source": [
        "> * **Relevant Features :**"
      ]
    },
    {
      "cell_type": "code",
      "metadata": {
        "id": "M4GiscpiKJMn",
        "colab": {
          "base_uri": "https://localhost:8080/"
        },
        "outputId": "a5341014-2902-4fa3-bd68-bee2bd3a4055"
      },
      "source": [
        "import tsfresh\n",
        "\n",
        "y = O_Y\n",
        "y = y.squeeze()\n",
        "\n",
        "# which are now filtered to only contain relevant features\n",
        "X_tsfresh_filtered = tsfresh.feature_selection.select_features(X, y, multiclass=True, n_significant=9,\n",
        "                                                               n_jobs=4, ml_task='classification')\n",
        "\n",
        "# construct the corresponding settings object\n",
        "kind_to_fc_parameters = tsfresh.feature_extraction.settings.from_columns(X_tsfresh_filtered)\n",
        "\n",
        "X_tsfresh_filtered.shape"
      ],
      "execution_count": 235,
      "outputs": [
        {
          "output_type": "execute_result",
          "data": {
            "text/plain": [
              "(1429, 62)"
            ]
          },
          "metadata": {
            "tags": []
          },
          "execution_count": 235
        }
      ]
    },
    {
      "cell_type": "code",
      "metadata": {
        "colab": {
          "base_uri": "https://localhost:8080/",
          "height": 416
        },
        "id": "BELyKIRzzipj",
        "outputId": "2fcb5556-73aa-4f59-ecda-8385c009dd65"
      },
      "source": [
        "a = np.arange(0,10)\n",
        "b = np.array([1489, 956, 861, 799, 734, 691, 599, 403, 220, 62])\n",
        "\n",
        "plt.figure(figsize=(11,6))\n",
        "plt.grid()\n",
        "plt.plot(a,b)\n",
        "\n",
        "plt.ylabel('Relevant_Features')\n",
        "plt.xlabel('Significant_Class')"
      ],
      "execution_count": 234,
      "outputs": [
        {
          "output_type": "execute_result",
          "data": {
            "text/plain": [
              "Text(0.5, 0, 'Significant_Class')"
            ]
          },
          "metadata": {
            "tags": []
          },
          "execution_count": 234
        },
        {
          "output_type": "display_data",
          "data": {
            "image/png": "[encoded data removed]",
            "text/plain": [
              "<Figure size 792x432 with 1 Axes>"
            ]
          },
          "metadata": {
            "tags": [],
            "needs_background": "light"
          }
        }
      ]
    },
    {
      "cell_type": "markdown",
      "metadata": {
        "id": "B157wdZPQfQu"
      },
      "source": [
        "# Feature Extraction Function"
      ]
    },
    {
      "cell_type": "code",
      "metadata": {
        "id": "DUwPKkjJt7z0"
      },
      "source": [
        "def feat_ex(X,cls):\n",
        "  m = extract_features(X, column_id=\"id\", column_sort=\"time\", n_jobs= 20,\n",
        "                       column_kind=\"kind\", column_value=\"value\",\n",
        "                       kind_to_fc_parameters = kind_to_fc_parameters)\n",
        "  m['class'] = cls\n",
        "  return m"
      ],
      "execution_count": 236,
      "outputs": []
    },
    {
      "cell_type": "code",
      "metadata": {
        "id": "KZNsWT6BWv4s",
        "colab": {
          "base_uri": "https://localhost:8080/",
          "height": 202
        },
        "outputId": "e3c66b13-2a48-43b0-e869-9454037ea42a"
      },
      "source": [
        "Archive('/content/drive/MyDrive/CEP.rar').extractall('/content')\n",
        "CEP = pd.read_csv('/content/CEP', index_col=0, header=0)\n",
        "\n",
        "CEP.head()"
      ],
      "execution_count": 200,
      "outputs": [
        {
          "output_type": "execute_result",
          "data": {
            "text/html": [
              "<div>\n",
              "<style scoped>\n",
              "    .dataframe tbody tr th:only-of-type {\n",
              "        vertical-align: middle;\n",
              "    }\n",
              "\n",
              "    .dataframe tbody tr th {\n",
              "        vertical-align: top;\n",
              "    }\n",
              "\n",
              "    .dataframe thead th {\n",
              "        text-align: right;\n",
              "    }\n",
              "</style>\n",
              "<table border=\"1\" class=\"dataframe\">\n",
              "  <thead>\n",
              "    <tr style=\"text-align: right;\">\n",
              "      <th></th>\n",
              "      <th>time</th>\n",
              "      <th>value</th>\n",
              "      <th>id</th>\n",
              "      <th>kind</th>\n",
              "      <th>class</th>\n",
              "    </tr>\n",
              "  </thead>\n",
              "  <tbody>\n",
              "    <tr>\n",
              "      <th>0</th>\n",
              "      <td>2184.81184</td>\n",
              "      <td>17.946</td>\n",
              "      <td>III-OGLE-LMC-CEP-0001</td>\n",
              "      <td>I</td>\n",
              "      <td>CEP</td>\n",
              "    </tr>\n",
              "    <tr>\n",
              "      <th>1</th>\n",
              "      <td>2188.86239</td>\n",
              "      <td>17.631</td>\n",
              "      <td>III-OGLE-LMC-CEP-0001</td>\n",
              "      <td>I</td>\n",
              "      <td>CEP</td>\n",
              "    </tr>\n",
              "    <tr>\n",
              "      <th>2</th>\n",
              "      <td>2191.77255</td>\n",
              "      <td>17.858</td>\n",
              "      <td>III-OGLE-LMC-CEP-0001</td>\n",
              "      <td>I</td>\n",
              "      <td>CEP</td>\n",
              "    </tr>\n",
              "    <tr>\n",
              "      <th>3</th>\n",
              "      <td>2200.79366</td>\n",
              "      <td>17.759</td>\n",
              "      <td>III-OGLE-LMC-CEP-0001</td>\n",
              "      <td>I</td>\n",
              "      <td>CEP</td>\n",
              "    </tr>\n",
              "    <tr>\n",
              "      <th>4</th>\n",
              "      <td>2206.72879</td>\n",
              "      <td>17.686</td>\n",
              "      <td>III-OGLE-LMC-CEP-0001</td>\n",
              "      <td>I</td>\n",
              "      <td>CEP</td>\n",
              "    </tr>\n",
              "  </tbody>\n",
              "</table>\n",
              "</div>"
            ],
            "text/plain": [
              "         time   value                     id kind class\n",
              "0  2184.81184  17.946  III-OGLE-LMC-CEP-0001    I   CEP\n",
              "1  2188.86239  17.631  III-OGLE-LMC-CEP-0001    I   CEP\n",
              "2  2191.77255  17.858  III-OGLE-LMC-CEP-0001    I   CEP\n",
              "3  2200.79366  17.759  III-OGLE-LMC-CEP-0001    I   CEP\n",
              "4  2206.72879  17.686  III-OGLE-LMC-CEP-0001    I   CEP"
            ]
          },
          "metadata": {
            "tags": []
          },
          "execution_count": 200
        }
      ]
    },
    {
      "cell_type": "code",
      "metadata": {
        "id": "47UqPnBMNki7"
      },
      "source": [
        "#Extracting features\n",
        "\n",
        "CEP_f = feat_ex(CEP,'CEP')  \n",
        "savefile(CEP_f,'CEP_f')\n",
        "\n",
        "CEP_f.head()"
      ],
      "execution_count": 1,
      "outputs": []
    },
    {
      "cell_type": "code",
      "metadata": {
        "id": "CgD0dr6475kz"
      },
      "source": [
        "import pickle\n",
        "\n",
        "a_file = open(\"data.pkl\", \"wb\")\n",
        "pickle.dump(kind_to_fc_parameters, a_file)\n",
        "a_file.close()\n",
        "\n",
        "#a_file = open(\"data.pkl\", \"rb\")\n",
        "#output = pickle.load(a_file)\n",
        "#print(output)\n",
        "#a_file.close()"
      ],
      "execution_count": 241,
      "outputs": []
    },
    {
      "cell_type": "markdown",
      "metadata": {
        "id": "GABLQPAEbMMo"
      },
      "source": [
        "# Outputs Encoding"
      ]
    },
    {
      "cell_type": "markdown",
      "metadata": {
        "id": "4AF0O0LRbk5Z"
      },
      "source": [
        "> * **One-Hot Encoding**"
      ]
    },
    {
      "cell_type": "code",
      "metadata": {
        "id": "lrR7m42aZ-NM"
      },
      "source": [
        "from sklearn.preprocessing import OneHotEncoder\n",
        "\n",
        "a = np.array(data['class'])\n",
        "OH_Enc = OneHotEncoder( )\n",
        "OH_Encoded = OH_Enc.fit_transform(a.reshape(-1,1)).toarray()\n",
        "OH_Outputs = pd.DataFrame(OH_Encoded)\n",
        "OH_Outputs.columns = ['OH1','OH2','OH3','OH4','OH5']\n",
        "\n",
        "data = pd.concat([data,OH_Outputs], axis=1)\n",
        "data.head()\n",
        "\n",
        "#a = OH_Enc.inverse_transform(np.array([[1, 0, 0, 0, 0],[0, 1, 0, 0, 0],[0, 0, 1, 0, 0]\n",
        "             #             ,[0, 0, 0, 1, 0],[0, 0, 0, 0, 1]]))\n",
        "\n",
        "#print('[1, 0, 0, 0, 0] =',a[0],'\\n')\n",
        "#print('[0, 1, 0, 0, 0] =',a[1],'\\n')\n",
        "#print('[0, 0, 1, 0, 0] =',a[2],'\\n')\n",
        "#print('[0, 0, 0, 1, 0] =',a[3],'\\n')\n",
        "#print('[0, 0, 0, 0, 1] =',a[4],'\\n')"
      ],
      "execution_count": null,
      "outputs": []
    },
    {
      "cell_type": "markdown",
      "metadata": {
        "id": "IMBbA15tdpwH"
      },
      "source": [
        "> * **Ordinal Encoding**"
      ]
    },
    {
      "cell_type": "code",
      "metadata": {
        "id": "lnOFQSAkdvz0"
      },
      "source": [
        "from sklearn import preprocessing\n",
        "\n",
        "le = preprocessing.LabelEncoder()\n",
        "le.fit(data['class'])\n",
        "Ordinal_Y = le.transform(data['class']) \n",
        "Y_O = pd.DataFrame(Ordinal_Y)\n",
        "Y_O.columns = ['Y']\n",
        "\n",
        "data = pd.concat([data,Y_O], axis=1)\n",
        "data.head()\n",
        "\n",
        "#le.inverse_transform([0, 1, 2, 3, 4])"
      ],
      "execution_count": null,
      "outputs": []
    },
    {
      "cell_type": "markdown",
      "metadata": {
        "id": "KulgLF7i23TQ"
      },
      "source": [
        "# Shuffle and Imputation"
      ]
    },
    {
      "cell_type": "markdown",
      "metadata": {
        "id": "MXQsm_9b5zLa"
      },
      "source": [
        "> * Shuffle"
      ]
    },
    {
      "cell_type": "code",
      "metadata": {
        "id": "ckoF7pq6271w"
      },
      "source": [
        "from sklearn.utils import shuffle\n",
        "\n",
        "data = shuffle(data, random_state=42)\n",
        "data = data.reset_index()\n",
        "\n",
        "X = data.loc[:,'Jmag (1.22u)':'160u flux']\n",
        "Y = data.loc[:,'y1':'y5']\n",
        "categories = data['class']\n",
        "\n",
        "data.head()"
      ],
      "execution_count": null,
      "outputs": []
    },
    {
      "cell_type": "markdown",
      "metadata": {
        "id": "rwUt_EBP54nz"
      },
      "source": [
        "> * Iterative Imputer"
      ]
    },
    {
      "cell_type": "code",
      "metadata": {
        "id": "GWhounh13aRf"
      },
      "source": [
        "from sklearn.experimental import enable_iterative_imputer\n",
        "from sklearn.impute import IterativeImputer\n",
        "\n",
        "imp = IterativeImputer()\n",
        "imp_data = imp.fit_transform(X)\n",
        "X = pd.DataFrame(imp_data, columns= X.columns)"
      ],
      "execution_count": null,
      "outputs": []
    }
  ]
}