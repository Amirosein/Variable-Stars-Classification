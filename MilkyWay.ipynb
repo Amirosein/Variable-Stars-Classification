{
  "nbformat": 4,
  "nbformat_minor": 0,
  "metadata": {
    "colab": {
      "name": "MilkyWay.ipynb",
      "provenance": [],
      "collapsed_sections": [
        "XOukgp88eK_l",
        "p5FHKI9iTswZ",
        "GABLQPAEbMMo",
        "KulgLF7i23TQ"
      ],
      "authorship_tag": "ABX9TyNJ2wdmPdJyThrhQGpuRZGW",
      "include_colab_link": true
    },
    "kernelspec": {
      "name": "python3",
      "display_name": "Python 3"
    },
    "language_info": {
      "name": "python"
    }
  },
  "cells": [
    {
      "cell_type": "markdown",
      "metadata": {
        "id": "view-in-github",
        "colab_type": "text"
      },
      "source": [
        "<a href=\"https://colab.research.google.com/github/Amirosein/MilkywayFormation/blob/main/MilkyWay.ipynb\" target=\"_parent\"><img src=\"https://colab.research.google.com/assets/colab-badge.svg\" alt=\"Open In Colab\"/></a>"
      ]
    },
    {
      "cell_type": "markdown",
      "metadata": {
        "id": "XOukgp88eK_l"
      },
      "source": [
        "# Pre"
      ]
    },
    {
      "cell_type": "code",
      "metadata": {
        "id": "_xYXTtukc4Oe",
        "colab": {
          "base_uri": "https://localhost:8080/"
        },
        "outputId": "9670c28e-cd6c-480c-948e-58c9424bc8ec"
      },
      "source": [
        "import pandas as pd\n",
        "import numpy as np\n",
        "import matplotlib.pyplot as plt\n",
        "import io, requests, zipfile\n",
        "\n",
        "!pip install tsfresh\n",
        "from tsfresh import extract_features\n",
        "\n",
        "!pip install pyunpack\n",
        "!pip install patool\n",
        "from pyunpack import Archive\n",
        "\n",
        "#import warnings\n",
        "#warnings.filterwarnings('ignore')\n",
        "\n",
        "\n",
        "# plt.rcParams.update({'font.size': 20, 'figsize':(8,6)})\n",
        "SMALL_SIZE = 12\n",
        "MEDIUM_SIZE = 15\n",
        "BIGGER_SIZE = 18\n",
        "\n",
        "plt.rc('font', size=BIGGER_SIZE)          # controls default text sizes\n",
        "plt.rc('axes', titlesize=MEDIUM_SIZE)     # fontsize of the axes title\n",
        "plt.rc('axes', labelsize=BIGGER_SIZE)    # fontsize of the x and y labels\n",
        "plt.rc('xtick', labelsize=SMALL_SIZE)    # fontsize of the tick labels\n",
        "plt.rc('ytick', labelsize=SMALL_SIZE)    # fontsize of the tick labels\n",
        "plt.rc('legend', fontsize=MEDIUM_SIZE)    # legend fontsize\n",
        "plt.rc('figure', titlesize=BIGGER_SIZE)  # fontsize of the figure title\n",
        "\n",
        "plt.rc('axes', linewidth = 5 )\n",
        "plt.rc('lines', linewidth = 5 )\n",
        "\n",
        "plt.rc('lines', markersize = 5 )\n",
        "\n",
        "plt.rc('figure', figsize=(8,4) )         # Image size"
      ],
      "execution_count": 1,
      "outputs": [
        {
          "output_type": "stream",
          "text": [
            "Requirement already satisfied: tsfresh in /usr/local/lib/python3.7/dist-packages (0.18.0)\n",
            "Requirement already satisfied: patsy>=0.4.1 in /usr/local/lib/python3.7/dist-packages (from tsfresh) (0.5.1)\n",
            "Requirement already satisfied: scikit-learn>=0.22.0 in /usr/local/lib/python3.7/dist-packages (from tsfresh) (0.22.2.post1)\n",
            "Requirement already satisfied: matrixprofile>=1.1.10<2.0.0 in /usr/local/lib/python3.7/dist-packages (from tsfresh) (1.1.10)\n",
            "Requirement already satisfied: tqdm>=4.10.0 in /usr/local/lib/python3.7/dist-packages (from tsfresh) (4.41.1)\n",
            "Requirement already satisfied: statsmodels>=0.9.0 in /usr/local/lib/python3.7/dist-packages (from tsfresh) (0.10.2)\n",
            "Requirement already satisfied: pandas>=0.25.0 in /usr/local/lib/python3.7/dist-packages (from tsfresh) (1.1.5)\n",
            "Requirement already satisfied: stumpy>=1.7.2 in /usr/local/lib/python3.7/dist-packages (from tsfresh) (1.8.0)\n",
            "Requirement already satisfied: dask[dataframe]>=2.9.0 in /usr/local/lib/python3.7/dist-packages (from tsfresh) (2.12.0)\n",
            "Requirement already satisfied: distributed>=2.11.0 in /usr/local/lib/python3.7/dist-packages (from tsfresh) (2021.7.0)\n",
            "Requirement already satisfied: scipy>=1.2.0 in /usr/local/lib/python3.7/dist-packages (from tsfresh) (1.4.1)\n",
            "Requirement already satisfied: numpy>=1.15.1 in /usr/local/lib/python3.7/dist-packages (from tsfresh) (1.19.5)\n",
            "Requirement already satisfied: requests>=2.9.1 in /usr/local/lib/python3.7/dist-packages (from tsfresh) (2.23.0)\n",
            "Requirement already satisfied: six in /usr/local/lib/python3.7/dist-packages (from patsy>=0.4.1->tsfresh) (1.15.0)\n",
            "Requirement already satisfied: joblib>=0.11 in /usr/local/lib/python3.7/dist-packages (from scikit-learn>=0.22.0->tsfresh) (1.0.1)\n",
            "Requirement already satisfied: matplotlib>=3.0.3 in /usr/local/lib/python3.7/dist-packages (from matrixprofile>=1.1.10<2.0.0->tsfresh) (3.2.2)\n",
            "Requirement already satisfied: protobuf==3.11.2 in /usr/local/lib/python3.7/dist-packages (from matrixprofile>=1.1.10<2.0.0->tsfresh) (3.11.2)\n",
            "Requirement already satisfied: python-dateutil>=2.7.3 in /usr/local/lib/python3.7/dist-packages (from pandas>=0.25.0->tsfresh) (2.8.1)\n",
            "Requirement already satisfied: pytz>=2017.2 in /usr/local/lib/python3.7/dist-packages (from pandas>=0.25.0->tsfresh) (2018.9)\n",
            "Requirement already satisfied: numba>=0.48 in /usr/local/lib/python3.7/dist-packages (from stumpy>=1.7.2->tsfresh) (0.51.2)\n",
            "Requirement already satisfied: toolz>=0.7.3; extra == \"dataframe\" in /usr/local/lib/python3.7/dist-packages (from dask[dataframe]>=2.9.0->tsfresh) (0.11.1)\n",
            "Requirement already satisfied: fsspec>=0.6.0; extra == \"dataframe\" in /usr/local/lib/python3.7/dist-packages (from dask[dataframe]>=2.9.0->tsfresh) (2021.6.1)\n",
            "Requirement already satisfied: partd>=0.3.10; extra == \"dataframe\" in /usr/local/lib/python3.7/dist-packages (from dask[dataframe]>=2.9.0->tsfresh) (1.2.0)\n",
            "Requirement already satisfied: setuptools in /usr/local/lib/python3.7/dist-packages (from distributed>=2.11.0->tsfresh) (57.0.0)\n",
            "Requirement already satisfied: sortedcontainers!=2.0.0,!=2.0.1 in /usr/local/lib/python3.7/dist-packages (from distributed>=2.11.0->tsfresh) (2.4.0)\n",
            "Requirement already satisfied: tblib>=1.6.0 in /usr/local/lib/python3.7/dist-packages (from distributed>=2.11.0->tsfresh) (1.7.0)\n",
            "Requirement already satisfied: zict>=0.1.3 in /usr/local/lib/python3.7/dist-packages (from distributed>=2.11.0->tsfresh) (2.0.0)\n",
            "Requirement already satisfied: click>=6.6 in /usr/local/lib/python3.7/dist-packages (from distributed>=2.11.0->tsfresh) (7.1.2)\n",
            "Requirement already satisfied: tornado>=5; python_version < \"3.8\" in /usr/local/lib/python3.7/dist-packages (from distributed>=2.11.0->tsfresh) (5.1.1)\n",
            "Requirement already satisfied: msgpack>=0.6.0 in /usr/local/lib/python3.7/dist-packages (from distributed>=2.11.0->tsfresh) (1.0.2)\n",
            "Requirement already satisfied: cloudpickle>=1.5.0 in /usr/local/lib/python3.7/dist-packages (from distributed>=2.11.0->tsfresh) (1.6.0)\n",
            "Requirement already satisfied: pyyaml in /usr/local/lib/python3.7/dist-packages (from distributed>=2.11.0->tsfresh) (3.13)\n",
            "Requirement already satisfied: psutil>=5.0 in /usr/local/lib/python3.7/dist-packages (from distributed>=2.11.0->tsfresh) (5.4.8)\n",
            "Requirement already satisfied: urllib3!=1.25.0,!=1.25.1,<1.26,>=1.21.1 in /usr/local/lib/python3.7/dist-packages (from requests>=2.9.1->tsfresh) (1.24.3)\n",
            "Requirement already satisfied: certifi>=2017.4.17 in /usr/local/lib/python3.7/dist-packages (from requests>=2.9.1->tsfresh) (2021.5.30)\n",
            "Requirement already satisfied: idna<3,>=2.5 in /usr/local/lib/python3.7/dist-packages (from requests>=2.9.1->tsfresh) (2.10)\n",
            "Requirement already satisfied: chardet<4,>=3.0.2 in /usr/local/lib/python3.7/dist-packages (from requests>=2.9.1->tsfresh) (3.0.4)\n",
            "Requirement already satisfied: pyparsing!=2.0.4,!=2.1.2,!=2.1.6,>=2.0.1 in /usr/local/lib/python3.7/dist-packages (from matplotlib>=3.0.3->matrixprofile>=1.1.10<2.0.0->tsfresh) (2.4.7)\n",
            "Requirement already satisfied: kiwisolver>=1.0.1 in /usr/local/lib/python3.7/dist-packages (from matplotlib>=3.0.3->matrixprofile>=1.1.10<2.0.0->tsfresh) (1.3.1)\n",
            "Requirement already satisfied: cycler>=0.10 in /usr/local/lib/python3.7/dist-packages (from matplotlib>=3.0.3->matrixprofile>=1.1.10<2.0.0->tsfresh) (0.10.0)\n",
            "Requirement already satisfied: llvmlite<0.35,>=0.34.0.dev0 in /usr/local/lib/python3.7/dist-packages (from numba>=0.48->stumpy>=1.7.2->tsfresh) (0.34.0)\n",
            "Requirement already satisfied: locket in /usr/local/lib/python3.7/dist-packages (from partd>=0.3.10; extra == \"dataframe\"->dask[dataframe]>=2.9.0->tsfresh) (0.2.1)\n",
            "Requirement already satisfied: heapdict in /usr/local/lib/python3.7/dist-packages (from zict>=0.1.3->distributed>=2.11.0->tsfresh) (1.0.1)\n"
          ],
          "name": "stdout"
        },
        {
          "output_type": "stream",
          "text": [
            "/usr/local/lib/python3.7/dist-packages/statsmodels/tools/_testing.py:19: FutureWarning: pandas.util.testing is deprecated. Use the functions in the public API at pandas.testing instead.\n",
            "  import pandas.util.testing as tm\n"
          ],
          "name": "stderr"
        },
        {
          "output_type": "stream",
          "text": [
            "Collecting pyunpack\n",
            "  Downloading https://files.pythonhosted.org/packages/83/29/020436b1d8e96e5f26fa282b9c3c13a3b456a36b9ea2edc87c5fed008369/pyunpack-0.2.2-py2.py3-none-any.whl\n",
            "Collecting easyprocess\n",
            "  Downloading https://files.pythonhosted.org/packages/48/3c/75573613641c90c6d094059ac28adb748560d99bd27ee6f80cce398f404e/EasyProcess-0.3-py2.py3-none-any.whl\n",
            "Collecting entrypoint2\n",
            "  Downloading https://files.pythonhosted.org/packages/8a/b0/8ef4b1d8be02448d164c52466530059d7f57218655d21309a0c4236d7454/entrypoint2-0.2.4-py3-none-any.whl\n",
            "Installing collected packages: easyprocess, entrypoint2, pyunpack\n",
            "Successfully installed easyprocess-0.3 entrypoint2-0.2.4 pyunpack-0.2.2\n",
            "Collecting patool\n",
            "\u001b[?25l  Downloading https://files.pythonhosted.org/packages/43/94/52243ddff508780dd2d8110964320ab4851134a55ab102285b46e740f76a/patool-1.12-py2.py3-none-any.whl (77kB)\n",
            "\u001b[K     |████████████████████████████████| 81kB 3.6MB/s \n",
            "\u001b[?25hInstalling collected packages: patool\n",
            "Successfully installed patool-1.12\n"
          ],
          "name": "stdout"
        }
      ]
    },
    {
      "cell_type": "markdown",
      "metadata": {
        "id": "xH-4ovD772js"
      },
      "source": [
        "# Mount drive"
      ]
    },
    {
      "cell_type": "code",
      "metadata": {
        "colab": {
          "base_uri": "https://localhost:8080/"
        },
        "id": "41fMnJI4lMll",
        "outputId": "401ceb5c-2e7b-4d47-fb36-2c6ed971e090"
      },
      "source": [
        "from google.colab import drive\n",
        "\n",
        "drive.mount('/content/drive')"
      ],
      "execution_count": 2,
      "outputs": [
        {
          "output_type": "stream",
          "text": [
            "Mounted at /content/drive\n"
          ],
          "name": "stdout"
        }
      ]
    },
    {
      "cell_type": "markdown",
      "metadata": {
        "id": "p5FHKI9iTswZ"
      },
      "source": [
        "# **Convert Dat. files to a CSV Function**\n"
      ]
    },
    {
      "cell_type": "code",
      "metadata": {
        "id": "eppPUCj6QtAo"
      },
      "source": [
        "import pandas as pd\n",
        "from pathlib import Path\n",
        "import csv\n",
        "from pathlib import Path\n",
        "\n",
        "f = open(\"/content/draft.csv\", \"x\")\n",
        "\n",
        "# function\n",
        "def data2csv(path, var, os):\n",
        "  files = Path(path).rglob(\"*.dat\")\n",
        "\n",
        "  i = 0\n",
        "\n",
        "  for file in files:\n",
        "    datContent = [i.strip().split() for i in open(file).readlines()]\n",
        "    id = os +'-'+ Path(file).stem\n",
        "    \n",
        "    # write it as a new CSV file\n",
        "    with open(\"/content/draft.csv\", \"w\") as f:\n",
        "      writer = csv.writer(f)\n",
        "      writer.writerows(datContent)\n",
        "\n",
        "    df = pd.read_csv(\"/content/draft.csv\", names=['time','value','e']) \n",
        "    df = df[['time','value']]\n",
        "    df['id'] = id\n",
        "    df['kind'] = var\n",
        "\n",
        "    if i==0:\n",
        "      data = df\n",
        "    else:\n",
        "      data = pd.concat([data,df], axis=0)\n",
        "\n",
        "    i = 1\n",
        "\n",
        "  return data"
      ],
      "execution_count": 3,
      "outputs": []
    },
    {
      "cell_type": "markdown",
      "metadata": {
        "id": "pg9kRo7v7bY_"
      },
      "source": [
        "> * **Save file**"
      ]
    },
    {
      "cell_type": "code",
      "metadata": {
        "id": "y0dtYscheD6j"
      },
      "source": [
        "def savefile(df,name):\n",
        "  t = df\n",
        "  t.to_csv(name, header=True, index=True)\n",
        "  return 0"
      ],
      "execution_count": 4,
      "outputs": []
    },
    {
      "cell_type": "markdown",
      "metadata": {
        "id": "MVmL3FNHUWM2"
      },
      "source": [
        "# Convert and Save data"
      ]
    },
    {
      "cell_type": "code",
      "metadata": {
        "id": "uTgdqD2gnxS2"
      },
      "source": [
        "Archive('/content/drive/MyDrive/IIILMC/phot.tar.gz').extractall('/content/drive/MyDrive/IIILMC')\n",
        "#Archive('/content/drive/MyDrive/IVLMC/phot.tar.gz').extractall('/content/drive/MyDrive/IVLMC')\n",
        "#Archive('/content/drive/MyDrive/III/phot.tar.gz').extractall('/content/drive/MyDrive/III')\n",
        "#Archive('/content/drive/MyDrive/IV/phot.tar.gz').extractall('/content/drive/MyDrive/IV')"
      ],
      "execution_count": 5,
      "outputs": []
    },
    {
      "cell_type": "code",
      "metadata": {
        "id": "mbRaVFRfTGSJ"
      },
      "source": [
        "LMC3_I = data2csv('/content/drive/MyDrive/IIILMC/phot/I', 'I','III')\n",
        "LMC3_V = data2csv('/content/drive/MyDrive/IIILMC/phot/V', 'V','III')\n",
        "\n",
        "#LMC4_I = data2csv('/content/drive/MyDrive/IVLMC/phot/I', 'I','IV')\n",
        "#LMC4_V = data2csv('/content/drive/MyDrive/IVLMC/phot/V', 'V','IV')\n",
        "\n",
        "#SMC3_I = data2csv('/content/drive/MyDrive/III/phot/I', 'I','III')\n",
        "#SMC3_V = data2csv('/content/drive/MyDrive/III/phot/V', 'V','III')\n",
        "\n",
        "#SMC4_I = data2csv('/content/drive/MyDrive/IV/phot/I', 'I','IV')\n",
        "#SMC4_V = data2csv('/content/drive/MyDrive/IV/phot/V', 'V','IV')"
      ],
      "execution_count": 6,
      "outputs": []
    },
    {
      "cell_type": "code",
      "metadata": {
        "colab": {
          "base_uri": "https://localhost:8080/",
          "height": 204
        },
        "id": "9_B2zT1KVNUX",
        "outputId": "8ff57cd0-9fc4-46e5-ce75-530c840eb053"
      },
      "source": [
        "LMC3 = pd.concat([LMC3_I,LMC3_V])\n",
        "#LMC4 = pd.concat([LMC4_I,LMC4_V])\n",
        "#SMC3 = pd.concat([SMC3_I,SMC3_V])\n",
        "#SMC4 = pd.concat([SMC4_I,SMC4_V])\n",
        "\n",
        "DPV = pd.concat([LMC3])\n",
        "\n",
        "DPV['class'] = 'DPV'\n",
        "savefile(DPV,'DPV')\n",
        "DPV.head()"
      ],
      "execution_count": 7,
      "outputs": [
        {
          "output_type": "execute_result",
          "data": {
            "text/html": [
              "<div>\n",
              "<style scoped>\n",
              "    .dataframe tbody tr th:only-of-type {\n",
              "        vertical-align: middle;\n",
              "    }\n",
              "\n",
              "    .dataframe tbody tr th {\n",
              "        vertical-align: top;\n",
              "    }\n",
              "\n",
              "    .dataframe thead th {\n",
              "        text-align: right;\n",
              "    }\n",
              "</style>\n",
              "<table border=\"1\" class=\"dataframe\">\n",
              "  <thead>\n",
              "    <tr style=\"text-align: right;\">\n",
              "      <th></th>\n",
              "      <th>time</th>\n",
              "      <th>value</th>\n",
              "      <th>id</th>\n",
              "      <th>kind</th>\n",
              "      <th>class</th>\n",
              "    </tr>\n",
              "  </thead>\n",
              "  <tbody>\n",
              "    <tr>\n",
              "      <th>0</th>\n",
              "      <td>2184.81184</td>\n",
              "      <td>17.946</td>\n",
              "      <td>III-OGLE-LMC-CEP-0001</td>\n",
              "      <td>I</td>\n",
              "      <td>CEP</td>\n",
              "    </tr>\n",
              "    <tr>\n",
              "      <th>1</th>\n",
              "      <td>2188.86239</td>\n",
              "      <td>17.631</td>\n",
              "      <td>III-OGLE-LMC-CEP-0001</td>\n",
              "      <td>I</td>\n",
              "      <td>CEP</td>\n",
              "    </tr>\n",
              "    <tr>\n",
              "      <th>2</th>\n",
              "      <td>2191.77255</td>\n",
              "      <td>17.858</td>\n",
              "      <td>III-OGLE-LMC-CEP-0001</td>\n",
              "      <td>I</td>\n",
              "      <td>CEP</td>\n",
              "    </tr>\n",
              "    <tr>\n",
              "      <th>3</th>\n",
              "      <td>2200.79366</td>\n",
              "      <td>17.759</td>\n",
              "      <td>III-OGLE-LMC-CEP-0001</td>\n",
              "      <td>I</td>\n",
              "      <td>CEP</td>\n",
              "    </tr>\n",
              "    <tr>\n",
              "      <th>4</th>\n",
              "      <td>2206.72879</td>\n",
              "      <td>17.686</td>\n",
              "      <td>III-OGLE-LMC-CEP-0001</td>\n",
              "      <td>I</td>\n",
              "      <td>CEP</td>\n",
              "    </tr>\n",
              "  </tbody>\n",
              "</table>\n",
              "</div>"
            ],
            "text/plain": [
              "         time   value                     id kind class\n",
              "0  2184.81184  17.946  III-OGLE-LMC-CEP-0001    I   CEP\n",
              "1  2188.86239  17.631  III-OGLE-LMC-CEP-0001    I   CEP\n",
              "2  2191.77255  17.858  III-OGLE-LMC-CEP-0001    I   CEP\n",
              "3  2200.79366  17.759  III-OGLE-LMC-CEP-0001    I   CEP\n",
              "4  2206.72879  17.686  III-OGLE-LMC-CEP-0001    I   CEP"
            ]
          },
          "metadata": {
            "tags": []
          },
          "execution_count": 7
        }
      ]
    },
    {
      "cell_type": "markdown",
      "metadata": {
        "id": "B157wdZPQfQu"
      },
      "source": [
        "# Feature Extraction Function"
      ]
    },
    {
      "cell_type": "code",
      "metadata": {
        "id": "uVJGOurURdUc"
      },
      "source": [
        "def feat(X):\n",
        "  m = extract_features(X, column_id=\"id\", column_sort=\"time\",\n",
        "                               column_kind=\"kind\", column_value=\"value\")\n",
        "#  m['class'] = cls\n",
        "  return m"
      ],
      "execution_count": 8,
      "outputs": []
    },
    {
      "cell_type": "code",
      "metadata": {
        "id": "47UqPnBMNki7"
      },
      "source": [
        "acep = feat(CEP)\n",
        "acep.head()"
      ],
      "execution_count": null,
      "outputs": []
    },
    {
      "cell_type": "markdown",
      "metadata": {
        "id": "GABLQPAEbMMo"
      },
      "source": [
        "# Outputs Encoding"
      ]
    },
    {
      "cell_type": "markdown",
      "metadata": {
        "id": "4AF0O0LRbk5Z"
      },
      "source": [
        "> * **One-Hot Encoding**"
      ]
    },
    {
      "cell_type": "code",
      "metadata": {
        "id": "lrR7m42aZ-NM"
      },
      "source": [
        "from sklearn.preprocessing import OneHotEncoder\n",
        "\n",
        "a = np.array(data['class'])\n",
        "OH_Enc = OneHotEncoder( )\n",
        "OH_Encoded = OH_Enc.fit_transform(a.reshape(-1,1)).toarray()\n",
        "OH_Outputs = pd.DataFrame(OH_Encoded)\n",
        "OH_Outputs.columns = ['OH1','OH2','OH3','OH4','OH5']\n",
        "\n",
        "data = pd.concat([data,OH_Outputs], axis=1)\n",
        "data.head()\n",
        "\n",
        "#a = OH_Enc.inverse_transform(np.array([[1, 0, 0, 0, 0],[0, 1, 0, 0, 0],[0, 0, 1, 0, 0]\n",
        "             #             ,[0, 0, 0, 1, 0],[0, 0, 0, 0, 1]]))\n",
        "\n",
        "#print('[1, 0, 0, 0, 0] =',a[0],'\\n')\n",
        "#print('[0, 1, 0, 0, 0] =',a[1],'\\n')\n",
        "#print('[0, 0, 1, 0, 0] =',a[2],'\\n')\n",
        "#print('[0, 0, 0, 1, 0] =',a[3],'\\n')\n",
        "#print('[0, 0, 0, 0, 1] =',a[4],'\\n')"
      ],
      "execution_count": null,
      "outputs": []
    },
    {
      "cell_type": "markdown",
      "metadata": {
        "id": "IMBbA15tdpwH"
      },
      "source": [
        "> * **Ordinal Encoding**"
      ]
    },
    {
      "cell_type": "code",
      "metadata": {
        "id": "lnOFQSAkdvz0"
      },
      "source": [
        "from sklearn import preprocessing\n",
        "\n",
        "le = preprocessing.LabelEncoder()\n",
        "le.fit(data['class'])\n",
        "Ordinal_Y = le.transform(data['class']) \n",
        "Y_O = pd.DataFrame(Ordinal_Y)\n",
        "Y_O.columns = ['Y']\n",
        "\n",
        "data = pd.concat([data,Y_O], axis=1)\n",
        "data.head()\n",
        "\n",
        "#le.inverse_transform([0, 1, 2, 3, 4])"
      ],
      "execution_count": null,
      "outputs": []
    },
    {
      "cell_type": "markdown",
      "metadata": {
        "id": "KulgLF7i23TQ"
      },
      "source": [
        "# Shuffle and Imputation"
      ]
    },
    {
      "cell_type": "markdown",
      "metadata": {
        "id": "MXQsm_9b5zLa"
      },
      "source": [
        "> * Shuffle"
      ]
    },
    {
      "cell_type": "code",
      "metadata": {
        "id": "ckoF7pq6271w"
      },
      "source": [
        "from sklearn.utils import shuffle\n",
        "\n",
        "data = shuffle(data, random_state=42)\n",
        "data = data.reset_index()\n",
        "\n",
        "X = data.loc[:,'Jmag (1.22u)':'160u flux']\n",
        "Y = data.loc[:,'y1':'y5']\n",
        "categories = data['class']\n",
        "\n",
        "data.head()"
      ],
      "execution_count": null,
      "outputs": []
    },
    {
      "cell_type": "markdown",
      "metadata": {
        "id": "rwUt_EBP54nz"
      },
      "source": [
        "> * Iterative Imputer"
      ]
    },
    {
      "cell_type": "code",
      "metadata": {
        "id": "GWhounh13aRf"
      },
      "source": [
        "from sklearn.experimental import enable_iterative_imputer\n",
        "from sklearn.impute import IterativeImputer\n",
        "\n",
        "imp = IterativeImputer()\n",
        "imp_data = imp.fit_transform(X)\n",
        "X = pd.DataFrame(imp_data, columns= X.columns)"
      ],
      "execution_count": null,
      "outputs": []
    }
  ]
}