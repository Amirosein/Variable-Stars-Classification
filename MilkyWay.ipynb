{
  "nbformat": 4,
  "nbformat_minor": 0,
  "metadata": {
    "colab": {
      "name": "Copy of MilkyWay.ipynb",
      "provenance": [],
      "collapsed_sections": [
        "XOukgp88eK_l",
        "xH-4ovD772js",
        "GABLQPAEbMMo",
        "KulgLF7i23TQ"
      ],
      "authorship_tag": "ABX9TyODvQp/R+bmcd7RmB0ZzQq1",
      "include_colab_link": true
    },
    "kernelspec": {
      "name": "python3",
      "display_name": "Python 3"
    },
    "language_info": {
      "name": "python"
    }
  },
  "cells": [
    {
      "cell_type": "markdown",
      "metadata": {
        "id": "view-in-github",
        "colab_type": "text"
      },
      "source": [
        "<a href=\"https://colab.research.google.com/github/Amirosein/MilkywayFormation/blob/main/MilkyWay.ipynb\" target=\"_parent\"><img src=\"https://colab.research.google.com/assets/colab-badge.svg\" alt=\"Open In Colab\"/></a>"
      ]
    },
    {
      "cell_type": "markdown",
      "metadata": {
        "id": "XOukgp88eK_l"
      },
      "source": [
        "# Pre"
      ]
    },
    {
      "cell_type": "code",
      "metadata": {
        "id": "_xYXTtukc4Oe"
      },
      "source": [
        "import pandas as pd\n",
        "import numpy as np\n",
        "import matplotlib.pyplot as plt\n",
        "import io, requests, zipfile\n",
        "\n",
        "!pip install tsfresh\n",
        "from tsfresh import extract_features\n",
        "\n",
        "# plt.rcParams.update({'font.size': 20, 'figsize':(8,6)})\n",
        "\n",
        "SMALL_SIZE = 12\n",
        "MEDIUM_SIZE = 15\n",
        "BIGGER_SIZE = 18\n",
        "\n",
        "plt.rc('font', size=BIGGER_SIZE)          # controls default text sizes\n",
        "plt.rc('axes', titlesize=MEDIUM_SIZE)     # fontsize of the axes title\n",
        "plt.rc('axes', labelsize=BIGGER_SIZE)    # fontsize of the x and y labels\n",
        "plt.rc('xtick', labelsize=SMALL_SIZE)    # fontsize of the tick labels\n",
        "plt.rc('ytick', labelsize=SMALL_SIZE)    # fontsize of the tick labels\n",
        "plt.rc('legend', fontsize=MEDIUM_SIZE)    # legend fontsize\n",
        "plt.rc('figure', titlesize=BIGGER_SIZE)  # fontsize of the figure title\n",
        "\n",
        "plt.rc('axes', linewidth = 5 )\n",
        "plt.rc('lines', linewidth = 5 )\n",
        "\n",
        "plt.rc('lines', markersize = 5 )\n",
        "\n",
        "plt.rc('figure', figsize=(8,4) )         # Image size"
      ],
      "execution_count": 3,
      "outputs": []
    },
    {
      "cell_type": "markdown",
      "metadata": {
        "id": "xH-4ovD772js"
      },
      "source": [
        "# Import data"
      ]
    },
    {
      "cell_type": "code",
      "metadata": {
        "colab": {
          "base_uri": "https://localhost:8080/"
        },
        "id": "41fMnJI4lMll",
        "outputId": "93473a8b-5269-4f23-e7bf-0a785e0ca3bb"
      },
      "source": [
        "from google.colab import drive\n",
        "\n",
        "drive.mount('/content/drive')"
      ],
      "execution_count": 4,
      "outputs": [
        {
          "output_type": "stream",
          "text": [
            "Drive already mounted at /content/drive; to attempt to forcibly remount, call drive.mount(\"/content/drive\", force_remount=True).\n"
          ],
          "name": "stdout"
        }
      ]
    },
    {
      "cell_type": "markdown",
      "metadata": {
        "id": "p5FHKI9iTswZ"
      },
      "source": [
        "# **Convert Dat. files to a CSV Function**\n"
      ]
    },
    {
      "cell_type": "code",
      "metadata": {
        "id": "eppPUCj6QtAo"
      },
      "source": [
        "import pandas as pd\n",
        "from pathlib import Path\n",
        "import csv\n",
        "from pathlib import Path\n",
        "\n",
        "f = open(\"/content/draft.csv\", \"x\")\n",
        "\n",
        "def data2csv(path, var):\n",
        "  files = Path(path).rglob(\"*.dat\")\n",
        "\n",
        "  i = 0\n",
        "\n",
        "  for file in files:\n",
        "    datContent = [i.strip().split() for i in open(file).readlines()]\n",
        "    id = Path(file).stem\n",
        "    \n",
        "    # write it as a new CSV file\n",
        "    with open(\"/content/draft.csv\", \"w\") as f:\n",
        "      writer = csv.writer(f)\n",
        "      writer.writerows(datContent)\n",
        "\n",
        "    df = pd.read_csv(\"/content/draft.csv\", names=['time','value','e']) \n",
        "    df = df[['time','value']]\n",
        "    df['id'] = id\n",
        "    df['kind'] = var\n",
        "\n",
        "    if i==0:\n",
        "      data = df\n",
        "    else:\n",
        "      data = pd.concat([data,df], axis=0)\n",
        "\n",
        "    i = 1\n",
        "\n",
        "  return data"
      ],
      "execution_count": 29,
      "outputs": []
    },
    {
      "cell_type": "markdown",
      "metadata": {
        "id": "MVmL3FNHUWM2"
      },
      "source": [
        "# Converting data"
      ]
    },
    {
      "cell_type": "markdown",
      "metadata": {
        "id": "ld-SrzcPnYbl"
      },
      "source": [
        "# Anomalous-Cepheids"
      ]
    },
    {
      "cell_type": "code",
      "metadata": {
        "id": "uTgdqD2gnxS2"
      },
      "source": [
        "!pip install pyunpack\n",
        "!pip install patool\n",
        "from pyunpack import Archive\n",
        "Archive('/content/drive/MyDrive/phot.tar.gz').extractall('/content/drive/MyDrive')"
      ],
      "execution_count": null,
      "outputs": []
    },
    {
      "cell_type": "code",
      "metadata": {
        "id": "mbRaVFRfTGSJ"
      },
      "source": [
        "LMC_ACEP_I = data2csv('/content/drive/MyDrive/phot/I', 'I')\n",
        "LMC_ACEP_V = data2csv('/content/drive/MyDrive/phot/V', 'V')"
      ],
      "execution_count": 30,
      "outputs": []
    },
    {
      "cell_type": "code",
      "metadata": {
        "colab": {
          "base_uri": "https://localhost:8080/",
          "height": 204
        },
        "id": "9_B2zT1KVNUX",
        "outputId": "24715e51-9e96-4e36-af4e-0d3e61e52566"
      },
      "source": [
        "LMC_ACEP = pd.concat([LMC_ACEP_I,LMC_ACEP_V])\n",
        "LMC_ACEP.head()"
      ],
      "execution_count": 44,
      "outputs": [
        {
          "output_type": "execute_result",
          "data": {
            "text/html": [
              "<div>\n",
              "<style scoped>\n",
              "    .dataframe tbody tr th:only-of-type {\n",
              "        vertical-align: middle;\n",
              "    }\n",
              "\n",
              "    .dataframe tbody tr th {\n",
              "        vertical-align: top;\n",
              "    }\n",
              "\n",
              "    .dataframe thead th {\n",
              "        text-align: right;\n",
              "    }\n",
              "</style>\n",
              "<table border=\"1\" class=\"dataframe\">\n",
              "  <thead>\n",
              "    <tr style=\"text-align: right;\">\n",
              "      <th></th>\n",
              "      <th>time</th>\n",
              "      <th>value</th>\n",
              "      <th>id</th>\n",
              "      <th>kind</th>\n",
              "    </tr>\n",
              "  </thead>\n",
              "  <tbody>\n",
              "    <tr>\n",
              "      <th>0</th>\n",
              "      <td>2165.84172</td>\n",
              "      <td>17.760</td>\n",
              "      <td>OGLE-LMC-ACEP-002</td>\n",
              "      <td>I</td>\n",
              "    </tr>\n",
              "    <tr>\n",
              "      <th>1</th>\n",
              "      <td>2171.86412</td>\n",
              "      <td>17.346</td>\n",
              "      <td>OGLE-LMC-ACEP-002</td>\n",
              "      <td>I</td>\n",
              "    </tr>\n",
              "    <tr>\n",
              "      <th>2</th>\n",
              "      <td>2183.82360</td>\n",
              "      <td>17.499</td>\n",
              "      <td>OGLE-LMC-ACEP-002</td>\n",
              "      <td>I</td>\n",
              "    </tr>\n",
              "    <tr>\n",
              "      <th>3</th>\n",
              "      <td>2184.82308</td>\n",
              "      <td>17.548</td>\n",
              "      <td>OGLE-LMC-ACEP-002</td>\n",
              "      <td>I</td>\n",
              "    </tr>\n",
              "    <tr>\n",
              "      <th>4</th>\n",
              "      <td>2191.78470</td>\n",
              "      <td>17.603</td>\n",
              "      <td>OGLE-LMC-ACEP-002</td>\n",
              "      <td>I</td>\n",
              "    </tr>\n",
              "  </tbody>\n",
              "</table>\n",
              "</div>"
            ],
            "text/plain": [
              "         time   value                 id kind\n",
              "0  2165.84172  17.760  OGLE-LMC-ACEP-002    I\n",
              "1  2171.86412  17.346  OGLE-LMC-ACEP-002    I\n",
              "2  2183.82360  17.499  OGLE-LMC-ACEP-002    I\n",
              "3  2184.82308  17.548  OGLE-LMC-ACEP-002    I\n",
              "4  2191.78470  17.603  OGLE-LMC-ACEP-002    I"
            ]
          },
          "metadata": {
            "tags": []
          },
          "execution_count": 44
        }
      ]
    },
    {
      "cell_type": "markdown",
      "metadata": {
        "id": "B157wdZPQfQu"
      },
      "source": [
        "# Feature Extraction Function"
      ]
    },
    {
      "cell_type": "code",
      "metadata": {
        "id": "uVJGOurURdUc"
      },
      "source": [
        "def feat(X, cls):\n",
        "  m = extract_features(X, column_id=\"id\", column_sort=\"time\",\n",
        "                               column_kind=\"kind\", column_value=\"value\")\n",
        "  m['class'] = cls\n",
        "  return m"
      ],
      "execution_count": 39,
      "outputs": []
    },
    {
      "cell_type": "code",
      "metadata": {
        "id": "47UqPnBMNki7"
      },
      "source": [
        "acep = feat(LMC_ACEP, 'ACEP')\n",
        "acep.head()"
      ],
      "execution_count": null,
      "outputs": []
    },
    {
      "cell_type": "markdown",
      "metadata": {
        "id": "GABLQPAEbMMo"
      },
      "source": [
        "# Outputs Encoding"
      ]
    },
    {
      "cell_type": "markdown",
      "metadata": {
        "id": "4AF0O0LRbk5Z"
      },
      "source": [
        "> * **One-Hot Encoding**"
      ]
    },
    {
      "cell_type": "code",
      "metadata": {
        "id": "lrR7m42aZ-NM"
      },
      "source": [
        "from sklearn.preprocessing import OneHotEncoder\n",
        "\n",
        "a = np.array(data['class'])\n",
        "OH_Enc = OneHotEncoder( )\n",
        "OH_Encoded = OH_Enc.fit_transform(a.reshape(-1,1)).toarray()\n",
        "OH_Outputs = pd.DataFrame(OH_Encoded)\n",
        "OH_Outputs.columns = ['OH1','OH2','OH3','OH4','OH5']\n",
        "\n",
        "data = pd.concat([data,OH_Outputs], axis=1)\n",
        "data.head()\n",
        "\n",
        "#a = OH_Enc.inverse_transform(np.array([[1, 0, 0, 0, 0],[0, 1, 0, 0, 0],[0, 0, 1, 0, 0]\n",
        "             #             ,[0, 0, 0, 1, 0],[0, 0, 0, 0, 1]]))\n",
        "\n",
        "#print('[1, 0, 0, 0, 0] =',a[0],'\\n')\n",
        "#print('[0, 1, 0, 0, 0] =',a[1],'\\n')\n",
        "#print('[0, 0, 1, 0, 0] =',a[2],'\\n')\n",
        "#print('[0, 0, 0, 1, 0] =',a[3],'\\n')\n",
        "#print('[0, 0, 0, 0, 1] =',a[4],'\\n')"
      ],
      "execution_count": null,
      "outputs": []
    },
    {
      "cell_type": "markdown",
      "metadata": {
        "id": "IMBbA15tdpwH"
      },
      "source": [
        "> * **Ordinal Encoding**"
      ]
    },
    {
      "cell_type": "code",
      "metadata": {
        "id": "lnOFQSAkdvz0"
      },
      "source": [
        "from sklearn import preprocessing\n",
        "\n",
        "le = preprocessing.LabelEncoder()\n",
        "le.fit(data['class'])\n",
        "Ordinal_Y = le.transform(data['class']) \n",
        "Y_O = pd.DataFrame(Ordinal_Y)\n",
        "Y_O.columns = ['Y']\n",
        "\n",
        "data = pd.concat([data,Y_O], axis=1)\n",
        "data.head()\n",
        "\n",
        "#le.inverse_transform([0, 1, 2, 3, 4])"
      ],
      "execution_count": null,
      "outputs": []
    },
    {
      "cell_type": "markdown",
      "metadata": {
        "id": "KulgLF7i23TQ"
      },
      "source": [
        "# Shuffle and Imputation"
      ]
    },
    {
      "cell_type": "markdown",
      "metadata": {
        "id": "MXQsm_9b5zLa"
      },
      "source": [
        "> * Shuffle"
      ]
    },
    {
      "cell_type": "code",
      "metadata": {
        "id": "ckoF7pq6271w"
      },
      "source": [
        "from sklearn.utils import shuffle\n",
        "\n",
        "data = shuffle(data, random_state=42)\n",
        "data = data.reset_index()\n",
        "\n",
        "X = data.loc[:,'Jmag (1.22u)':'160u flux']\n",
        "Y = data.loc[:,'y1':'y5']\n",
        "categories = data['class']\n",
        "\n",
        "data.head()"
      ],
      "execution_count": null,
      "outputs": []
    },
    {
      "cell_type": "markdown",
      "metadata": {
        "id": "rwUt_EBP54nz"
      },
      "source": [
        "> * Iterative Imputer"
      ]
    },
    {
      "cell_type": "code",
      "metadata": {
        "id": "GWhounh13aRf"
      },
      "source": [
        "from sklearn.experimental import enable_iterative_imputer\n",
        "from sklearn.impute import IterativeImputer\n",
        "\n",
        "imp = IterativeImputer()\n",
        "imp_data = imp.fit_transform(X)\n",
        "X = pd.DataFrame(imp_data, columns= X.columns)"
      ],
      "execution_count": null,
      "outputs": []
    }
  ]
}