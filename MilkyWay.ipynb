{
  "nbformat": 4,
  "nbformat_minor": 0,
  "metadata": {
    "colab": {
      "name": "Copy of MilkyWay.ipynb",
      "provenance": [],
      "collapsed_sections": [
        "XOukgp88eK_l"
      ],
      "authorship_tag": "ABX9TyPgrcLdt5WYSK/Seq9nU3Ch",
      "include_colab_link": true
    },
    "kernelspec": {
      "name": "python3",
      "display_name": "Python 3"
    },
    "language_info": {
      "name": "python"
    }
  },
  "cells": [
    {
      "cell_type": "markdown",
      "metadata": {
        "id": "view-in-github",
        "colab_type": "text"
      },
      "source": [
        "<a href=\"https://colab.research.google.com/github/Churchiill/MilkywayFormation/blob/main/MilkyWay.ipynb\" target=\"_parent\"><img src=\"https://colab.research.google.com/assets/colab-badge.svg\" alt=\"Open In Colab\"/></a>"
      ]
    },
    {
      "cell_type": "markdown",
      "metadata": {
        "id": "XOukgp88eK_l"
      },
      "source": [
        "# Pre"
      ]
    },
    {
      "cell_type": "code",
      "metadata": {
        "id": "_xYXTtukc4Oe"
      },
      "source": [
        "import pandas as pd\n",
        "import numpy as np\n",
        "import matplotlib.pyplot as plt\n",
        "import io, requests, zipfile\n",
        "\n",
        "\n",
        "# plt.rcParams.update({'font.size': 20, 'figsize':(8,6)})\n",
        "\n",
        "SMALL_SIZE = 12\n",
        "MEDIUM_SIZE = 15\n",
        "BIGGER_SIZE = 18\n",
        "\n",
        "plt.rc('font', size=BIGGER_SIZE)          # controls default text sizes\n",
        "plt.rc('axes', titlesize=MEDIUM_SIZE)     # fontsize of the axes title\n",
        "plt.rc('axes', labelsize=BIGGER_SIZE)    # fontsize of the x and y labels\n",
        "plt.rc('xtick', labelsize=SMALL_SIZE)    # fontsize of the tick labels\n",
        "plt.rc('ytick', labelsize=SMALL_SIZE)    # fontsize of the tick labels\n",
        "plt.rc('legend', fontsize=MEDIUM_SIZE)    # legend fontsize\n",
        "plt.rc('figure', titlesize=BIGGER_SIZE)  # fontsize of the figure title\n",
        "\n",
        "plt.rc('axes', linewidth = 5 )\n",
        "plt.rc('lines', linewidth = 5 )\n",
        "\n",
        "plt.rc('lines', markersize = 5 )\n",
        "\n",
        "plt.rc('figure', figsize=(8,4) )         # Image size"
      ],
      "execution_count": 1,
      "outputs": []
    },
    {
      "cell_type": "markdown",
      "metadata": {
        "id": "xH-4ovD772js"
      },
      "source": [
        "# Import data"
      ]
    },
    {
      "cell_type": "code",
      "metadata": {
        "colab": {
          "base_uri": "https://localhost:8080/"
        },
        "id": "41fMnJI4lMll",
        "outputId": "2643742a-c9b3-4ffa-d903-5480fb593930"
      },
      "source": [
        "from google.colab import drive\n",
        "\n",
        "drive.mount('/content/drive')"
      ],
      "execution_count": 2,
      "outputs": [
        {
          "output_type": "stream",
          "text": [
            "Mounted at /content/drive\n"
          ],
          "name": "stdout"
        }
      ]
    },
    {
      "cell_type": "code",
      "metadata": {
        "id": "uTgdqD2gnxS2"
      },
      "source": [
        "!pip install pyunpack\n",
        "!pip install patool\n",
        "from pyunpack import Archive\n",
        "Archive('/content/drive/MyDrive/phot.tar.gz').extractall('/content/drive/MyDrive')"
      ],
      "execution_count": null,
      "outputs": []
    },
    {
      "cell_type": "code",
      "metadata": {
        "id": "xQCoIerEvB5t"
      },
      "source": [
        "import pandas as pd\n",
        "from pathlib import Path\n",
        "import csv\n",
        "\n",
        "files = Path(\"/content/drive/MyDrive/phot/I\").rglob(\"*.dat\")\n",
        "\n",
        "#f = open(\"/content/drive/MyDrive/shittt.csv\", \"x\")\n",
        "i = 0\n",
        "\n",
        "\n",
        "for file in files:\n",
        "  datContent = [i.strip().split() for i in open(file).readlines()]\n",
        "\n",
        "  # write it as a new CSV file\n",
        "  with open(\"/content/drive/MyDrive/shittt.csv\", \"w\") as f:\n",
        "    writer = csv.writer(f)\n",
        "    writer.writerows(datContent)\n",
        "\n",
        "  df = pd.read_csv(\"/content/drive/MyDrive/shittt.csv\", names=['a','b','c']) \n",
        "  if i==1:\n",
        "    data = pd.concat([data,df])\n",
        "  else:\n",
        "    data = df\n",
        "  \n",
        "  i = 1\n",
        "\n"
      ],
      "execution_count": null,
      "outputs": []
    },
    {
      "cell_type": "code",
      "metadata": {
        "colab": {
          "base_uri": "https://localhost:8080/",
          "height": 419
        },
        "id": "D7m72q7zyTAS",
        "outputId": "ad8f2011-5ae3-4f70-b8e0-fd9849d96a89"
      },
      "source": [
        "data.reset_index(drop=True)"
      ],
      "execution_count": null,
      "outputs": [
        {
          "output_type": "execute_result",
          "data": {
            "text/html": [
              "<div>\n",
              "<style scoped>\n",
              "    .dataframe tbody tr th:only-of-type {\n",
              "        vertical-align: middle;\n",
              "    }\n",
              "\n",
              "    .dataframe tbody tr th {\n",
              "        vertical-align: top;\n",
              "    }\n",
              "\n",
              "    .dataframe thead th {\n",
              "        text-align: right;\n",
              "    }\n",
              "</style>\n",
              "<table border=\"1\" class=\"dataframe\">\n",
              "  <thead>\n",
              "    <tr style=\"text-align: right;\">\n",
              "      <th></th>\n",
              "      <th>a</th>\n",
              "      <th>b</th>\n",
              "      <th>c</th>\n",
              "    </tr>\n",
              "  </thead>\n",
              "  <tbody>\n",
              "    <tr>\n",
              "      <th>0</th>\n",
              "      <td>2171.88226</td>\n",
              "      <td>18.316</td>\n",
              "      <td>0.035</td>\n",
              "    </tr>\n",
              "    <tr>\n",
              "      <th>1</th>\n",
              "      <td>2183.84165</td>\n",
              "      <td>18.256</td>\n",
              "      <td>0.045</td>\n",
              "    </tr>\n",
              "    <tr>\n",
              "      <th>2</th>\n",
              "      <td>2184.84118</td>\n",
              "      <td>17.774</td>\n",
              "      <td>0.026</td>\n",
              "    </tr>\n",
              "    <tr>\n",
              "      <th>3</th>\n",
              "      <td>2191.81204</td>\n",
              "      <td>17.933</td>\n",
              "      <td>0.019</td>\n",
              "    </tr>\n",
              "    <tr>\n",
              "      <th>4</th>\n",
              "      <td>2200.82188</td>\n",
              "      <td>18.295</td>\n",
              "      <td>0.027</td>\n",
              "    </tr>\n",
              "    <tr>\n",
              "      <th>...</th>\n",
              "      <td>...</td>\n",
              "      <td>...</td>\n",
              "      <td>...</td>\n",
              "    </tr>\n",
              "    <tr>\n",
              "      <th>39609</th>\n",
              "      <td>4441.66735</td>\n",
              "      <td>17.822</td>\n",
              "      <td>0.022</td>\n",
              "    </tr>\n",
              "    <tr>\n",
              "      <th>39610</th>\n",
              "      <td>4485.85627</td>\n",
              "      <td>17.260</td>\n",
              "      <td>0.016</td>\n",
              "    </tr>\n",
              "    <tr>\n",
              "      <th>39611</th>\n",
              "      <td>4492.84004</td>\n",
              "      <td>17.283</td>\n",
              "      <td>0.021</td>\n",
              "    </tr>\n",
              "    <tr>\n",
              "      <th>39612</th>\n",
              "      <td>4494.77086</td>\n",
              "      <td>17.852</td>\n",
              "      <td>0.021</td>\n",
              "    </tr>\n",
              "    <tr>\n",
              "      <th>39613</th>\n",
              "      <td>4525.67183</td>\n",
              "      <td>17.517</td>\n",
              "      <td>0.016</td>\n",
              "    </tr>\n",
              "  </tbody>\n",
              "</table>\n",
              "<p>39614 rows × 3 columns</p>\n",
              "</div>"
            ],
            "text/plain": [
              "                a       b      c\n",
              "0      2171.88226  18.316  0.035\n",
              "1      2183.84165  18.256  0.045\n",
              "2      2184.84118  17.774  0.026\n",
              "3      2191.81204  17.933  0.019\n",
              "4      2200.82188  18.295  0.027\n",
              "...           ...     ...    ...\n",
              "39609  4441.66735  17.822  0.022\n",
              "39610  4485.85627  17.260  0.016\n",
              "39611  4492.84004  17.283  0.021\n",
              "39612  4494.77086  17.852  0.021\n",
              "39613  4525.67183  17.517  0.016\n",
              "\n",
              "[39614 rows x 3 columns]"
            ]
          },
          "metadata": {
            "tags": []
          },
          "execution_count": 58
        }
      ]
    },
    {
      "cell_type": "code",
      "metadata": {
        "colab": {
          "base_uri": "https://localhost:8080/",
          "height": 419
        },
        "id": "MJ32T6kvNim-",
        "outputId": "df611829-d1d7-45a9-8fb8-6a379d4a4f70"
      },
      "source": [
        "aa = pd.concat([df1,df2], axis=1)\n",
        "aa"
      ],
      "execution_count": 18,
      "outputs": [
        {
          "output_type": "execute_result",
          "data": {
            "text/html": [
              "<div>\n",
              "<style scoped>\n",
              "    .dataframe tbody tr th:only-of-type {\n",
              "        vertical-align: middle;\n",
              "    }\n",
              "\n",
              "    .dataframe tbody tr th {\n",
              "        vertical-align: top;\n",
              "    }\n",
              "\n",
              "    .dataframe thead th {\n",
              "        text-align: right;\n",
              "    }\n",
              "</style>\n",
              "<table border=\"1\" class=\"dataframe\">\n",
              "  <thead>\n",
              "    <tr style=\"text-align: right;\">\n",
              "      <th></th>\n",
              "      <th>a</th>\n",
              "      <th>b</th>\n",
              "      <th>c</th>\n",
              "      <th>a</th>\n",
              "      <th>b</th>\n",
              "      <th>c</th>\n",
              "    </tr>\n",
              "  </thead>\n",
              "  <tbody>\n",
              "    <tr>\n",
              "      <th>0</th>\n",
              "      <td>2123.93450</td>\n",
              "      <td>17.836</td>\n",
              "      <td>0.025</td>\n",
              "      <td>2187.85691</td>\n",
              "      <td>17.026</td>\n",
              "      <td>0.016</td>\n",
              "    </tr>\n",
              "    <tr>\n",
              "      <th>1</th>\n",
              "      <td>2130.92356</td>\n",
              "      <td>17.900</td>\n",
              "      <td>0.028</td>\n",
              "      <td>2194.82402</td>\n",
              "      <td>16.824</td>\n",
              "      <td>0.012</td>\n",
              "    </tr>\n",
              "    <tr>\n",
              "      <th>2</th>\n",
              "      <td>2131.92535</td>\n",
              "      <td>17.775</td>\n",
              "      <td>0.029</td>\n",
              "      <td>2206.83315</td>\n",
              "      <td>16.770</td>\n",
              "      <td>0.014</td>\n",
              "    </tr>\n",
              "    <tr>\n",
              "      <th>3</th>\n",
              "      <td>2132.92352</td>\n",
              "      <td>17.919</td>\n",
              "      <td>0.028</td>\n",
              "      <td>2216.82421</td>\n",
              "      <td>16.977</td>\n",
              "      <td>0.013</td>\n",
              "    </tr>\n",
              "    <tr>\n",
              "      <th>4</th>\n",
              "      <td>2134.92508</td>\n",
              "      <td>17.779</td>\n",
              "      <td>0.026</td>\n",
              "      <td>2225.75888</td>\n",
              "      <td>16.914</td>\n",
              "      <td>0.012</td>\n",
              "    </tr>\n",
              "    <tr>\n",
              "      <th>...</th>\n",
              "      <td>...</td>\n",
              "      <td>...</td>\n",
              "      <td>...</td>\n",
              "      <td>...</td>\n",
              "      <td>...</td>\n",
              "      <td>...</td>\n",
              "    </tr>\n",
              "    <tr>\n",
              "      <th>381</th>\n",
              "      <td>4530.63068</td>\n",
              "      <td>17.948</td>\n",
              "      <td>0.026</td>\n",
              "      <td>NaN</td>\n",
              "      <td>NaN</td>\n",
              "      <td>NaN</td>\n",
              "    </tr>\n",
              "    <tr>\n",
              "      <th>382</th>\n",
              "      <td>4532.65643</td>\n",
              "      <td>17.999</td>\n",
              "      <td>0.027</td>\n",
              "      <td>NaN</td>\n",
              "      <td>NaN</td>\n",
              "      <td>NaN</td>\n",
              "    </tr>\n",
              "    <tr>\n",
              "      <th>383</th>\n",
              "      <td>4536.62867</td>\n",
              "      <td>17.723</td>\n",
              "      <td>0.020</td>\n",
              "      <td>NaN</td>\n",
              "      <td>NaN</td>\n",
              "      <td>NaN</td>\n",
              "    </tr>\n",
              "    <tr>\n",
              "      <th>384</th>\n",
              "      <td>4539.51064</td>\n",
              "      <td>17.911</td>\n",
              "      <td>0.026</td>\n",
              "      <td>NaN</td>\n",
              "      <td>NaN</td>\n",
              "      <td>NaN</td>\n",
              "    </tr>\n",
              "    <tr>\n",
              "      <th>385</th>\n",
              "      <td>4541.61978</td>\n",
              "      <td>17.970</td>\n",
              "      <td>0.031</td>\n",
              "      <td>NaN</td>\n",
              "      <td>NaN</td>\n",
              "      <td>NaN</td>\n",
              "    </tr>\n",
              "  </tbody>\n",
              "</table>\n",
              "<p>386 rows × 6 columns</p>\n",
              "</div>"
            ],
            "text/plain": [
              "              a       b      c           a       b      c\n",
              "0    2123.93450  17.836  0.025  2187.85691  17.026  0.016\n",
              "1    2130.92356  17.900  0.028  2194.82402  16.824  0.012\n",
              "2    2131.92535  17.775  0.029  2206.83315  16.770  0.014\n",
              "3    2132.92352  17.919  0.028  2216.82421  16.977  0.013\n",
              "4    2134.92508  17.779  0.026  2225.75888  16.914  0.012\n",
              "..          ...     ...    ...         ...     ...    ...\n",
              "381  4530.63068  17.948  0.026         NaN     NaN    NaN\n",
              "382  4532.65643  17.999  0.027         NaN     NaN    NaN\n",
              "383  4536.62867  17.723  0.020         NaN     NaN    NaN\n",
              "384  4539.51064  17.911  0.026         NaN     NaN    NaN\n",
              "385  4541.61978  17.970  0.031         NaN     NaN    NaN\n",
              "\n",
              "[386 rows x 6 columns]"
            ]
          },
          "metadata": {
            "tags": []
          },
          "execution_count": 18
        }
      ]
    },
    {
      "cell_type": "code",
      "metadata": {
        "id": "CJVt9aE8-cqv"
      },
      "source": [
        "import csv\n",
        "\n",
        "# read .dat to a list of lists\n",
        "datContent = [i.strip().split() for i in open(\"/content/drive/MyDrive/phot/I/OGLE-LMC-ACEP-074.dat\").readlines()]\n",
        "\n",
        "#f = open(\"/content/drive/MyDrive/shitt.csv\", \"x\")\n",
        "\n",
        "# write it as a new CSV file\n",
        "with open(\"/content/drive/MyDrive/shitt.csv\", \"w\") as f:\n",
        "    writer = csv.writer(f)\n",
        "    writer.writerows(datContent)\n",
        "\n",
        "df2 = pd.read_csv(\"/content/drive/MyDrive/shitt.csv\", names=['a','b','c']) \n",
        "df2.tail()\n"
      ],
      "execution_count": null,
      "outputs": []
    }
  ]
}