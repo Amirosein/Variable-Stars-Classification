{
  "nbformat": 4,
  "nbformat_minor": 0,
  "metadata": {
    "colab": {
      "name": "MilkyWay.ipynb",
      "provenance": [],
      "collapsed_sections": [
        "XOukgp88eK_l",
        "xH-4ovD772js",
        "p5FHKI9iTswZ",
        "MVmL3FNHUWM2",
        "J51IgS8KLi7v",
        "B157wdZPQfQu",
        "FZhVc_ZTFOT8",
        "a5OReM0_lSgf",
        "QSr0e09B93k5",
        "SGvHETHRw1--",
        "H0C2RDAcZQiA",
        "fhEy6UiL_mtI",
        "1GigYWolvaee",
        "tsmxDY7NwvS_",
        "9sCGy8cPpifG"
      ],
      "authorship_tag": "ABX9TyNaJfaxy9JY+21sML3tTCuv",
      "include_colab_link": true
    },
    "kernelspec": {
      "name": "python3",
      "display_name": "Python 3"
    },
    "language_info": {
      "name": "python"
    }
  },
  "cells": [
    {
      "cell_type": "markdown",
      "metadata": {
        "id": "view-in-github",
        "colab_type": "text"
      },
      "source": [
        "<a href=\"https://colab.research.google.com/github/Amirosein/Variable-Stars-Classification/blob/main/MilkyWay.ipynb\" target=\"_parent\"><img src=\"https://colab.research.google.com/assets/colab-badge.svg\" alt=\"Open In Colab\"/></a>"
      ]
    },
    {
      "cell_type": "markdown",
      "metadata": {
        "id": "xjjCgvjYZTXa"
      },
      "source": [
        "# Milky Way Formation History\n",
        "* Classification part"
      ]
    },
    {
      "cell_type": "markdown",
      "metadata": {
        "id": "XOukgp88eK_l"
      },
      "source": [
        "# Pre"
      ]
    },
    {
      "cell_type": "code",
      "metadata": {
        "id": "_xYXTtukc4Oe",
        "colab": {
          "base_uri": "https://localhost:8080/"
        },
        "outputId": "d1500aac-46af-48d6-b7fe-48fa8886fec1"
      },
      "source": [
        "import pandas as pd\n",
        "import numpy as np\n",
        "import matplotlib.pyplot as plt\n",
        "import io, requests, zipfile\n",
        "from zipfile import ZipFile\n",
        "import seaborn as sns\n",
        "\n",
        "!pip install tsfresh\n",
        "from tsfresh import extract_features\n",
        "\n",
        "!pip install pyunpack\n",
        "!pip install patool\n",
        "from pyunpack import Archive\n",
        "\n",
        "import warnings\n",
        "warnings.filterwarnings('ignore')\n",
        "\n",
        "\n",
        "# plt.rcParams.update({'font.size': 20, 'figsize':(8,6)})\n",
        "SMALL_SIZE = 12\n",
        "MEDIUM_SIZE = 15\n",
        "BIGGER_SIZE = 18\n",
        "\n",
        "plt.rc('font', size=BIGGER_SIZE)          # controls default text sizes\n",
        "plt.rc('axes', titlesize=MEDIUM_SIZE)     # fontsize of the axes title\n",
        "plt.rc('axes', labelsize=BIGGER_SIZE)    # fontsize of the x and y labels\n",
        "plt.rc('xtick', labelsize=SMALL_SIZE)    # fontsize of the tick labels\n",
        "plt.rc('ytick', labelsize=SMALL_SIZE)    # fontsize of the tick labels\n",
        "plt.rc('legend', fontsize=MEDIUM_SIZE)    # legend fontsize\n",
        "plt.rc('figure', titlesize=BIGGER_SIZE)  # fontsize of the figure title\n",
        "\n",
        "plt.rc('axes', linewidth = 5 )\n",
        "plt.rc('lines', linewidth = 5 )\n",
        "\n",
        "plt.rc('lines', markersize = 5 )\n",
        "\n",
        "plt.rc('figure', figsize=(8,4) )         # Image size"
      ],
      "execution_count": null,
      "outputs": [
        {
          "output_type": "stream",
          "name": "stdout",
          "text": [
            "Requirement already satisfied: tsfresh in /usr/local/lib/python3.7/dist-packages (0.19.0)\n",
            "Requirement already satisfied: cloudpickle in /usr/local/lib/python3.7/dist-packages (from tsfresh) (2.0.0)\n",
            "Requirement already satisfied: statsmodels>=0.13 in /usr/local/lib/python3.7/dist-packages (from tsfresh) (0.13.1)\n",
            "Requirement already satisfied: patsy>=0.4.1 in /usr/local/lib/python3.7/dist-packages (from tsfresh) (0.5.2)\n",
            "Requirement already satisfied: dask[dataframe]>=2.9.0 in /usr/local/lib/python3.7/dist-packages (from tsfresh) (2.12.0)\n",
            "Requirement already satisfied: matrixprofile<2.0.0,>=1.1.10 in /usr/local/lib/python3.7/dist-packages (from tsfresh) (1.1.10)\n",
            "Requirement already satisfied: scikit-learn>=0.22.0 in /usr/local/lib/python3.7/dist-packages (from tsfresh) (1.0.1)\n",
            "Requirement already satisfied: distributed>=2.11.0 in /usr/local/lib/python3.7/dist-packages (from tsfresh) (2.30.1)\n",
            "Requirement already satisfied: scipy>=1.2.0 in /usr/local/lib/python3.7/dist-packages (from tsfresh) (1.7.3)\n",
            "Requirement already satisfied: pandas>=0.25.0 in /usr/local/lib/python3.7/dist-packages (from tsfresh) (1.1.5)\n",
            "Requirement already satisfied: numpy>=1.15.1 in /usr/local/lib/python3.7/dist-packages (from tsfresh) (1.19.5)\n",
            "Requirement already satisfied: tqdm>=4.10.0 in /usr/local/lib/python3.7/dist-packages (from tsfresh) (4.62.3)\n",
            "Requirement already satisfied: requests>=2.9.1 in /usr/local/lib/python3.7/dist-packages (from tsfresh) (2.23.0)\n",
            "Requirement already satisfied: stumpy>=1.7.2 in /usr/local/lib/python3.7/dist-packages (from tsfresh) (1.10.2)\n",
            "Requirement already satisfied: partd>=0.3.10 in /usr/local/lib/python3.7/dist-packages (from dask[dataframe]>=2.9.0->tsfresh) (1.2.0)\n",
            "Requirement already satisfied: fsspec>=0.6.0 in /usr/local/lib/python3.7/dist-packages (from dask[dataframe]>=2.9.0->tsfresh) (2021.11.1)\n",
            "Requirement already satisfied: toolz>=0.7.3 in /usr/local/lib/python3.7/dist-packages (from dask[dataframe]>=2.9.0->tsfresh) (0.11.2)\n",
            "Requirement already satisfied: psutil>=5.0 in /usr/local/lib/python3.7/dist-packages (from distributed>=2.11.0->tsfresh) (5.4.8)\n",
            "Requirement already satisfied: click>=6.6 in /usr/local/lib/python3.7/dist-packages (from distributed>=2.11.0->tsfresh) (7.1.2)\n",
            "Requirement already satisfied: setuptools in /usr/local/lib/python3.7/dist-packages (from distributed>=2.11.0->tsfresh) (57.4.0)\n",
            "Requirement already satisfied: zict>=0.1.3 in /usr/local/lib/python3.7/dist-packages (from distributed>=2.11.0->tsfresh) (2.0.0)\n",
            "Requirement already satisfied: pyyaml in /usr/local/lib/python3.7/dist-packages (from distributed>=2.11.0->tsfresh) (3.13)\n",
            "Requirement already satisfied: msgpack>=0.6.0 in /usr/local/lib/python3.7/dist-packages (from distributed>=2.11.0->tsfresh) (1.0.3)\n",
            "Requirement already satisfied: sortedcontainers!=2.0.0,!=2.0.1 in /usr/local/lib/python3.7/dist-packages (from distributed>=2.11.0->tsfresh) (2.4.0)\n",
            "Requirement already satisfied: tblib>=1.6.0 in /usr/local/lib/python3.7/dist-packages (from distributed>=2.11.0->tsfresh) (1.7.0)\n",
            "Requirement already satisfied: tornado>=5 in /usr/local/lib/python3.7/dist-packages (from distributed>=2.11.0->tsfresh) (5.1.1)\n",
            "Requirement already satisfied: matplotlib>=3.0.3 in /usr/local/lib/python3.7/dist-packages (from matrixprofile<2.0.0,>=1.1.10->tsfresh) (3.2.2)\n",
            "Requirement already satisfied: protobuf==3.11.2 in /usr/local/lib/python3.7/dist-packages (from matrixprofile<2.0.0,>=1.1.10->tsfresh) (3.11.2)\n",
            "Requirement already satisfied: six>=1.9 in /usr/local/lib/python3.7/dist-packages (from protobuf==3.11.2->matrixprofile<2.0.0,>=1.1.10->tsfresh) (1.15.0)\n",
            "Requirement already satisfied: python-dateutil>=2.1 in /usr/local/lib/python3.7/dist-packages (from matplotlib>=3.0.3->matrixprofile<2.0.0,>=1.1.10->tsfresh) (2.8.2)\n",
            "Requirement already satisfied: kiwisolver>=1.0.1 in /usr/local/lib/python3.7/dist-packages (from matplotlib>=3.0.3->matrixprofile<2.0.0,>=1.1.10->tsfresh) (1.3.2)\n",
            "Requirement already satisfied: pyparsing!=2.0.4,!=2.1.2,!=2.1.6,>=2.0.1 in /usr/local/lib/python3.7/dist-packages (from matplotlib>=3.0.3->matrixprofile<2.0.0,>=1.1.10->tsfresh) (3.0.6)\n",
            "Requirement already satisfied: cycler>=0.10 in /usr/local/lib/python3.7/dist-packages (from matplotlib>=3.0.3->matrixprofile<2.0.0,>=1.1.10->tsfresh) (0.11.0)\n",
            "Requirement already satisfied: pytz>=2017.2 in /usr/local/lib/python3.7/dist-packages (from pandas>=0.25.0->tsfresh) (2018.9)\n",
            "Requirement already satisfied: locket in /usr/local/lib/python3.7/dist-packages (from partd>=0.3.10->dask[dataframe]>=2.9.0->tsfresh) (0.2.1)\n",
            "Requirement already satisfied: certifi>=2017.4.17 in /usr/local/lib/python3.7/dist-packages (from requests>=2.9.1->tsfresh) (2021.10.8)\n",
            "Requirement already satisfied: idna<3,>=2.5 in /usr/local/lib/python3.7/dist-packages (from requests>=2.9.1->tsfresh) (2.10)\n",
            "Requirement already satisfied: urllib3!=1.25.0,!=1.25.1,<1.26,>=1.21.1 in /usr/local/lib/python3.7/dist-packages (from requests>=2.9.1->tsfresh) (1.24.3)\n",
            "Requirement already satisfied: chardet<4,>=3.0.2 in /usr/local/lib/python3.7/dist-packages (from requests>=2.9.1->tsfresh) (3.0.4)\n",
            "Requirement already satisfied: joblib>=0.11 in /usr/local/lib/python3.7/dist-packages (from scikit-learn>=0.22.0->tsfresh) (1.1.0)\n",
            "Requirement already satisfied: threadpoolctl>=2.0.0 in /usr/local/lib/python3.7/dist-packages (from scikit-learn>=0.22.0->tsfresh) (3.0.0)\n",
            "Requirement already satisfied: numba>=0.48 in /usr/local/lib/python3.7/dist-packages (from stumpy>=1.7.2->tsfresh) (0.51.2)\n",
            "Requirement already satisfied: llvmlite<0.35,>=0.34.0.dev0 in /usr/local/lib/python3.7/dist-packages (from numba>=0.48->stumpy>=1.7.2->tsfresh) (0.34.0)\n",
            "Requirement already satisfied: heapdict in /usr/local/lib/python3.7/dist-packages (from zict>=0.1.3->distributed>=2.11.0->tsfresh) (1.0.1)\n",
            "Collecting pyunpack\n",
            "  Downloading pyunpack-0.2.2-py2.py3-none-any.whl (3.8 kB)\n",
            "Collecting entrypoint2\n",
            "  Downloading entrypoint2-0.2.4-py3-none-any.whl (6.2 kB)\n",
            "Collecting easyprocess\n",
            "  Downloading EasyProcess-0.3-py2.py3-none-any.whl (7.9 kB)\n",
            "Installing collected packages: entrypoint2, easyprocess, pyunpack\n",
            "Successfully installed easyprocess-0.3 entrypoint2-0.2.4 pyunpack-0.2.2\n",
            "Collecting patool\n",
            "  Downloading patool-1.12-py2.py3-none-any.whl (77 kB)\n",
            "\u001b[K     |████████████████████████████████| 77 kB 2.4 MB/s \n",
            "\u001b[?25hInstalling collected packages: patool\n",
            "Successfully installed patool-1.12\n"
          ]
        }
      ]
    },
    {
      "cell_type": "markdown",
      "metadata": {
        "id": "pg9kRo7v7bY_"
      },
      "source": [
        "> * **Save file function**"
      ]
    },
    {
      "cell_type": "code",
      "metadata": {
        "id": "y0dtYscheD6j"
      },
      "source": [
        "def savefile(df,name):\n",
        "  t = df\n",
        "  t.to_csv(name, header=True, index=True)\n",
        "  return 0"
      ],
      "execution_count": null,
      "outputs": []
    },
    {
      "cell_type": "markdown",
      "metadata": {
        "id": "xH-4ovD772js"
      },
      "source": [
        "# Mount drive"
      ]
    },
    {
      "cell_type": "code",
      "metadata": {
        "colab": {
          "base_uri": "https://localhost:8080/"
        },
        "id": "41fMnJI4lMll",
        "outputId": "e5377706-163c-435f-adc5-3eb8198423bc"
      },
      "source": [
        "from google.colab import drive\n",
        "\n",
        "drive.mount('/content/drive')"
      ],
      "execution_count": null,
      "outputs": [
        {
          "output_type": "stream",
          "name": "stdout",
          "text": [
            "Mounted at /content/drive\n"
          ]
        }
      ]
    },
    {
      "cell_type": "markdown",
      "metadata": {
        "id": "p5FHKI9iTswZ"
      },
      "source": [
        "# Convert Dat. files to a CSV Function\n"
      ]
    },
    {
      "cell_type": "code",
      "metadata": {
        "id": "eppPUCj6QtAo"
      },
      "source": [
        "import pandas as pd\n",
        "from pathlib import Path\n",
        "import csv\n",
        "from pathlib import Path\n",
        "\n",
        "f = open(\"/content/draft.csv\", \"x\")\n",
        "\n",
        "# function\n",
        "def data2csv(path, var, os):\n",
        "  files = Path(path).rglob(\"*.dat\")\n",
        "\n",
        "  i = 0\n",
        "\n",
        "  for file in files:\n",
        "    datContent = [i.strip().split() for i in open(file).readlines()]\n",
        "    id = os +'-'+ Path(file).stem\n",
        "    \n",
        "    # write it as a new CSV file\n",
        "    with open(\"/content/draft.csv\", \"w\") as f:\n",
        "      writer = csv.writer(f)\n",
        "      writer.writerows(datContent)\n",
        "\n",
        "    df = pd.read_csv(\"/content/draft.csv\", names=['time','value','e']) \n",
        "    df = df[['time','value']]\n",
        "    df['id'] = id\n",
        "    df['kind'] = var\n",
        "\n",
        "    if i==0:\n",
        "      data = df\n",
        "    else:\n",
        "      data = pd.concat([data,df], axis=0)\n",
        "\n",
        "    i = i+1\n",
        "    #print(i)\n",
        "\n",
        "  return data"
      ],
      "execution_count": null,
      "outputs": []
    },
    {
      "cell_type": "markdown",
      "metadata": {
        "id": "MVmL3FNHUWM2"
      },
      "source": [
        "# Convert and Save data"
      ]
    },
    {
      "cell_type": "code",
      "metadata": {
        "id": "Lx3fKykQk6nB"
      },
      "source": [
        "Archive('/content/drive/MyDrive/LPV.rar').extractall('/content/drive/MyDrive')\n"
      ],
      "execution_count": null,
      "outputs": []
    },
    {
      "cell_type": "markdown",
      "metadata": {
        "id": "Wb6S2lj4Vt8G"
      },
      "source": [
        "> * **LMC**"
      ]
    },
    {
      "cell_type": "code",
      "metadata": {
        "id": "0wCY2HB2rJpB"
      },
      "source": [
        "LMC3_I1 = data2csv('/content/drive/MyDrive/LPV/IIILMC/phot/I/p1', 'I','III')\n",
        "LMC3_I2 = data2csv('/content/drive/MyDrive/LPV/IIILMC/phot/I/p2', 'I','III')\n",
        "LMC3_I3 = data2csv('/content/drive/MyDrive/LPV/IIILMC/phot/I/p3', 'I','III')\n",
        "LMC3_I4 = data2csv('/content/drive/MyDrive/LPV/IIILMC/phot/I/p4', 'I','III')\n",
        "LMC3_I5 = data2csv('/content/drive/MyDrive/LPV/IIILMC/phot/I/p5', 'I','III')\n",
        "LMC3_I6 = data2csv('/content/drive/MyDrive/LPV/IIILMC/phot/I/p6', 'I','III')\n",
        "LMC3_I7 = data2csv('/content/drive/MyDrive/LPV/IIILMC/phot/I/p7', 'I','III')\n",
        "LMC3_I8 = data2csv('/content/drive/MyDrive/LPV/IIILMC/phot/I/p8', 'I','III')\n",
        "LMC3_I9 = data2csv('/content/drive/MyDrive/LPV/IIILMC/phot/I/p9', 'I','III')\n",
        "LMC3_I10 = data2csv('/content/drive/MyDrive/LPV/IIILMC/phot/I/p10', 'I','III')\n",
        "LMC3_I11 = data2csv('/content/drive/MyDrive/LPV/IIILMC/phot/I/p11', 'I','III')\n",
        "LMC3_I12 = data2csv('/content/drive/MyDrive/LPV/IIILMC/phot/I/p12', 'I','III')\n",
        "LMC3_I13 = data2csv('/content/drive/MyDrive/LPV/IIILMC/phot/I/p13', 'I','III')\n",
        "LMC3_I14 = data2csv('/content/drive/MyDrive/LPV/IIILMC/phot/I/p14', 'I','III')\n",
        "LMC3_I15 = data2csv('/content/drive/MyDrive/LPV/IIILMC/phot/I/p15', 'I','III')\n",
        "LMC3_I16 = data2csv('/content/drive/MyDrive/LPV/IIILMC/phot/I/p16', 'I','III')\n",
        "LMC3_I17 = data2csv('/content/drive/MyDrive/LPV/IIILMC/phot/I/p17', 'I','III')\n",
        "LMC3_I18 = data2csv('/content/drive/MyDrive/LPV/IIILMC/phot/I/p18', 'I','III')\n",
        "\n",
        "LMC3_I = pd.concat([LMC3_I1,LMC3_I2,LMC3_I3,LMC3_I4,LMC3_I5,LMC3_I6,\n",
        "                    LMC3_I7,LMC3_I8,LMC3_I9,LMC3_I10,LMC3_I11,LMC3_I12,\n",
        "                    LMC3_I13,LMC3_I14,LMC3_I15,LMC3_I16,LMC3_I17,LMC3_I18])\n"
      ],
      "execution_count": null,
      "outputs": []
    },
    {
      "cell_type": "code",
      "metadata": {
        "id": "Nx6csnmMak_E"
      },
      "source": [
        "LMC3_V1 = data2csv('/content/drive/MyDrive/LPV/IIILMC/phot/V/p1', 'V','III')\n",
        "LMC3_V2 = data2csv('/content/drive/MyDrive/LPV/IIILMC/phot/V/p2', 'V','III')\n",
        "LMC3_V3 = data2csv('/content/drive/MyDrive/LPV/IIILMC/phot/V/p3', 'V','III')\n",
        "LMC3_V4 = data2csv('/content/drive/MyDrive/LPV/IIILMC/phot/V/p4', 'V','III')\n",
        "LMC3_V5 = data2csv('/content/drive/MyDrive/LPV/IIILMC/phot/V/p5', 'V','III')\n",
        "LMC3_V6 = data2csv('/content/drive/MyDrive/LPV/IIILMC/phot/V/p6', 'V','III')\n",
        "LMC3_V7 = data2csv('/content/drive/MyDrive/LPV/IIILMC/phot/V/p7', 'V','III')\n",
        "LMC3_V8 = data2csv('/content/drive/MyDrive/LPV/IIILMC/phot/V/p8', 'V','III')\n",
        "LMC3_V9 = data2csv('/content/drive/MyDrive/LPV/IIILMC/phot/V/p9', 'V','III')\n",
        "LMC3_V10 = data2csv('/content/drive/MyDrive/LPV/IIILMC/phot/V/p10', 'V','III')\n",
        "\n",
        "LMC3_V = pd.concat([LMC3_V1,LMC3_V2,LMC3_V3,LMC3_V4,LMC3_V5,LMC3_V6,\n",
        "                    LMC3_V7,LMC3_V8,LMC3_V9,LMC3_V10])\n"
      ],
      "execution_count": null,
      "outputs": []
    },
    {
      "cell_type": "code",
      "metadata": {
        "colab": {
          "base_uri": "https://localhost:8080/",
          "height": 204
        },
        "id": "DmiGHm_mHpSp",
        "outputId": "0593e880-c7fb-4d0c-e68b-c596fec41bfe"
      },
      "source": [
        "LPV_LMC = pd.concat([LMC3_I,LMC3_V])\n",
        "  \n",
        "LPV_LMC['class'] = 'LPV'  \n",
        "savefile(LPV_LMC,'LPV_LMC')\n",
        "LPV_LMC.head()"
      ],
      "execution_count": null,
      "outputs": [
        {
          "output_type": "execute_result",
          "data": {
            "text/html": [
              "<div>\n",
              "<style scoped>\n",
              "    .dataframe tbody tr th:only-of-type {\n",
              "        vertical-align: middle;\n",
              "    }\n",
              "\n",
              "    .dataframe tbody tr th {\n",
              "        vertical-align: top;\n",
              "    }\n",
              "\n",
              "    .dataframe thead th {\n",
              "        text-align: right;\n",
              "    }\n",
              "</style>\n",
              "<table border=\"1\" class=\"dataframe\">\n",
              "  <thead>\n",
              "    <tr style=\"text-align: right;\">\n",
              "      <th></th>\n",
              "      <th>time</th>\n",
              "      <th>value</th>\n",
              "      <th>id</th>\n",
              "      <th>kind</th>\n",
              "      <th>class</th>\n",
              "    </tr>\n",
              "  </thead>\n",
              "  <tbody>\n",
              "    <tr>\n",
              "      <th>0</th>\n",
              "      <td>2171.86025</td>\n",
              "      <td>14.956</td>\n",
              "      <td>III-OGLE-LMC-LPV-00001</td>\n",
              "      <td>I</td>\n",
              "      <td>LPV</td>\n",
              "    </tr>\n",
              "    <tr>\n",
              "      <th>1</th>\n",
              "      <td>2183.81956</td>\n",
              "      <td>14.961</td>\n",
              "      <td>III-OGLE-LMC-LPV-00001</td>\n",
              "      <td>I</td>\n",
              "      <td>LPV</td>\n",
              "    </tr>\n",
              "    <tr>\n",
              "      <th>2</th>\n",
              "      <td>2184.81907</td>\n",
              "      <td>14.961</td>\n",
              "      <td>III-OGLE-LMC-LPV-00001</td>\n",
              "      <td>I</td>\n",
              "      <td>LPV</td>\n",
              "    </tr>\n",
              "    <tr>\n",
              "      <th>3</th>\n",
              "      <td>2188.86966</td>\n",
              "      <td>14.970</td>\n",
              "      <td>III-OGLE-LMC-LPV-00001</td>\n",
              "      <td>I</td>\n",
              "      <td>LPV</td>\n",
              "    </tr>\n",
              "    <tr>\n",
              "      <th>4</th>\n",
              "      <td>2191.78070</td>\n",
              "      <td>14.955</td>\n",
              "      <td>III-OGLE-LMC-LPV-00001</td>\n",
              "      <td>I</td>\n",
              "      <td>LPV</td>\n",
              "    </tr>\n",
              "  </tbody>\n",
              "</table>\n",
              "</div>"
            ],
            "text/plain": [
              "         time   value                      id kind class\n",
              "0  2171.86025  14.956  III-OGLE-LMC-LPV-00001    I   LPV\n",
              "1  2183.81956  14.961  III-OGLE-LMC-LPV-00001    I   LPV\n",
              "2  2184.81907  14.961  III-OGLE-LMC-LPV-00001    I   LPV\n",
              "3  2188.86966  14.970  III-OGLE-LMC-LPV-00001    I   LPV\n",
              "4  2191.78070  14.955  III-OGLE-LMC-LPV-00001    I   LPV"
            ]
          },
          "metadata": {
            "tags": []
          },
          "execution_count": 34
        }
      ]
    },
    {
      "cell_type": "markdown",
      "metadata": {
        "id": "udPcBSbIV39t"
      },
      "source": [
        "> * **SMC**"
      ]
    },
    {
      "cell_type": "code",
      "metadata": {
        "id": "Q-gDT27VRaDd"
      },
      "source": [
        "SMC3_I1 = data2csv('/content/drive/MyDrive/LPV/III/phot/I/p1', 'I','III')\n",
        "SMC3_I2 = data2csv('/content/drive/MyDrive/LPV/III/phot/I/p2', 'I','III')\n",
        "SMC3_I3 = data2csv('/content/drive/MyDrive/LPV/III/phot/I/p3', 'I','III')\n",
        "SMC3_I4 = data2csv('/content/drive/MyDrive/LPV/III/phot/I/p4', 'I','III')\n",
        "SMC3_I = pd.concat([SMC3_I1,SMC3_I2,SMC3_I3,SMC3_I4])\n",
        "\n",
        "savefile(SMC3_I,'SMC3_I')"
      ],
      "execution_count": null,
      "outputs": []
    },
    {
      "cell_type": "code",
      "metadata": {
        "id": "mbRaVFRfTGSJ"
      },
      "source": [
        "SMC3_V1 = data2csv('/content/drive/MyDrive/LPV/III/phot/V/p1', 'V','III')\n",
        "SMC3_V2 = data2csv('/content/drive/MyDrive/LPV/III/phot/V/p2', 'V','III')\n",
        "SMC3_V3 = data2csv('/content/drive/MyDrive/LPV/III/phot/V/p3', 'V','III')\n",
        "SMC3_V4 = data2csv('/content/drive/MyDrive/LPV/III/phot/V/p4', 'V','III')\n",
        "SMC3_V = pd.concat([SMC3_V1,SMC3_V2,SMC3_V3,SMC3_V4])\n",
        "\n",
        "savefile(SMC3_V,'SMC3_V')"
      ],
      "execution_count": null,
      "outputs": []
    },
    {
      "cell_type": "code",
      "metadata": {
        "id": "Qx-HYboOJOwg",
        "colab": {
          "base_uri": "https://localhost:8080/",
          "height": 204
        },
        "outputId": "1c3ca412-8f91-4759-ba7b-cc71836a9f89"
      },
      "source": [
        "LPV_SMC = pd.concat([SMC3_I,SMC3_V])\n",
        "  \n",
        "LPV_SMC['class'] = 'LPV'  \n",
        "savefile(LPV_SMC,'LPV_SMC')\n",
        "LPV_SMC.head()"
      ],
      "execution_count": null,
      "outputs": [
        {
          "output_type": "execute_result",
          "data": {
            "text/html": [
              "<div>\n",
              "<style scoped>\n",
              "    .dataframe tbody tr th:only-of-type {\n",
              "        vertical-align: middle;\n",
              "    }\n",
              "\n",
              "    .dataframe tbody tr th {\n",
              "        vertical-align: top;\n",
              "    }\n",
              "\n",
              "    .dataframe thead th {\n",
              "        text-align: right;\n",
              "    }\n",
              "</style>\n",
              "<table border=\"1\" class=\"dataframe\">\n",
              "  <thead>\n",
              "    <tr style=\"text-align: right;\">\n",
              "      <th></th>\n",
              "      <th>time</th>\n",
              "      <th>value</th>\n",
              "      <th>id</th>\n",
              "      <th>kind</th>\n",
              "      <th>class</th>\n",
              "    </tr>\n",
              "  </thead>\n",
              "  <tbody>\n",
              "    <tr>\n",
              "      <th>0</th>\n",
              "      <td>2088.91535</td>\n",
              "      <td>14.977</td>\n",
              "      <td>III-OGLE-SMC-LPV-00001</td>\n",
              "      <td>I</td>\n",
              "      <td>LPV</td>\n",
              "    </tr>\n",
              "    <tr>\n",
              "      <th>1</th>\n",
              "      <td>2090.87535</td>\n",
              "      <td>14.978</td>\n",
              "      <td>III-OGLE-SMC-LPV-00001</td>\n",
              "      <td>I</td>\n",
              "      <td>LPV</td>\n",
              "    </tr>\n",
              "    <tr>\n",
              "      <th>2</th>\n",
              "      <td>2103.92958</td>\n",
              "      <td>14.980</td>\n",
              "      <td>III-OGLE-SMC-LPV-00001</td>\n",
              "      <td>I</td>\n",
              "      <td>LPV</td>\n",
              "    </tr>\n",
              "    <tr>\n",
              "      <th>3</th>\n",
              "      <td>2104.94812</td>\n",
              "      <td>14.986</td>\n",
              "      <td>III-OGLE-SMC-LPV-00001</td>\n",
              "      <td>I</td>\n",
              "      <td>LPV</td>\n",
              "    </tr>\n",
              "    <tr>\n",
              "      <th>4</th>\n",
              "      <td>2106.84596</td>\n",
              "      <td>14.998</td>\n",
              "      <td>III-OGLE-SMC-LPV-00001</td>\n",
              "      <td>I</td>\n",
              "      <td>LPV</td>\n",
              "    </tr>\n",
              "  </tbody>\n",
              "</table>\n",
              "</div>"
            ],
            "text/plain": [
              "         time   value                      id kind class\n",
              "0  2088.91535  14.977  III-OGLE-SMC-LPV-00001    I   LPV\n",
              "1  2090.87535  14.978  III-OGLE-SMC-LPV-00001    I   LPV\n",
              "2  2103.92958  14.980  III-OGLE-SMC-LPV-00001    I   LPV\n",
              "3  2104.94812  14.986  III-OGLE-SMC-LPV-00001    I   LPV\n",
              "4  2106.84596  14.998  III-OGLE-SMC-LPV-00001    I   LPV"
            ]
          },
          "metadata": {
            "tags": []
          },
          "execution_count": 8
        }
      ]
    },
    {
      "cell_type": "code",
      "metadata": {
        "id": "9_B2zT1KVNUX",
        "colab": {
          "base_uri": "https://localhost:8080/",
          "height": 204
        },
        "outputId": "acd74070-9a76-4794-f111-e577551a92b8"
      },
      "source": [
        "#SMC3 = pd.concat([SMC3_I,SMC3_V])\n",
        "#LMC3 = pd.concat([LMC3_I,LMC3_V])\n",
        "#LMC4 = pd.concat([LMC4_I,LMC4_V])\n",
        "#SMC4 = pd.concat([SMC4_I,SMC4_V])\n",
        "\n",
        "#LPV['class'] = 'LPV' \n",
        "\n",
        "LPV = pd.concat([LPV_LMC,LPV_SMC])\n",
        "\n",
        "savefile(LPV,'LPV')\n",
        "LPV.head()"
      ],
      "execution_count": null,
      "outputs": [
        {
          "output_type": "execute_result",
          "data": {
            "text/html": [
              "<div>\n",
              "<style scoped>\n",
              "    .dataframe tbody tr th:only-of-type {\n",
              "        vertical-align: middle;\n",
              "    }\n",
              "\n",
              "    .dataframe tbody tr th {\n",
              "        vertical-align: top;\n",
              "    }\n",
              "\n",
              "    .dataframe thead th {\n",
              "        text-align: right;\n",
              "    }\n",
              "</style>\n",
              "<table border=\"1\" class=\"dataframe\">\n",
              "  <thead>\n",
              "    <tr style=\"text-align: right;\">\n",
              "      <th></th>\n",
              "      <th>time</th>\n",
              "      <th>value</th>\n",
              "      <th>id</th>\n",
              "      <th>kind</th>\n",
              "      <th>class</th>\n",
              "    </tr>\n",
              "  </thead>\n",
              "  <tbody>\n",
              "    <tr>\n",
              "      <th>0</th>\n",
              "      <td>2171.86025</td>\n",
              "      <td>14.956</td>\n",
              "      <td>III-OGLE-LMC-LPV-00001</td>\n",
              "      <td>I</td>\n",
              "      <td>LPV</td>\n",
              "    </tr>\n",
              "    <tr>\n",
              "      <th>1</th>\n",
              "      <td>2183.81956</td>\n",
              "      <td>14.961</td>\n",
              "      <td>III-OGLE-LMC-LPV-00001</td>\n",
              "      <td>I</td>\n",
              "      <td>LPV</td>\n",
              "    </tr>\n",
              "    <tr>\n",
              "      <th>2</th>\n",
              "      <td>2184.81907</td>\n",
              "      <td>14.961</td>\n",
              "      <td>III-OGLE-LMC-LPV-00001</td>\n",
              "      <td>I</td>\n",
              "      <td>LPV</td>\n",
              "    </tr>\n",
              "    <tr>\n",
              "      <th>3</th>\n",
              "      <td>2188.86966</td>\n",
              "      <td>14.970</td>\n",
              "      <td>III-OGLE-LMC-LPV-00001</td>\n",
              "      <td>I</td>\n",
              "      <td>LPV</td>\n",
              "    </tr>\n",
              "    <tr>\n",
              "      <th>4</th>\n",
              "      <td>2191.78070</td>\n",
              "      <td>14.955</td>\n",
              "      <td>III-OGLE-LMC-LPV-00001</td>\n",
              "      <td>I</td>\n",
              "      <td>LPV</td>\n",
              "    </tr>\n",
              "  </tbody>\n",
              "</table>\n",
              "</div>"
            ],
            "text/plain": [
              "         time   value                      id kind class\n",
              "0  2171.86025  14.956  III-OGLE-LMC-LPV-00001    I   LPV\n",
              "1  2183.81956  14.961  III-OGLE-LMC-LPV-00001    I   LPV\n",
              "2  2184.81907  14.961  III-OGLE-LMC-LPV-00001    I   LPV\n",
              "3  2188.86966  14.970  III-OGLE-LMC-LPV-00001    I   LPV\n",
              "4  2191.78070  14.955  III-OGLE-LMC-LPV-00001    I   LPV"
            ]
          },
          "metadata": {
            "tags": []
          },
          "execution_count": 16
        }
      ]
    },
    {
      "cell_type": "code",
      "metadata": {
        "id": "hvkpVdMBaWaf"
      },
      "source": [
        "zipObj = ZipFile('LPV.zip', 'w', zipfile.ZIP_BZIP2)\n",
        "\n",
        "zipObj.write('/content/LPV')\n",
        "zipObj.close()"
      ],
      "execution_count": null,
      "outputs": []
    },
    {
      "cell_type": "markdown",
      "metadata": {
        "id": "J51IgS8KLi7v"
      },
      "source": [
        "# Feature Selection :"
      ]
    },
    {
      "cell_type": "code",
      "metadata": {
        "id": "ehFzcD8uowT5"
      },
      "source": [
        "Archive('/content/drive/MyDrive/Feature Selection Sample dataset.rar').extractall('/content')"
      ],
      "execution_count": null,
      "outputs": []
    },
    {
      "cell_type": "code",
      "metadata": {
        "id": "uVJGOurURdUc"
      },
      "source": [
        "from tsfresh.feature_extraction import EfficientFCParameters, MinimalFCParameters, ComprehensiveFCParameters\n",
        "\n",
        "def ftrs(X,cls):\n",
        "  m = extract_features(X, column_id=\"id\", column_sort=\"time\", n_jobs= 10,\n",
        "                       column_kind=\"kind\", column_value=\"value\",\n",
        "                       default_fc_parameters = ComprehensiveFCParameters())\n",
        "  m['class'] = cls\n",
        "  return m"
      ],
      "execution_count": null,
      "outputs": []
    },
    {
      "cell_type": "code",
      "metadata": {
        "id": "3iKy4hEAoclb"
      },
      "source": [
        "def dat2feat(urlI,urlV,cls):\n",
        "  mI = data2csv(urlI, 'I','S')\n",
        "  mV = data2csv(urlV, 'V','S')\n",
        "  m = pd.concat([mI,mV])\n",
        "  \n",
        "  f = ftrs(m,cls)\n",
        "\n",
        "  return f"
      ],
      "execution_count": null,
      "outputs": []
    },
    {
      "cell_type": "markdown",
      "metadata": {
        "id": "6BRG6isV2OR1"
      },
      "source": [
        "> * Creating Sample Dataset for Feature Selection"
      ]
    },
    {
      "cell_type": "code",
      "metadata": {
        "colab": {
          "base_uri": "https://localhost:8080/"
        },
        "id": "Iid3_BMarR6Y",
        "outputId": "9cd51bba-dc78-4916-9969-90505bcbb603"
      },
      "source": [
        "ur11 = '/content/Anomalous-Cepheids/I'\n",
        "ur12 = '/content/Anomalous-Cepheids/V'\n",
        "ur21 = '/content/classical-Cepheids/I'\n",
        "ur22 = '/content/classical-Cepheids/V'\n",
        "ur31 = '/content/Double-Period-Variables/I'\n",
        "ur32 = '/content/Double-Period-Variables/V'\n",
        "ur41 = '/content/Eclipsing-and-ellipsoidal-binary-sys/I'\n",
        "ur42 = '/content/Eclipsing-and-ellipsoidal-binary-sys/V'\n",
        "ur51 = '/content/Long-period-variables/I'\n",
        "ur52 = '/content/Long-period-variables/V'\n",
        "ur61 = '/content/R-CrB/I'\n",
        "ur62 = '/content/R-CrB/V'\n",
        "ur71 = '/content/RR-Lyrae/I'\n",
        "ur72 = '/content/RR-Lyrae/V'\n",
        "ur81 = '/content/Type-II-Cepheids/I'\n",
        "ur82 = '/content/Type-II-Cepheids/V'\n",
        "ur91 = '/content/δ-Scuti/I'\n",
        "ur92 = '/content/δ-Scuti/V'\n",
        "\n",
        "\n",
        "ACEP_sf = dat2feat(ur11,ur12,'ACEP')\n",
        "CEP_sf = dat2feat(ur21,ur22,'CEP')\n",
        "DPV_sf = dat2feat(ur31,ur32,'DPV')\n",
        "ECL_sf = dat2feat(ur41,ur42,'ECL')\n",
        "LPV_sf = dat2feat(ur51,ur52,'LPV')\n",
        "RCB_sf = dat2feat(ur61,ur62,'RCB')\n",
        "RRLYR_sf = dat2feat(ur71,ur72,'RRLYR')\n",
        "T2CEP_sf = dat2feat(ur81,ur82,'T2CEP')\n",
        "DSCT_sf = dat2feat(ur91,ur92,'DSCT')\n",
        "\n",
        "data = pd.concat([ACEP_sf, CEP_sf, DPV_sf, ECL_sf, LPV_sf,\n",
        "                  RCB_sf, RRLYR_sf, T2CEP_sf, DSCT_sf])"
      ],
      "execution_count": null,
      "outputs": [
        {
          "output_type": "stream",
          "text": [
            "Feature Extraction: 100%|██████████| 50/50 [01:09<00:00,  1.39s/it]\n",
            "Feature Extraction: 100%|██████████| 49/49 [01:16<00:00,  1.55s/it]\n",
            "Feature Extraction: 100%|██████████| 41/41 [00:57<00:00,  1.40s/it]\n",
            "Feature Extraction: 100%|██████████| 48/48 [01:04<00:00,  1.35s/it]\n",
            "Feature Extraction: 100%|██████████| 50/50 [01:29<00:00,  1.78s/it]\n",
            "Feature Extraction: 100%|██████████| 45/45 [00:09<00:00,  4.61it/s]\n",
            "Feature Extraction: 100%|██████████| 49/49 [01:11<00:00,  1.46s/it]\n",
            "Feature Extraction: 100%|██████████| 44/44 [01:19<00:00,  1.80s/it]\n",
            "Feature Extraction: 100%|██████████| 48/48 [00:41<00:00,  1.16it/s]\n"
          ],
          "name": "stderr"
        }
      ]
    },
    {
      "cell_type": "code",
      "metadata": {
        "id": "sjhoS7-yy6wk"
      },
      "source": [
        "X = data.iloc[:,0:1574]\n",
        "Y = data.loc[:,'class']"
      ],
      "execution_count": null,
      "outputs": []
    },
    {
      "cell_type": "code",
      "metadata": {
        "id": "GEP_6ajW2uXc"
      },
      "source": [
        "# Output Encoding\n",
        "from sklearn.preprocessing import OneHotEncoder\n",
        "\n",
        "a = np.array(Y)\n",
        "OH_Enc = OneHotEncoder( )\n",
        "OH_Encoded = OH_Enc.fit_transform(a.reshape(-1,1)).toarray()\n",
        "OH_Y = pd.DataFrame(OH_Encoded)\n",
        "OH_Y.columns = ['OH1','OH2','OH3','OH4','OH5','OH6','OH7','OH8','OH9']\n",
        "\n",
        "from sklearn import preprocessing\n",
        "\n",
        "LE = preprocessing.LabelEncoder()\n",
        "y = LE.fit_transform(Y)\n",
        "\n",
        "O_Y = pd.DataFrame(y)\n",
        "O_Y.columns = ['OY']"
      ],
      "execution_count": null,
      "outputs": []
    },
    {
      "cell_type": "code",
      "metadata": {
        "id": "5CN8Kk6c3bPM"
      },
      "source": [
        "# Input Imputation\n",
        "\n",
        "from sklearn.experimental import enable_iterative_imputer\n",
        "from sklearn.impute import IterativeImputer\n",
        "\n",
        "nc = X.columns[X.isnull().all()].tolist()\n",
        "X.drop(nc, inplace=True, axis=1)\n",
        "\n",
        "X.replace([np.inf, -np.inf], np.nan, inplace=True)\n",
        "imp = IterativeImputer(n_nearest_features=30)\n",
        "imp_data = imp.fit_transform(X)\n",
        "X = pd.DataFrame(imp_data, columns= X.columns)"
      ],
      "execution_count": null,
      "outputs": []
    },
    {
      "cell_type": "markdown",
      "metadata": {
        "id": "p-fs6DKEwHOR"
      },
      "source": [
        "> * **Relevant Features :**"
      ]
    },
    {
      "cell_type": "code",
      "metadata": {
        "id": "M4GiscpiKJMn",
        "colab": {
          "base_uri": "https://localhost:8080/"
        },
        "outputId": "f6eb1072-b0cc-4862-8744-2124325e8fc8"
      },
      "source": [
        "import tsfresh\n",
        "\n",
        "y = O_Y\n",
        "y = y.squeeze()\n",
        "\n",
        "# which are now filtered to only contain relevant features\n",
        "X_tsfresh_filtered = tsfresh.feature_selection.select_features(X, y, multiclass=True, n_significant=9,\n",
        "                                                               n_jobs=4, ml_task='classification')\n",
        "\n",
        "# construct the corresponding settings object\n",
        "kind_to_fc_parameters = tsfresh.feature_extraction.settings.from_columns(X_tsfresh_filtered)\n",
        "\n",
        "X_tsfresh_filtered.shape"
      ],
      "execution_count": null,
      "outputs": [
        {
          "output_type": "execute_result",
          "data": {
            "text/plain": [
              "(1429, 53)"
            ]
          },
          "metadata": {
            "tags": []
          },
          "execution_count": 16
        }
      ]
    },
    {
      "cell_type": "code",
      "metadata": {
        "id": "pMdeoB-5HdjE"
      },
      "source": [
        "import pickle\n",
        "\n",
        "a_file = open(\"ktfcp.pkl\", \"wb\")\n",
        "pickle.dump(kind_to_fc_parameters, a_file)\n",
        "a_file.close()"
      ],
      "execution_count": null,
      "outputs": []
    },
    {
      "cell_type": "code",
      "metadata": {
        "colab": {
          "base_uri": "https://localhost:8080/",
          "height": 416
        },
        "id": "BELyKIRzzipj",
        "outputId": "62534372-3892-47fc-f9a3-41f1965210a2"
      },
      "source": [
        "a = np.arange(0,10)\n",
        "b = np.array([1489, 956, 861, 799, 734, 691, 599, 403, 199, 53])\n",
        "\n",
        "plt.figure(figsize=(11,6))\n",
        "plt.grid()\n",
        "plt.plot(a,b)\n",
        "\n",
        "plt.ylabel('Relevant_Features')\n",
        "plt.xlabel('Significant_Class')"
      ],
      "execution_count": null,
      "outputs": [
        {
          "output_type": "execute_result",
          "data": {
            "text/plain": [
              "Text(0.5, 0, 'Significant_Class')"
            ]
          },
          "metadata": {
            "tags": []
          },
          "execution_count": 17
        },
        {
          "output_type": "display_data",
          "data": {
            "image/png": "[encoded data removed]",
            "text/plain": [
              "<Figure size 792x432 with 1 Axes>"
            ]
          },
          "metadata": {
            "tags": [],
            "needs_background": "light"
          }
        }
      ]
    },
    {
      "cell_type": "markdown",
      "metadata": {
        "id": "B157wdZPQfQu"
      },
      "source": [
        "# Feature Extraction :"
      ]
    },
    {
      "cell_type": "code",
      "metadata": {
        "id": "CgD0dr6475kz"
      },
      "source": [
        "import pickle\n",
        "\n",
        "a_file = open(\"/content/ktfcp.pkl\", \"rb\")\n",
        "kind_to_fc_parameters = pickle.load(a_file)\n",
        "a_file.close()"
      ],
      "execution_count": null,
      "outputs": []
    },
    {
      "cell_type": "code",
      "metadata": {
        "id": "DUwPKkjJt7z0"
      },
      "source": [
        "def feat_ex(X,cls):\n",
        "  m = extract_features(X, column_id=\"id\", column_sort=\"time\", n_jobs= 14,\n",
        "                       column_kind=\"kind\", column_value=\"value\",\n",
        "                       kind_to_fc_parameters = kind_to_fc_parameters)\n",
        "  m['class'] = cls\n",
        "  return m"
      ],
      "execution_count": null,
      "outputs": []
    },
    {
      "cell_type": "code",
      "metadata": {
        "id": "KZNsWT6BWv4s",
        "colab": {
          "base_uri": "https://localhost:8080/"
        },
        "outputId": "80266e22-c281-4ad1-ddec-3786fc137ae5"
      },
      "source": [
        "Archive('/content/drive/MyDrive/RRLYR.rar').extractall('/content')\n",
        "RRLYR = pd.read_csv('/content/RRLYR', index_col=0, header=0)\n",
        "\n",
        "RRLYR.shape"
      ],
      "execution_count": null,
      "outputs": [
        {
          "output_type": "execute_result",
          "data": {
            "text/plain": [
              "(42531784, 5)"
            ]
          },
          "metadata": {
            "tags": []
          },
          "execution_count": 5
        }
      ]
    },
    {
      "cell_type": "code",
      "metadata": {
        "id": "47UqPnBMNki7",
        "colab": {
          "base_uri": "https://localhost:8080/"
        },
        "outputId": "b7e913aa-b004-4cc7-d9f8-67f26ce94ae2"
      },
      "source": [
        "#Extracting features\n",
        "\n",
        "RRLYR_f = feat_ex(RRLYR,'RRLYR')  \n",
        "savefile(RRLYR_f,'RRLYR_f')\n",
        "\n",
        "RRLYR_f.shape"
      ],
      "execution_count": null,
      "outputs": [
        {
          "output_type": "stream",
          "text": [
            "Feature Extraction: 100%|██████████| 70/70 [22:55<00:00, 19.64s/it]\n"
          ],
          "name": "stderr"
        },
        {
          "output_type": "execute_result",
          "data": {
            "text/plain": [
              "(74935, 54)"
            ]
          },
          "metadata": {
            "tags": []
          },
          "execution_count": 6
        }
      ]
    },
    {
      "cell_type": "markdown",
      "metadata": {
        "id": "FZhVc_ZTFOT8"
      },
      "source": [
        "# ALL Data Concatenation"
      ]
    },
    {
      "cell_type": "code",
      "metadata": {
        "id": "0VrneQbOHO65"
      },
      "source": [
        "Archive('/content/drive/MyDrive/features.rar').extractall('/content')"
      ],
      "execution_count": null,
      "outputs": []
    },
    {
      "cell_type": "code",
      "metadata": {
        "id": "ie2nwKCxFYDN"
      },
      "source": [
        "c1 = pd.read_csv('/content/ACEP_f', index_col=0, header=0)\n",
        "c2 = pd.read_csv('/content/CEP_f', index_col=0, header=0)\n",
        "c3 = pd.read_csv('/content/DPV_f', index_col=0, header=0)\n",
        "c4 = pd.read_csv('/content/DSCT_f', index_col=0, header=0)\n",
        "c5 = pd.read_csv('/content/ECL_f', index_col=0, header=0)\n",
        "c6 = pd.read_csv('/content/LPV_f', index_col=0, header=0)\n",
        "c7 = pd.read_csv('/content/RCB_f', index_col=0, header=0)\n",
        "c8 = pd.read_csv('/content/RRLYR_f', index_col=0, header=0)\n",
        "c9 = pd.read_csv('/content/T2CEP_f', index_col=0, header=0)\n",
        "\n",
        "\n",
        "data = pd.concat([c1,c2,c3,c4,c5,c6,c7,c8,c9])"
      ],
      "execution_count": null,
      "outputs": []
    },
    {
      "cell_type": "code",
      "metadata": {
        "id": "N2Z09oklJ9gF"
      },
      "source": [
        "savefile(data,'data')\n",
        "\n",
        "zipObj = ZipFile('data.zip', 'w', zipfile.ZIP_BZIP2)\n",
        "zipObj.write('/content/data')\n",
        "zipObj.close()"
      ],
      "execution_count": null,
      "outputs": []
    },
    {
      "cell_type": "markdown",
      "metadata": {
        "id": "AbhaWA-bl9S2"
      },
      "source": [
        "> * X,Y"
      ]
    },
    {
      "cell_type": "code",
      "metadata": {
        "id": "dnh822zble17"
      },
      "source": [
        "Archive('/content/drive/MyDrive/data.rar').extractall('/content')\n",
        "data = pd.read_csv('/content/data', index_col=0, header=0)"
      ],
      "execution_count": null,
      "outputs": []
    },
    {
      "cell_type": "code",
      "metadata": {
        "id": "1sHJBgCMlxUO"
      },
      "source": [
        "X = data.iloc[:,0:53]\n",
        "Y = data.loc[:,'class']\n",
        "Y = Y.reset_index(drop=True)"
      ],
      "execution_count": null,
      "outputs": []
    },
    {
      "cell_type": "markdown",
      "metadata": {
        "id": "a5OReM0_lSgf"
      },
      "source": [
        "----\n",
        "# Preprocessing :"
      ]
    },
    {
      "cell_type": "code",
      "metadata": {
        "id": "lrR7m42aZ-NM"
      },
      "source": [
        "# One_Hot Encoding\n",
        "from sklearn.preprocessing import OneHotEncoder\n",
        "\n",
        "a = np.array(Y)\n",
        "OH_Enc = OneHotEncoder( )\n",
        "OH_Encoded = OH_Enc.fit_transform(a.reshape(-1,1)).toarray()\n",
        "OH_Y = pd.DataFrame(OH_Encoded)\n",
        "OH_Y.columns = ['OH1','OH2','OH3','OH4','OH5','OH6','OH7','OH8','OH9']\n",
        "\n",
        "# Ordinal Encoding\n",
        "from sklearn import preprocessing\n",
        "\n",
        "LE = preprocessing.LabelEncoder()\n",
        "y = LE.fit_transform(Y)\n",
        "\n",
        "O_Y = pd.DataFrame(y)\n",
        "O_Y.columns = ['OY']"
      ],
      "execution_count": null,
      "outputs": []
    },
    {
      "cell_type": "markdown",
      "metadata": {
        "id": "IMBbA15tdpwH"
      },
      "source": [
        "> * **Encoding Keys :**"
      ]
    },
    {
      "cell_type": "code",
      "metadata": {
        "id": "lnOFQSAkdvz0",
        "colab": {
          "base_uri": "https://localhost:8080/"
        },
        "outputId": "25c3e048-512a-4325-cb01-902b990702fc"
      },
      "source": [
        "a = OH_Enc.inverse_transform(np.array([[1,0,0,0,0,0,0,0,0],[0,1,0,0,0,0,0,0,0],\n",
        "                                       [0,0,1,0,0,0,0,0,0],[0,0,0,1,0,0,0,0,0],\n",
        "                                       [0,0,0,0,1,0,0,0,0],[0,0,0,0,0,1,0,0,0],\n",
        "                                       [0,0,0,0,0,0,1,0,0],[0,0,0,0,0,0,0,1,0],\n",
        "                                       [0,0,0,0,0,0,0,0,1]]))\n",
        "\n",
        "print('One-Hot Encoding: \\n')\n",
        "\n",
        "print('[1,0,0,0,0,0,0,0,0] =',a[0],'\\n')\n",
        "print('[0,1,0,0,0,0,0,0,0] =',a[1],'\\n')\n",
        "print('[0,0,1,0,0,0,0,0,0] =',a[2],'\\n')\n",
        "print('[0,0,0,1,0,0,0,0,0] =',a[3],'\\n')\n",
        "print('[0,0,0,0,1,0,0,0,0] =',a[4],'\\n')\n",
        "print('[0,0,0,0,0,1,0,0,0] =',a[5],'\\n')\n",
        "print('[0,0,0,0,0,0,1,0,0] =',a[6],'\\n')\n",
        "print('[0,0,0,0,0,0,0,1,0] =',a[7],'\\n')\n",
        "print('[0,0,0,0,0,0,0,0,1] =',a[8],'\\n')\n",
        "\n",
        "print('\\n')\n",
        "\n",
        "print('Ordinal Encoding: \\n')\n",
        "LE.inverse_transform(np.arange(0,9))"
      ],
      "execution_count": null,
      "outputs": [
        {
          "output_type": "stream",
          "text": [
            "One-Hot Encoding: \n",
            "\n",
            "[1,0,0,0,0,0,0,0,0] = ['ACEP'] \n",
            "\n",
            "[0,1,0,0,0,0,0,0,0] = ['CEP'] \n",
            "\n",
            "[0,0,1,0,0,0,0,0,0] = ['DPV'] \n",
            "\n",
            "[0,0,0,1,0,0,0,0,0] = ['DSCT'] \n",
            "\n",
            "[0,0,0,0,1,0,0,0,0] = ['ECL'] \n",
            "\n",
            "[0,0,0,0,0,1,0,0,0] = ['LPV'] \n",
            "\n",
            "[0,0,0,0,0,0,1,0,0] = ['RCB'] \n",
            "\n",
            "[0,0,0,0,0,0,0,1,0] = ['RRLYR'] \n",
            "\n",
            "[0,0,0,0,0,0,0,0,1] = ['T2CEP'] \n",
            "\n",
            "\n",
            "\n",
            "Ordinal Encoding: \n",
            "\n"
          ],
          "name": "stdout"
        },
        {
          "output_type": "execute_result",
          "data": {
            "text/plain": [
              "array(['ACEP', 'CEP', 'DPV', 'DSCT', 'ECL', 'LPV', 'RCB', 'RRLYR',\n",
              "       'T2CEP'], dtype=object)"
            ]
          },
          "metadata": {
            "tags": []
          },
          "execution_count": 29
        }
      ]
    },
    {
      "cell_type": "markdown",
      "metadata": {
        "id": "rwUt_EBP54nz"
      },
      "source": [
        "-----\n",
        "> * Iterative Imputer"
      ]
    },
    {
      "cell_type": "code",
      "metadata": {
        "id": "GWhounh13aRf"
      },
      "source": [
        "from sklearn.experimental import enable_iterative_imputer\n",
        "from sklearn.impute import IterativeImputer\n",
        "\n",
        "X.replace([np.inf, -np.inf], np.nan, inplace=True)\n",
        "imp = IterativeImputer()\n",
        "imp_data = imp.fit_transform(X)\n",
        "X = pd.DataFrame(imp_data, columns= X.columns)"
      ],
      "execution_count": null,
      "outputs": []
    },
    {
      "cell_type": "code",
      "metadata": {
        "colab": {
          "base_uri": "https://localhost:8080/",
          "height": 241
        },
        "id": "JpNAo9oDrl94",
        "outputId": "e03dfda4-7aa7-4f61-baea-bdc6479f20fb"
      },
      "source": [
        "final_data = pd.concat([X,Y,OH_Y,O_Y], axis=1)\n",
        "final_data.head()"
      ],
      "execution_count": null,
      "outputs": [
        {
          "output_type": "execute_result",
          "data": {
            "text/html": [
              "<div>\n",
              "<style scoped>\n",
              "    .dataframe tbody tr th:only-of-type {\n",
              "        vertical-align: middle;\n",
              "    }\n",
              "\n",
              "    .dataframe tbody tr th {\n",
              "        vertical-align: top;\n",
              "    }\n",
              "\n",
              "    .dataframe thead th {\n",
              "        text-align: right;\n",
              "    }\n",
              "</style>\n",
              "<table border=\"1\" class=\"dataframe\">\n",
              "  <thead>\n",
              "    <tr style=\"text-align: right;\">\n",
              "      <th></th>\n",
              "      <th>I__ar_coefficient__coeff_0__k_10</th>\n",
              "      <th>I__autocorrelation__lag_2</th>\n",
              "      <th>I__autocorrelation__lag_5</th>\n",
              "      <th>I__autocorrelation__lag_6</th>\n",
              "      <th>I__autocorrelation__lag_4</th>\n",
              "      <th>I__autocorrelation__lag_3</th>\n",
              "      <th>I__autocorrelation__lag_9</th>\n",
              "      <th>I__autocorrelation__lag_7</th>\n",
              "      <th>I__autocorrelation__lag_8</th>\n",
              "      <th>I__permutation_entropy__dimension_5__tau_1</th>\n",
              "      <th>I__permutation_entropy__dimension_6__tau_1</th>\n",
              "      <th>I__permutation_entropy__dimension_4__tau_1</th>\n",
              "      <th>I__permutation_entropy__dimension_3__tau_1</th>\n",
              "      <th>I__cwt_coefficients__coeff_5__w_2__widths_(2, 5, 10, 20)</th>\n",
              "      <th>I__cwt_coefficients__coeff_2__w_20__widths_(2, 5, 10, 20)</th>\n",
              "      <th>I__cwt_coefficients__coeff_3__w_20__widths_(2, 5, 10, 20)</th>\n",
              "      <th>I__cwt_coefficients__coeff_4__w_20__widths_(2, 5, 10, 20)</th>\n",
              "      <th>I__cwt_coefficients__coeff_4__w_2__widths_(2, 5, 10, 20)</th>\n",
              "      <th>I__cwt_coefficients__coeff_5__w_20__widths_(2, 5, 10, 20)</th>\n",
              "      <th>I__cwt_coefficients__coeff_6__w_20__widths_(2, 5, 10, 20)</th>\n",
              "      <th>I__cwt_coefficients__coeff_7__w_20__widths_(2, 5, 10, 20)</th>\n",
              "      <th>I__cwt_coefficients__coeff_8__w_20__widths_(2, 5, 10, 20)</th>\n",
              "      <th>I__cwt_coefficients__coeff_10__w_20__widths_(2, 5, 10, 20)</th>\n",
              "      <th>I__cwt_coefficients__coeff_9__w_20__widths_(2, 5, 10, 20)</th>\n",
              "      <th>I__cwt_coefficients__coeff_11__w_20__widths_(2, 5, 10, 20)</th>\n",
              "      <th>I__cwt_coefficients__coeff_13__w_20__widths_(2, 5, 10, 20)</th>\n",
              "      <th>I__cwt_coefficients__coeff_14__w_20__widths_(2, 5, 10, 20)</th>\n",
              "      <th>I__cwt_coefficients__coeff_12__w_20__widths_(2, 5, 10, 20)</th>\n",
              "      <th>I__cwt_coefficients__coeff_13__w_5__widths_(2, 5, 10, 20)</th>\n",
              "      <th>I__cwt_coefficients__coeff_3__w_2__widths_(2, 5, 10, 20)</th>\n",
              "      <th>I__cwt_coefficients__coeff_14__w_10__widths_(2, 5, 10, 20)</th>\n",
              "      <th>I__cwt_coefficients__coeff_13__w_10__widths_(2, 5, 10, 20)</th>\n",
              "      <th>I__agg_linear_trend__attr_\"intercept\"__chunk_len_5__f_agg_\"max\"</th>\n",
              "      <th>I__agg_linear_trend__attr_\"intercept\"__chunk_len_10__f_agg_\"max\"</th>\n",
              "      <th>I__quantile__q_0.7</th>\n",
              "      <th>I__quantile__q_0.6</th>\n",
              "      <th>I__median</th>\n",
              "      <th>V__variance</th>\n",
              "      <th>V__change_quantiles__f_agg_\"var\"__isabs_False__qh_1.0__ql_0.0</th>\n",
              "      <th>V__agg_linear_trend__attr_\"stderr\"__chunk_len_5__f_agg_\"min\"</th>\n",
              "      <th>V__agg_linear_trend__attr_\"stderr\"__chunk_len_10__f_agg_\"max\"</th>\n",
              "      <th>V__agg_linear_trend__attr_\"intercept\"__chunk_len_5__f_agg_\"max\"</th>\n",
              "      <th>V__cwt_coefficients__coeff_3__w_5__widths_(2, 5, 10, 20)</th>\n",
              "      <th>V__cwt_coefficients__coeff_4__w_5__widths_(2, 5, 10, 20)</th>\n",
              "      <th>V__cwt_coefficients__coeff_2__w_5__widths_(2, 5, 10, 20)</th>\n",
              "      <th>V__cwt_coefficients__coeff_5__w_5__widths_(2, 5, 10, 20)</th>\n",
              "      <th>V__cwt_coefficients__coeff_5__w_2__widths_(2, 5, 10, 20)</th>\n",
              "      <th>V__cwt_coefficients__coeff_1__w_2__widths_(2, 5, 10, 20)</th>\n",
              "      <th>V__cwt_coefficients__coeff_2__w_2__widths_(2, 5, 10, 20)</th>\n",
              "      <th>V__cwt_coefficients__coeff_3__w_2__widths_(2, 5, 10, 20)</th>\n",
              "      <th>V__cwt_coefficients__coeff_4__w_2__widths_(2, 5, 10, 20)</th>\n",
              "      <th>V__cwt_coefficients__coeff_6__w_5__widths_(2, 5, 10, 20)</th>\n",
              "      <th>V__quantile__q_0.6</th>\n",
              "      <th>class</th>\n",
              "      <th>OH1</th>\n",
              "      <th>OH2</th>\n",
              "      <th>OH3</th>\n",
              "      <th>OH4</th>\n",
              "      <th>OH5</th>\n",
              "      <th>OH6</th>\n",
              "      <th>OH7</th>\n",
              "      <th>OH8</th>\n",
              "      <th>OH9</th>\n",
              "      <th>OY</th>\n",
              "    </tr>\n",
              "  </thead>\n",
              "  <tbody>\n",
              "    <tr>\n",
              "      <th>0</th>\n",
              "      <td>19.748969</td>\n",
              "      <td>0.009483</td>\n",
              "      <td>0.110762</td>\n",
              "      <td>-0.094961</td>\n",
              "      <td>-0.058667</td>\n",
              "      <td>-0.011547</td>\n",
              "      <td>0.083490</td>\n",
              "      <td>0.047766</td>\n",
              "      <td>-0.027308</td>\n",
              "      <td>4.524397</td>\n",
              "      <td>5.503021</td>\n",
              "      <td>3.122183</td>\n",
              "      <td>1.781072</td>\n",
              "      <td>2.604235</td>\n",
              "      <td>7.287752</td>\n",
              "      <td>10.708808</td>\n",
              "      <td>14.050479</td>\n",
              "      <td>5.861787</td>\n",
              "      <td>17.288430</td>\n",
              "      <td>20.399585</td>\n",
              "      <td>23.362441</td>\n",
              "      <td>26.157252</td>\n",
              "      <td>31.174052</td>\n",
              "      <td>28.766303</td>\n",
              "      <td>33.367295</td>\n",
              "      <td>37.069790</td>\n",
              "      <td>38.565095</td>\n",
              "      <td>35.335291</td>\n",
              "      <td>3.114119</td>\n",
              "      <td>10.604359</td>\n",
              "      <td>26.220393</td>\n",
              "      <td>27.872722</td>\n",
              "      <td>18.237648</td>\n",
              "      <td>18.273240</td>\n",
              "      <td>18.1797</td>\n",
              "      <td>18.1406</td>\n",
              "      <td>18.0445</td>\n",
              "      <td>0.076356</td>\n",
              "      <td>0.155135</td>\n",
              "      <td>0.043778</td>\n",
              "      <td>0.068507</td>\n",
              "      <td>19.101286</td>\n",
              "      <td>21.290027</td>\n",
              "      <td>23.161165</td>\n",
              "      <td>17.419322</td>\n",
              "      <td>23.098501</td>\n",
              "      <td>2.684836</td>\n",
              "      <td>10.556409</td>\n",
              "      <td>14.460544</td>\n",
              "      <td>11.560448</td>\n",
              "      <td>6.450865</td>\n",
              "      <td>21.462265</td>\n",
              "      <td>18.8650</td>\n",
              "      <td>ACEP</td>\n",
              "      <td>1.0</td>\n",
              "      <td>0.0</td>\n",
              "      <td>0.0</td>\n",
              "      <td>0.0</td>\n",
              "      <td>0.0</td>\n",
              "      <td>0.0</td>\n",
              "      <td>0.0</td>\n",
              "      <td>0.0</td>\n",
              "      <td>0.0</td>\n",
              "      <td>0</td>\n",
              "    </tr>\n",
              "    <tr>\n",
              "      <th>1</th>\n",
              "      <td>18.068873</td>\n",
              "      <td>0.249417</td>\n",
              "      <td>-0.275014</td>\n",
              "      <td>-0.293618</td>\n",
              "      <td>-0.169613</td>\n",
              "      <td>0.011056</td>\n",
              "      <td>-0.101078</td>\n",
              "      <td>-0.268144</td>\n",
              "      <td>-0.147078</td>\n",
              "      <td>3.800394</td>\n",
              "      <td>4.683510</td>\n",
              "      <td>2.706102</td>\n",
              "      <td>1.605640</td>\n",
              "      <td>2.571258</td>\n",
              "      <td>6.598613</td>\n",
              "      <td>9.940941</td>\n",
              "      <td>13.209684</td>\n",
              "      <td>5.851413</td>\n",
              "      <td>16.381162</td>\n",
              "      <td>19.432895</td>\n",
              "      <td>22.343859</td>\n",
              "      <td>25.094735</td>\n",
              "      <td>30.048686</td>\n",
              "      <td>27.668113</td>\n",
              "      <td>32.223360</td>\n",
              "      <td>35.914477</td>\n",
              "      <td>37.416717</td>\n",
              "      <td>34.181399</td>\n",
              "      <td>3.029564</td>\n",
              "      <td>10.438170</td>\n",
              "      <td>25.327889</td>\n",
              "      <td>26.891578</td>\n",
              "      <td>17.770773</td>\n",
              "      <td>17.814498</td>\n",
              "      <td>17.7503</td>\n",
              "      <td>17.7108</td>\n",
              "      <td>17.6445</td>\n",
              "      <td>0.064929</td>\n",
              "      <td>0.134740</td>\n",
              "      <td>0.023825</td>\n",
              "      <td>0.083564</td>\n",
              "      <td>18.635107</td>\n",
              "      <td>20.379251</td>\n",
              "      <td>22.268491</td>\n",
              "      <td>16.554513</td>\n",
              "      <td>22.316570</td>\n",
              "      <td>2.171209</td>\n",
              "      <td>10.311997</td>\n",
              "      <td>13.958987</td>\n",
              "      <td>10.824435</td>\n",
              "      <td>5.644106</td>\n",
              "      <td>20.832429</td>\n",
              "      <td>18.4390</td>\n",
              "      <td>ACEP</td>\n",
              "      <td>1.0</td>\n",
              "      <td>0.0</td>\n",
              "      <td>0.0</td>\n",
              "      <td>0.0</td>\n",
              "      <td>0.0</td>\n",
              "      <td>0.0</td>\n",
              "      <td>0.0</td>\n",
              "      <td>0.0</td>\n",
              "      <td>0.0</td>\n",
              "      <td>0</td>\n",
              "    </tr>\n",
              "    <tr>\n",
              "      <th>2</th>\n",
              "      <td>16.856263</td>\n",
              "      <td>-0.025188</td>\n",
              "      <td>-0.009933</td>\n",
              "      <td>-0.022579</td>\n",
              "      <td>-0.051735</td>\n",
              "      <td>-0.014927</td>\n",
              "      <td>-0.039444</td>\n",
              "      <td>0.023149</td>\n",
              "      <td>0.025453</td>\n",
              "      <td>4.657379</td>\n",
              "      <td>5.916757</td>\n",
              "      <td>3.143452</td>\n",
              "      <td>1.782637</td>\n",
              "      <td>2.325580</td>\n",
              "      <td>7.030611</td>\n",
              "      <td>10.511738</td>\n",
              "      <td>13.914881</td>\n",
              "      <td>5.960914</td>\n",
              "      <td>17.215269</td>\n",
              "      <td>20.389391</td>\n",
              "      <td>23.415279</td>\n",
              "      <td>26.272741</td>\n",
              "      <td>31.411874</td>\n",
              "      <td>28.943598</td>\n",
              "      <td>33.663937</td>\n",
              "      <td>37.477286</td>\n",
              "      <td>39.023895</td>\n",
              "      <td>35.688616</td>\n",
              "      <td>3.212853</td>\n",
              "      <td>10.994730</td>\n",
              "      <td>26.553764</td>\n",
              "      <td>28.187842</td>\n",
              "      <td>18.492121</td>\n",
              "      <td>18.527015</td>\n",
              "      <td>18.4620</td>\n",
              "      <td>18.4298</td>\n",
              "      <td>18.3880</td>\n",
              "      <td>0.083495</td>\n",
              "      <td>0.153515</td>\n",
              "      <td>0.009420</td>\n",
              "      <td>0.015628</td>\n",
              "      <td>19.170495</td>\n",
              "      <td>18.840029</td>\n",
              "      <td>21.822026</td>\n",
              "      <td>13.892342</td>\n",
              "      <td>22.751140</td>\n",
              "      <td>2.627845</td>\n",
              "      <td>10.358207</td>\n",
              "      <td>14.437908</td>\n",
              "      <td>11.623109</td>\n",
              "      <td>6.440886</td>\n",
              "      <td>21.848849</td>\n",
              "      <td>18.9608</td>\n",
              "      <td>ACEP</td>\n",
              "      <td>1.0</td>\n",
              "      <td>0.0</td>\n",
              "      <td>0.0</td>\n",
              "      <td>0.0</td>\n",
              "      <td>0.0</td>\n",
              "      <td>0.0</td>\n",
              "      <td>0.0</td>\n",
              "      <td>0.0</td>\n",
              "      <td>0.0</td>\n",
              "      <td>0</td>\n",
              "    </tr>\n",
              "    <tr>\n",
              "      <th>3</th>\n",
              "      <td>19.255513</td>\n",
              "      <td>0.109938</td>\n",
              "      <td>-0.042236</td>\n",
              "      <td>-0.053299</td>\n",
              "      <td>0.047238</td>\n",
              "      <td>-0.006245</td>\n",
              "      <td>0.037559</td>\n",
              "      <td>-0.114417</td>\n",
              "      <td>-0.057879</td>\n",
              "      <td>4.289305</td>\n",
              "      <td>5.239870</td>\n",
              "      <td>2.975525</td>\n",
              "      <td>1.715220</td>\n",
              "      <td>2.196017</td>\n",
              "      <td>6.256552</td>\n",
              "      <td>9.477400</td>\n",
              "      <td>12.627239</td>\n",
              "      <td>5.509158</td>\n",
              "      <td>15.683202</td>\n",
              "      <td>18.623547</td>\n",
              "      <td>21.427972</td>\n",
              "      <td>24.077825</td>\n",
              "      <td>28.848598</td>\n",
              "      <td>26.556299</td>\n",
              "      <td>30.942115</td>\n",
              "      <td>34.493783</td>\n",
              "      <td>35.938309</td>\n",
              "      <td>32.826507</td>\n",
              "      <td>3.257107</td>\n",
              "      <td>10.150114</td>\n",
              "      <td>24.641670</td>\n",
              "      <td>26.129133</td>\n",
              "      <td>17.253431</td>\n",
              "      <td>17.306733</td>\n",
              "      <td>17.2010</td>\n",
              "      <td>17.1030</td>\n",
              "      <td>17.0430</td>\n",
              "      <td>0.096484</td>\n",
              "      <td>0.231728</td>\n",
              "      <td>0.040666</td>\n",
              "      <td>0.008811</td>\n",
              "      <td>18.128964</td>\n",
              "      <td>19.210782</td>\n",
              "      <td>20.928621</td>\n",
              "      <td>15.605192</td>\n",
              "      <td>20.848297</td>\n",
              "      <td>1.885335</td>\n",
              "      <td>10.274937</td>\n",
              "      <td>13.796137</td>\n",
              "      <td>10.693852</td>\n",
              "      <td>5.508701</td>\n",
              "      <td>19.303169</td>\n",
              "      <td>17.9048</td>\n",
              "      <td>ACEP</td>\n",
              "      <td>1.0</td>\n",
              "      <td>0.0</td>\n",
              "      <td>0.0</td>\n",
              "      <td>0.0</td>\n",
              "      <td>0.0</td>\n",
              "      <td>0.0</td>\n",
              "      <td>0.0</td>\n",
              "      <td>0.0</td>\n",
              "      <td>0.0</td>\n",
              "      <td>0</td>\n",
              "    </tr>\n",
              "    <tr>\n",
              "      <th>4</th>\n",
              "      <td>30.232862</td>\n",
              "      <td>-0.280846</td>\n",
              "      <td>0.065069</td>\n",
              "      <td>-0.040802</td>\n",
              "      <td>0.119790</td>\n",
              "      <td>-0.106279</td>\n",
              "      <td>-0.009490</td>\n",
              "      <td>-0.060699</td>\n",
              "      <td>-0.015028</td>\n",
              "      <td>4.311274</td>\n",
              "      <td>5.365514</td>\n",
              "      <td>2.965344</td>\n",
              "      <td>1.703971</td>\n",
              "      <td>2.288207</td>\n",
              "      <td>6.842519</td>\n",
              "      <td>10.226231</td>\n",
              "      <td>13.533936</td>\n",
              "      <td>5.794111</td>\n",
              "      <td>16.741640</td>\n",
              "      <td>19.826575</td>\n",
              "      <td>22.767470</td>\n",
              "      <td>25.544807</td>\n",
              "      <td>30.540674</td>\n",
              "      <td>28.141020</td>\n",
              "      <td>32.730619</td>\n",
              "      <td>36.440819</td>\n",
              "      <td>37.946973</td>\n",
              "      <td>34.700100</td>\n",
              "      <td>3.065216</td>\n",
              "      <td>10.660442</td>\n",
              "      <td>25.734200</td>\n",
              "      <td>27.348026</td>\n",
              "      <td>17.953546</td>\n",
              "      <td>17.965266</td>\n",
              "      <td>17.9293</td>\n",
              "      <td>17.9094</td>\n",
              "      <td>17.8800</td>\n",
              "      <td>0.018139</td>\n",
              "      <td>0.041104</td>\n",
              "      <td>0.008410</td>\n",
              "      <td>0.010812</td>\n",
              "      <td>18.624750</td>\n",
              "      <td>19.743506</td>\n",
              "      <td>21.624846</td>\n",
              "      <td>15.900432</td>\n",
              "      <td>21.626409</td>\n",
              "      <td>2.477384</td>\n",
              "      <td>10.171427</td>\n",
              "      <td>13.977588</td>\n",
              "      <td>11.158619</td>\n",
              "      <td>6.151941</td>\n",
              "      <td>20.086791</td>\n",
              "      <td>18.6034</td>\n",
              "      <td>ACEP</td>\n",
              "      <td>1.0</td>\n",
              "      <td>0.0</td>\n",
              "      <td>0.0</td>\n",
              "      <td>0.0</td>\n",
              "      <td>0.0</td>\n",
              "      <td>0.0</td>\n",
              "      <td>0.0</td>\n",
              "      <td>0.0</td>\n",
              "      <td>0.0</td>\n",
              "      <td>0</td>\n",
              "    </tr>\n",
              "  </tbody>\n",
              "</table>\n",
              "</div>"
            ],
            "text/plain": [
              "   I__ar_coefficient__coeff_0__k_10  I__autocorrelation__lag_2  ...  OH9  OY\n",
              "0                         19.748969                   0.009483  ...  0.0   0\n",
              "1                         18.068873                   0.249417  ...  0.0   0\n",
              "2                         16.856263                  -0.025188  ...  0.0   0\n",
              "3                         19.255513                   0.109938  ...  0.0   0\n",
              "4                         30.232862                  -0.280846  ...  0.0   0\n",
              "\n",
              "[5 rows x 64 columns]"
            ]
          },
          "metadata": {
            "tags": []
          },
          "execution_count": 48
        }
      ]
    },
    {
      "cell_type": "markdown",
      "metadata": {
        "id": "MXQsm_9b5zLa"
      },
      "source": [
        "> * Shuffle"
      ]
    },
    {
      "cell_type": "code",
      "metadata": {
        "id": "ckoF7pq6271w",
        "colab": {
          "base_uri": "https://localhost:8080/",
          "height": 241
        },
        "outputId": "27028071-79d5-442f-b2b4-38fe904fb3af"
      },
      "source": [
        "from sklearn.utils import shuffle\n",
        "\n",
        "final_data = shuffle(final_data, random_state=42)\n",
        "final_data = final_data.reset_index(drop=True)\n",
        "\n",
        "savefile(final_data,'final_data')\n",
        "final_data.head()"
      ],
      "execution_count": null,
      "outputs": [
        {
          "output_type": "execute_result",
          "data": {
            "text/html": [
              "<div>\n",
              "<style scoped>\n",
              "    .dataframe tbody tr th:only-of-type {\n",
              "        vertical-align: middle;\n",
              "    }\n",
              "\n",
              "    .dataframe tbody tr th {\n",
              "        vertical-align: top;\n",
              "    }\n",
              "\n",
              "    .dataframe thead th {\n",
              "        text-align: right;\n",
              "    }\n",
              "</style>\n",
              "<table border=\"1\" class=\"dataframe\">\n",
              "  <thead>\n",
              "    <tr style=\"text-align: right;\">\n",
              "      <th></th>\n",
              "      <th>I__ar_coefficient__coeff_0__k_10</th>\n",
              "      <th>I__autocorrelation__lag_2</th>\n",
              "      <th>I__autocorrelation__lag_5</th>\n",
              "      <th>I__autocorrelation__lag_6</th>\n",
              "      <th>I__autocorrelation__lag_4</th>\n",
              "      <th>I__autocorrelation__lag_3</th>\n",
              "      <th>I__autocorrelation__lag_9</th>\n",
              "      <th>I__autocorrelation__lag_7</th>\n",
              "      <th>I__autocorrelation__lag_8</th>\n",
              "      <th>I__permutation_entropy__dimension_5__tau_1</th>\n",
              "      <th>I__permutation_entropy__dimension_6__tau_1</th>\n",
              "      <th>I__permutation_entropy__dimension_4__tau_1</th>\n",
              "      <th>I__permutation_entropy__dimension_3__tau_1</th>\n",
              "      <th>I__cwt_coefficients__coeff_5__w_2__widths_(2, 5, 10, 20)</th>\n",
              "      <th>I__cwt_coefficients__coeff_2__w_20__widths_(2, 5, 10, 20)</th>\n",
              "      <th>I__cwt_coefficients__coeff_3__w_20__widths_(2, 5, 10, 20)</th>\n",
              "      <th>I__cwt_coefficients__coeff_4__w_20__widths_(2, 5, 10, 20)</th>\n",
              "      <th>I__cwt_coefficients__coeff_4__w_2__widths_(2, 5, 10, 20)</th>\n",
              "      <th>I__cwt_coefficients__coeff_5__w_20__widths_(2, 5, 10, 20)</th>\n",
              "      <th>I__cwt_coefficients__coeff_6__w_20__widths_(2, 5, 10, 20)</th>\n",
              "      <th>I__cwt_coefficients__coeff_7__w_20__widths_(2, 5, 10, 20)</th>\n",
              "      <th>I__cwt_coefficients__coeff_8__w_20__widths_(2, 5, 10, 20)</th>\n",
              "      <th>I__cwt_coefficients__coeff_10__w_20__widths_(2, 5, 10, 20)</th>\n",
              "      <th>I__cwt_coefficients__coeff_9__w_20__widths_(2, 5, 10, 20)</th>\n",
              "      <th>I__cwt_coefficients__coeff_11__w_20__widths_(2, 5, 10, 20)</th>\n",
              "      <th>I__cwt_coefficients__coeff_13__w_20__widths_(2, 5, 10, 20)</th>\n",
              "      <th>I__cwt_coefficients__coeff_14__w_20__widths_(2, 5, 10, 20)</th>\n",
              "      <th>I__cwt_coefficients__coeff_12__w_20__widths_(2, 5, 10, 20)</th>\n",
              "      <th>I__cwt_coefficients__coeff_13__w_5__widths_(2, 5, 10, 20)</th>\n",
              "      <th>I__cwt_coefficients__coeff_3__w_2__widths_(2, 5, 10, 20)</th>\n",
              "      <th>I__cwt_coefficients__coeff_14__w_10__widths_(2, 5, 10, 20)</th>\n",
              "      <th>I__cwt_coefficients__coeff_13__w_10__widths_(2, 5, 10, 20)</th>\n",
              "      <th>I__agg_linear_trend__attr_\"intercept\"__chunk_len_5__f_agg_\"max\"</th>\n",
              "      <th>I__agg_linear_trend__attr_\"intercept\"__chunk_len_10__f_agg_\"max\"</th>\n",
              "      <th>I__quantile__q_0.7</th>\n",
              "      <th>I__quantile__q_0.6</th>\n",
              "      <th>I__median</th>\n",
              "      <th>V__variance</th>\n",
              "      <th>V__change_quantiles__f_agg_\"var\"__isabs_False__qh_1.0__ql_0.0</th>\n",
              "      <th>V__agg_linear_trend__attr_\"stderr\"__chunk_len_5__f_agg_\"min\"</th>\n",
              "      <th>V__agg_linear_trend__attr_\"stderr\"__chunk_len_10__f_agg_\"max\"</th>\n",
              "      <th>V__agg_linear_trend__attr_\"intercept\"__chunk_len_5__f_agg_\"max\"</th>\n",
              "      <th>V__cwt_coefficients__coeff_3__w_5__widths_(2, 5, 10, 20)</th>\n",
              "      <th>V__cwt_coefficients__coeff_4__w_5__widths_(2, 5, 10, 20)</th>\n",
              "      <th>V__cwt_coefficients__coeff_2__w_5__widths_(2, 5, 10, 20)</th>\n",
              "      <th>V__cwt_coefficients__coeff_5__w_5__widths_(2, 5, 10, 20)</th>\n",
              "      <th>V__cwt_coefficients__coeff_5__w_2__widths_(2, 5, 10, 20)</th>\n",
              "      <th>V__cwt_coefficients__coeff_1__w_2__widths_(2, 5, 10, 20)</th>\n",
              "      <th>V__cwt_coefficients__coeff_2__w_2__widths_(2, 5, 10, 20)</th>\n",
              "      <th>V__cwt_coefficients__coeff_3__w_2__widths_(2, 5, 10, 20)</th>\n",
              "      <th>V__cwt_coefficients__coeff_4__w_2__widths_(2, 5, 10, 20)</th>\n",
              "      <th>V__cwt_coefficients__coeff_6__w_5__widths_(2, 5, 10, 20)</th>\n",
              "      <th>V__quantile__q_0.6</th>\n",
              "      <th>class</th>\n",
              "      <th>OH1</th>\n",
              "      <th>OH2</th>\n",
              "      <th>OH3</th>\n",
              "      <th>OH4</th>\n",
              "      <th>OH5</th>\n",
              "      <th>OH6</th>\n",
              "      <th>OH7</th>\n",
              "      <th>OH8</th>\n",
              "      <th>OH9</th>\n",
              "      <th>OY</th>\n",
              "    </tr>\n",
              "  </thead>\n",
              "  <tbody>\n",
              "    <tr>\n",
              "      <th>0</th>\n",
              "      <td>23.159766</td>\n",
              "      <td>0.058857</td>\n",
              "      <td>-0.192476</td>\n",
              "      <td>-0.018549</td>\n",
              "      <td>-0.201185</td>\n",
              "      <td>-0.217742</td>\n",
              "      <td>0.062612</td>\n",
              "      <td>0.012253</td>\n",
              "      <td>0.053790</td>\n",
              "      <td>4.590348</td>\n",
              "      <td>5.784798</td>\n",
              "      <td>3.115812</td>\n",
              "      <td>1.777689</td>\n",
              "      <td>2.467433</td>\n",
              "      <td>7.263619</td>\n",
              "      <td>10.834022</td>\n",
              "      <td>14.323661</td>\n",
              "      <td>6.152839</td>\n",
              "      <td>17.707255</td>\n",
              "      <td>20.960824</td>\n",
              "      <td>24.061984</td>\n",
              "      <td>26.990202</td>\n",
              "      <td>32.256228</td>\n",
              "      <td>29.727017</td>\n",
              "      <td>34.564049</td>\n",
              "      <td>38.473086</td>\n",
              "      <td>40.059611</td>\n",
              "      <td>36.639223</td>\n",
              "      <td>3.125351</td>\n",
              "      <td>11.288695</td>\n",
              "      <td>27.117744</td>\n",
              "      <td>28.846808</td>\n",
              "      <td>18.975268</td>\n",
              "      <td>19.006507</td>\n",
              "      <td>18.9381</td>\n",
              "      <td>18.9018</td>\n",
              "      <td>18.8675</td>\n",
              "      <td>0.026029</td>\n",
              "      <td>0.049539</td>\n",
              "      <td>0.002826</td>\n",
              "      <td>0.003705</td>\n",
              "      <td>19.519780</td>\n",
              "      <td>19.010092</td>\n",
              "      <td>21.957699</td>\n",
              "      <td>14.072427</td>\n",
              "      <td>22.848442</td>\n",
              "      <td>2.495199</td>\n",
              "      <td>10.936606</td>\n",
              "      <td>14.828420</td>\n",
              "      <td>11.699832</td>\n",
              "      <td>6.340944</td>\n",
              "      <td>21.924128</td>\n",
              "      <td>19.4190</td>\n",
              "      <td>RRLYR</td>\n",
              "      <td>0.0</td>\n",
              "      <td>0.0</td>\n",
              "      <td>0.0</td>\n",
              "      <td>0.0</td>\n",
              "      <td>0.0</td>\n",
              "      <td>0.0</td>\n",
              "      <td>0.0</td>\n",
              "      <td>1.0</td>\n",
              "      <td>0.0</td>\n",
              "      <td>7</td>\n",
              "    </tr>\n",
              "    <tr>\n",
              "      <th>1</th>\n",
              "      <td>4.693699</td>\n",
              "      <td>0.297114</td>\n",
              "      <td>0.274560</td>\n",
              "      <td>0.278861</td>\n",
              "      <td>0.258145</td>\n",
              "      <td>0.195361</td>\n",
              "      <td>0.111471</td>\n",
              "      <td>0.232096</td>\n",
              "      <td>0.164473</td>\n",
              "      <td>4.683979</td>\n",
              "      <td>5.904097</td>\n",
              "      <td>3.154262</td>\n",
              "      <td>1.786278</td>\n",
              "      <td>2.022805</td>\n",
              "      <td>5.981635</td>\n",
              "      <td>8.908825</td>\n",
              "      <td>11.769654</td>\n",
              "      <td>5.088675</td>\n",
              "      <td>14.543354</td>\n",
              "      <td>17.210234</td>\n",
              "      <td>19.751907</td>\n",
              "      <td>22.151501</td>\n",
              "      <td>26.465630</td>\n",
              "      <td>24.393847</td>\n",
              "      <td>28.355518</td>\n",
              "      <td>31.554716</td>\n",
              "      <td>32.851946</td>\n",
              "      <td>30.054254</td>\n",
              "      <td>2.642013</td>\n",
              "      <td>9.312274</td>\n",
              "      <td>22.293482</td>\n",
              "      <td>23.701160</td>\n",
              "      <td>15.469872</td>\n",
              "      <td>15.472299</td>\n",
              "      <td>15.4660</td>\n",
              "      <td>15.4630</td>\n",
              "      <td>15.4610</td>\n",
              "      <td>0.000226</td>\n",
              "      <td>0.000376</td>\n",
              "      <td>0.001586</td>\n",
              "      <td>0.002198</td>\n",
              "      <td>17.137917</td>\n",
              "      <td>16.763443</td>\n",
              "      <td>19.420130</td>\n",
              "      <td>12.362662</td>\n",
              "      <td>20.266802</td>\n",
              "      <td>2.228590</td>\n",
              "      <td>9.526614</td>\n",
              "      <td>13.000720</td>\n",
              "      <td>10.303060</td>\n",
              "      <td>5.619679</td>\n",
              "      <td>19.508710</td>\n",
              "      <td>17.1184</td>\n",
              "      <td>LPV</td>\n",
              "      <td>0.0</td>\n",
              "      <td>0.0</td>\n",
              "      <td>0.0</td>\n",
              "      <td>0.0</td>\n",
              "      <td>0.0</td>\n",
              "      <td>1.0</td>\n",
              "      <td>0.0</td>\n",
              "      <td>0.0</td>\n",
              "      <td>0.0</td>\n",
              "      <td>5</td>\n",
              "    </tr>\n",
              "    <tr>\n",
              "      <th>2</th>\n",
              "      <td>33.075545</td>\n",
              "      <td>-0.010138</td>\n",
              "      <td>-0.051333</td>\n",
              "      <td>-0.054756</td>\n",
              "      <td>0.002645</td>\n",
              "      <td>-0.066083</td>\n",
              "      <td>0.045038</td>\n",
              "      <td>-0.058328</td>\n",
              "      <td>-0.050620</td>\n",
              "      <td>4.644219</td>\n",
              "      <td>5.814535</td>\n",
              "      <td>3.137554</td>\n",
              "      <td>1.788747</td>\n",
              "      <td>2.592135</td>\n",
              "      <td>7.548619</td>\n",
              "      <td>11.312388</td>\n",
              "      <td>14.991834</td>\n",
              "      <td>6.535771</td>\n",
              "      <td>18.560299</td>\n",
              "      <td>21.992500</td>\n",
              "      <td>25.264837</td>\n",
              "      <td>28.355645</td>\n",
              "      <td>33.917146</td>\n",
              "      <td>31.245447</td>\n",
              "      <td>36.356194</td>\n",
              "      <td>40.491474</td>\n",
              "      <td>42.172195</td>\n",
              "      <td>38.550675</td>\n",
              "      <td>3.307151</td>\n",
              "      <td>11.968065</td>\n",
              "      <td>28.783685</td>\n",
              "      <td>30.557072</td>\n",
              "      <td>20.288144</td>\n",
              "      <td>20.560041</td>\n",
              "      <td>19.8865</td>\n",
              "      <td>19.8360</td>\n",
              "      <td>19.8040</td>\n",
              "      <td>0.136006</td>\n",
              "      <td>0.314350</td>\n",
              "      <td>0.001790</td>\n",
              "      <td>0.064073</td>\n",
              "      <td>20.469228</td>\n",
              "      <td>19.672701</td>\n",
              "      <td>22.792197</td>\n",
              "      <td>14.502474</td>\n",
              "      <td>23.783316</td>\n",
              "      <td>2.644402</td>\n",
              "      <td>11.199386</td>\n",
              "      <td>15.262706</td>\n",
              "      <td>12.096694</td>\n",
              "      <td>6.620443</td>\n",
              "      <td>22.886799</td>\n",
              "      <td>20.1012</td>\n",
              "      <td>ECL</td>\n",
              "      <td>0.0</td>\n",
              "      <td>0.0</td>\n",
              "      <td>0.0</td>\n",
              "      <td>0.0</td>\n",
              "      <td>1.0</td>\n",
              "      <td>0.0</td>\n",
              "      <td>0.0</td>\n",
              "      <td>0.0</td>\n",
              "      <td>0.0</td>\n",
              "      <td>4</td>\n",
              "    </tr>\n",
              "    <tr>\n",
              "      <th>3</th>\n",
              "      <td>4.563469</td>\n",
              "      <td>0.221679</td>\n",
              "      <td>0.198469</td>\n",
              "      <td>0.226109</td>\n",
              "      <td>0.128093</td>\n",
              "      <td>0.109930</td>\n",
              "      <td>0.154414</td>\n",
              "      <td>0.160429</td>\n",
              "      <td>0.154775</td>\n",
              "      <td>4.503569</td>\n",
              "      <td>5.604325</td>\n",
              "      <td>3.094803</td>\n",
              "      <td>1.771365</td>\n",
              "      <td>1.999820</td>\n",
              "      <td>5.923933</td>\n",
              "      <td>8.827997</td>\n",
              "      <td>11.666483</td>\n",
              "      <td>5.031938</td>\n",
              "      <td>14.418787</td>\n",
              "      <td>17.065368</td>\n",
              "      <td>19.587975</td>\n",
              "      <td>21.969858</td>\n",
              "      <td>26.253023</td>\n",
              "      <td>24.195951</td>\n",
              "      <td>28.129809</td>\n",
              "      <td>31.307792</td>\n",
              "      <td>32.596943</td>\n",
              "      <td>29.817097</td>\n",
              "      <td>2.631608</td>\n",
              "      <td>9.216900</td>\n",
              "      <td>22.111301</td>\n",
              "      <td>23.499921</td>\n",
              "      <td>15.329966</td>\n",
              "      <td>15.332412</td>\n",
              "      <td>15.3330</td>\n",
              "      <td>15.3290</td>\n",
              "      <td>15.3260</td>\n",
              "      <td>0.000436</td>\n",
              "      <td>0.001021</td>\n",
              "      <td>0.001368</td>\n",
              "      <td>0.003646</td>\n",
              "      <td>17.260822</td>\n",
              "      <td>16.851377</td>\n",
              "      <td>19.516705</td>\n",
              "      <td>12.429937</td>\n",
              "      <td>20.361645</td>\n",
              "      <td>2.226639</td>\n",
              "      <td>9.621720</td>\n",
              "      <td>13.116620</td>\n",
              "      <td>10.389279</td>\n",
              "      <td>5.659709</td>\n",
              "      <td>19.594358</td>\n",
              "      <td>17.2448</td>\n",
              "      <td>LPV</td>\n",
              "      <td>0.0</td>\n",
              "      <td>0.0</td>\n",
              "      <td>0.0</td>\n",
              "      <td>0.0</td>\n",
              "      <td>0.0</td>\n",
              "      <td>1.0</td>\n",
              "      <td>0.0</td>\n",
              "      <td>0.0</td>\n",
              "      <td>0.0</td>\n",
              "      <td>5</td>\n",
              "    </tr>\n",
              "    <tr>\n",
              "      <th>4</th>\n",
              "      <td>2.580594</td>\n",
              "      <td>0.537196</td>\n",
              "      <td>0.287874</td>\n",
              "      <td>0.238370</td>\n",
              "      <td>0.374481</td>\n",
              "      <td>0.429834</td>\n",
              "      <td>0.214728</td>\n",
              "      <td>0.214824</td>\n",
              "      <td>0.218350</td>\n",
              "      <td>4.459013</td>\n",
              "      <td>5.613660</td>\n",
              "      <td>3.047440</td>\n",
              "      <td>1.748917</td>\n",
              "      <td>1.802963</td>\n",
              "      <td>5.341492</td>\n",
              "      <td>7.958713</td>\n",
              "      <td>10.516652</td>\n",
              "      <td>4.545470</td>\n",
              "      <td>12.996739</td>\n",
              "      <td>15.381365</td>\n",
              "      <td>17.654086</td>\n",
              "      <td>19.799813</td>\n",
              "      <td>23.657668</td>\n",
              "      <td>21.804977</td>\n",
              "      <td>25.347747</td>\n",
              "      <td>28.208847</td>\n",
              "      <td>29.369052</td>\n",
              "      <td>26.866932</td>\n",
              "      <td>2.350618</td>\n",
              "      <td>8.322876</td>\n",
              "      <td>19.921824</td>\n",
              "      <td>21.178552</td>\n",
              "      <td>13.830976</td>\n",
              "      <td>13.834697</td>\n",
              "      <td>13.8340</td>\n",
              "      <td>13.8300</td>\n",
              "      <td>13.8270</td>\n",
              "      <td>0.001038</td>\n",
              "      <td>0.001894</td>\n",
              "      <td>0.002449</td>\n",
              "      <td>0.010331</td>\n",
              "      <td>15.890667</td>\n",
              "      <td>15.624232</td>\n",
              "      <td>18.086411</td>\n",
              "      <td>11.549153</td>\n",
              "      <td>18.875058</td>\n",
              "      <td>2.064307</td>\n",
              "      <td>8.816249</td>\n",
              "      <td>12.031768</td>\n",
              "      <td>9.540502</td>\n",
              "      <td>5.211766</td>\n",
              "      <td>18.180193</td>\n",
              "      <td>15.8690</td>\n",
              "      <td>LPV</td>\n",
              "      <td>0.0</td>\n",
              "      <td>0.0</td>\n",
              "      <td>0.0</td>\n",
              "      <td>0.0</td>\n",
              "      <td>0.0</td>\n",
              "      <td>1.0</td>\n",
              "      <td>0.0</td>\n",
              "      <td>0.0</td>\n",
              "      <td>0.0</td>\n",
              "      <td>5</td>\n",
              "    </tr>\n",
              "  </tbody>\n",
              "</table>\n",
              "</div>"
            ],
            "text/plain": [
              "   I__ar_coefficient__coeff_0__k_10  I__autocorrelation__lag_2  ...  OH9  OY\n",
              "0                         23.159766                   0.058857  ...  0.0   7\n",
              "1                          4.693699                   0.297114  ...  0.0   5\n",
              "2                         33.075545                  -0.010138  ...  0.0   4\n",
              "3                          4.563469                   0.221679  ...  0.0   5\n",
              "4                          2.580594                   0.537196  ...  0.0   5\n",
              "\n",
              "[5 rows x 64 columns]"
            ]
          },
          "metadata": {
            "tags": []
          },
          "execution_count": 61
        }
      ]
    },
    {
      "cell_type": "code",
      "metadata": {
        "colab": {
          "base_uri": "https://localhost:8080/",
          "height": 334
        },
        "id": "8XPZHUD8zrNh",
        "outputId": "85d736b1-b648-484e-ed30-84314e9d0399"
      },
      "source": [
        "final_data.describe()"
      ],
      "execution_count": null,
      "outputs": [
        {
          "output_type": "execute_result",
          "data": {
            "text/html": [
              "<div>\n",
              "<style scoped>\n",
              "    .dataframe tbody tr th:only-of-type {\n",
              "        vertical-align: middle;\n",
              "    }\n",
              "\n",
              "    .dataframe tbody tr th {\n",
              "        vertical-align: top;\n",
              "    }\n",
              "\n",
              "    .dataframe thead th {\n",
              "        text-align: right;\n",
              "    }\n",
              "</style>\n",
              "<table border=\"1\" class=\"dataframe\">\n",
              "  <thead>\n",
              "    <tr style=\"text-align: right;\">\n",
              "      <th></th>\n",
              "      <th>I__ar_coefficient__coeff_0__k_10</th>\n",
              "      <th>I__autocorrelation__lag_2</th>\n",
              "      <th>I__autocorrelation__lag_5</th>\n",
              "      <th>I__autocorrelation__lag_6</th>\n",
              "      <th>I__autocorrelation__lag_4</th>\n",
              "      <th>I__autocorrelation__lag_3</th>\n",
              "      <th>I__autocorrelation__lag_9</th>\n",
              "      <th>I__autocorrelation__lag_7</th>\n",
              "      <th>I__autocorrelation__lag_8</th>\n",
              "      <th>I__permutation_entropy__dimension_5__tau_1</th>\n",
              "      <th>I__permutation_entropy__dimension_6__tau_1</th>\n",
              "      <th>I__permutation_entropy__dimension_4__tau_1</th>\n",
              "      <th>I__permutation_entropy__dimension_3__tau_1</th>\n",
              "      <th>I__cwt_coefficients__coeff_5__w_2__widths_(2, 5, 10, 20)</th>\n",
              "      <th>I__cwt_coefficients__coeff_2__w_20__widths_(2, 5, 10, 20)</th>\n",
              "      <th>I__cwt_coefficients__coeff_3__w_20__widths_(2, 5, 10, 20)</th>\n",
              "      <th>I__cwt_coefficients__coeff_4__w_20__widths_(2, 5, 10, 20)</th>\n",
              "      <th>I__cwt_coefficients__coeff_4__w_2__widths_(2, 5, 10, 20)</th>\n",
              "      <th>I__cwt_coefficients__coeff_5__w_20__widths_(2, 5, 10, 20)</th>\n",
              "      <th>I__cwt_coefficients__coeff_6__w_20__widths_(2, 5, 10, 20)</th>\n",
              "      <th>I__cwt_coefficients__coeff_7__w_20__widths_(2, 5, 10, 20)</th>\n",
              "      <th>I__cwt_coefficients__coeff_8__w_20__widths_(2, 5, 10, 20)</th>\n",
              "      <th>I__cwt_coefficients__coeff_10__w_20__widths_(2, 5, 10, 20)</th>\n",
              "      <th>I__cwt_coefficients__coeff_9__w_20__widths_(2, 5, 10, 20)</th>\n",
              "      <th>I__cwt_coefficients__coeff_11__w_20__widths_(2, 5, 10, 20)</th>\n",
              "      <th>I__cwt_coefficients__coeff_13__w_20__widths_(2, 5, 10, 20)</th>\n",
              "      <th>I__cwt_coefficients__coeff_14__w_20__widths_(2, 5, 10, 20)</th>\n",
              "      <th>I__cwt_coefficients__coeff_12__w_20__widths_(2, 5, 10, 20)</th>\n",
              "      <th>I__cwt_coefficients__coeff_13__w_5__widths_(2, 5, 10, 20)</th>\n",
              "      <th>I__cwt_coefficients__coeff_3__w_2__widths_(2, 5, 10, 20)</th>\n",
              "      <th>I__cwt_coefficients__coeff_14__w_10__widths_(2, 5, 10, 20)</th>\n",
              "      <th>I__cwt_coefficients__coeff_13__w_10__widths_(2, 5, 10, 20)</th>\n",
              "      <th>I__agg_linear_trend__attr_\"intercept\"__chunk_len_5__f_agg_\"max\"</th>\n",
              "      <th>I__agg_linear_trend__attr_\"intercept\"__chunk_len_10__f_agg_\"max\"</th>\n",
              "      <th>I__quantile__q_0.7</th>\n",
              "      <th>I__quantile__q_0.6</th>\n",
              "      <th>I__median</th>\n",
              "      <th>V__variance</th>\n",
              "      <th>V__change_quantiles__f_agg_\"var\"__isabs_False__qh_1.0__ql_0.0</th>\n",
              "      <th>V__agg_linear_trend__attr_\"stderr\"__chunk_len_5__f_agg_\"min\"</th>\n",
              "      <th>V__agg_linear_trend__attr_\"stderr\"__chunk_len_10__f_agg_\"max\"</th>\n",
              "      <th>V__agg_linear_trend__attr_\"intercept\"__chunk_len_5__f_agg_\"max\"</th>\n",
              "      <th>V__cwt_coefficients__coeff_3__w_5__widths_(2, 5, 10, 20)</th>\n",
              "      <th>V__cwt_coefficients__coeff_4__w_5__widths_(2, 5, 10, 20)</th>\n",
              "      <th>V__cwt_coefficients__coeff_2__w_5__widths_(2, 5, 10, 20)</th>\n",
              "      <th>V__cwt_coefficients__coeff_5__w_5__widths_(2, 5, 10, 20)</th>\n",
              "      <th>V__cwt_coefficients__coeff_5__w_2__widths_(2, 5, 10, 20)</th>\n",
              "      <th>V__cwt_coefficients__coeff_1__w_2__widths_(2, 5, 10, 20)</th>\n",
              "      <th>V__cwt_coefficients__coeff_2__w_2__widths_(2, 5, 10, 20)</th>\n",
              "      <th>V__cwt_coefficients__coeff_3__w_2__widths_(2, 5, 10, 20)</th>\n",
              "      <th>V__cwt_coefficients__coeff_4__w_2__widths_(2, 5, 10, 20)</th>\n",
              "      <th>V__cwt_coefficients__coeff_6__w_5__widths_(2, 5, 10, 20)</th>\n",
              "      <th>V__quantile__q_0.6</th>\n",
              "      <th>OH1</th>\n",
              "      <th>OH2</th>\n",
              "      <th>OH3</th>\n",
              "      <th>OH4</th>\n",
              "      <th>OH5</th>\n",
              "      <th>OH6</th>\n",
              "      <th>OH7</th>\n",
              "      <th>OH8</th>\n",
              "      <th>OH9</th>\n",
              "      <th>OY</th>\n",
              "    </tr>\n",
              "  </thead>\n",
              "  <tbody>\n",
              "    <tr>\n",
              "      <th>count</th>\n",
              "      <td>286122.000000</td>\n",
              "      <td>286122.000000</td>\n",
              "      <td>286122.000000</td>\n",
              "      <td>286122.000000</td>\n",
              "      <td>286122.000000</td>\n",
              "      <td>286122.000000</td>\n",
              "      <td>286122.000000</td>\n",
              "      <td>286122.000000</td>\n",
              "      <td>286122.000000</td>\n",
              "      <td>286122.000000</td>\n",
              "      <td>286122.000000</td>\n",
              "      <td>286122.000000</td>\n",
              "      <td>286122.000000</td>\n",
              "      <td>286122.000000</td>\n",
              "      <td>286122.000000</td>\n",
              "      <td>286122.000000</td>\n",
              "      <td>286122.000000</td>\n",
              "      <td>286122.000000</td>\n",
              "      <td>286122.000000</td>\n",
              "      <td>286122.000000</td>\n",
              "      <td>286122.000000</td>\n",
              "      <td>286122.000000</td>\n",
              "      <td>286122.000000</td>\n",
              "      <td>286122.000000</td>\n",
              "      <td>286122.000000</td>\n",
              "      <td>286122.000000</td>\n",
              "      <td>286122.000000</td>\n",
              "      <td>286122.000000</td>\n",
              "      <td>286122.000000</td>\n",
              "      <td>286122.000000</td>\n",
              "      <td>286122.000000</td>\n",
              "      <td>286122.000000</td>\n",
              "      <td>286122.000000</td>\n",
              "      <td>286122.000000</td>\n",
              "      <td>286122.000000</td>\n",
              "      <td>286122.000000</td>\n",
              "      <td>286122.000000</td>\n",
              "      <td>286122.000000</td>\n",
              "      <td>286122.000000</td>\n",
              "      <td>286122.000000</td>\n",
              "      <td>286122.000000</td>\n",
              "      <td>286122.000000</td>\n",
              "      <td>286122.000000</td>\n",
              "      <td>286122.000000</td>\n",
              "      <td>286122.000000</td>\n",
              "      <td>286122.000000</td>\n",
              "      <td>286122.000000</td>\n",
              "      <td>286122.000000</td>\n",
              "      <td>286122.000000</td>\n",
              "      <td>286122.000000</td>\n",
              "      <td>286122.000000</td>\n",
              "      <td>286122.000000</td>\n",
              "      <td>286122.000000</td>\n",
              "      <td>286122.000000</td>\n",
              "      <td>286122.000000</td>\n",
              "      <td>286122.000000</td>\n",
              "      <td>286122.000000</td>\n",
              "      <td>286122.000000</td>\n",
              "      <td>286122.000000</td>\n",
              "      <td>286122.000000</td>\n",
              "      <td>286122.000000</td>\n",
              "      <td>286122.000000</td>\n",
              "      <td>286122.000000</td>\n",
              "    </tr>\n",
              "    <tr>\n",
              "      <th>mean</th>\n",
              "      <td>13.507051</td>\n",
              "      <td>0.183785</td>\n",
              "      <td>0.116116</td>\n",
              "      <td>0.107828</td>\n",
              "      <td>0.129021</td>\n",
              "      <td>0.148957</td>\n",
              "      <td>0.086275</td>\n",
              "      <td>0.099957</td>\n",
              "      <td>0.093139</td>\n",
              "      <td>4.456822</td>\n",
              "      <td>5.539335</td>\n",
              "      <td>3.056676</td>\n",
              "      <td>1.754849</td>\n",
              "      <td>2.212086</td>\n",
              "      <td>7.045371</td>\n",
              "      <td>10.263783</td>\n",
              "      <td>13.409215</td>\n",
              "      <td>5.579989</td>\n",
              "      <td>16.458784</td>\n",
              "      <td>19.390280</td>\n",
              "      <td>22.183019</td>\n",
              "      <td>24.818179</td>\n",
              "      <td>29.551665</td>\n",
              "      <td>27.279183</td>\n",
              "      <td>31.623170</td>\n",
              "      <td>35.125375</td>\n",
              "      <td>36.543406</td>\n",
              "      <td>33.483457</td>\n",
              "      <td>2.930556</td>\n",
              "      <td>10.228220</td>\n",
              "      <td>24.606883</td>\n",
              "      <td>26.151883</td>\n",
              "      <td>17.088845</td>\n",
              "      <td>17.125293</td>\n",
              "      <td>17.040662</td>\n",
              "      <td>17.016345</td>\n",
              "      <td>16.992066</td>\n",
              "      <td>505.389719</td>\n",
              "      <td>75.303527</td>\n",
              "      <td>0.038360</td>\n",
              "      <td>-0.157724</td>\n",
              "      <td>20.880963</td>\n",
              "      <td>20.519011</td>\n",
              "      <td>23.304415</td>\n",
              "      <td>15.682749</td>\n",
              "      <td>23.996867</td>\n",
              "      <td>2.807346</td>\n",
              "      <td>11.233701</td>\n",
              "      <td>15.144725</td>\n",
              "      <td>11.997754</td>\n",
              "      <td>6.624441</td>\n",
              "      <td>22.900598</td>\n",
              "      <td>18.772853</td>\n",
              "      <td>0.001220</td>\n",
              "      <td>0.061449</td>\n",
              "      <td>0.000479</td>\n",
              "      <td>0.009744</td>\n",
              "      <td>0.273810</td>\n",
              "      <td>0.389271</td>\n",
              "      <td>0.000080</td>\n",
              "      <td>0.261899</td>\n",
              "      <td>0.002048</td>\n",
              "      <td>4.983392</td>\n",
              "    </tr>\n",
              "    <tr>\n",
              "      <th>std</th>\n",
              "      <td>13.694786</td>\n",
              "      <td>0.304260</td>\n",
              "      <td>0.223004</td>\n",
              "      <td>0.208133</td>\n",
              "      <td>0.242378</td>\n",
              "      <td>0.267180</td>\n",
              "      <td>0.174787</td>\n",
              "      <td>0.195136</td>\n",
              "      <td>0.184527</td>\n",
              "      <td>0.359042</td>\n",
              "      <td>0.534112</td>\n",
              "      <td>0.185799</td>\n",
              "      <td>0.069587</td>\n",
              "      <td>0.283247</td>\n",
              "      <td>3.984579</td>\n",
              "      <td>4.096515</td>\n",
              "      <td>4.233359</td>\n",
              "      <td>0.652184</td>\n",
              "      <td>4.389217</td>\n",
              "      <td>4.556246</td>\n",
              "      <td>4.727421</td>\n",
              "      <td>4.897199</td>\n",
              "      <td>5.220143</td>\n",
              "      <td>5.062012</td>\n",
              "      <td>5.365435</td>\n",
              "      <td>5.609272</td>\n",
              "      <td>5.706350</td>\n",
              "      <td>5.495777</td>\n",
              "      <td>1.070098</td>\n",
              "      <td>1.178678</td>\n",
              "      <td>3.258882</td>\n",
              "      <td>3.415118</td>\n",
              "      <td>2.014632</td>\n",
              "      <td>2.040601</td>\n",
              "      <td>1.968160</td>\n",
              "      <td>1.957471</td>\n",
              "      <td>1.946528</td>\n",
              "      <td>9611.156393</td>\n",
              "      <td>1413.959570</td>\n",
              "      <td>0.598833</td>\n",
              "      <td>5.147174</td>\n",
              "      <td>47.530969</td>\n",
              "      <td>29.655364</td>\n",
              "      <td>35.223434</td>\n",
              "      <td>20.880494</td>\n",
              "      <td>37.387167</td>\n",
              "      <td>4.599357</td>\n",
              "      <td>18.031096</td>\n",
              "      <td>25.009651</td>\n",
              "      <td>19.938252</td>\n",
              "      <td>10.957653</td>\n",
              "      <td>36.508464</td>\n",
              "      <td>21.679613</td>\n",
              "      <td>0.034904</td>\n",
              "      <td>0.240153</td>\n",
              "      <td>0.021877</td>\n",
              "      <td>0.098230</td>\n",
              "      <td>0.445913</td>\n",
              "      <td>0.487586</td>\n",
              "      <td>0.008965</td>\n",
              "      <td>0.439669</td>\n",
              "      <td>0.045209</td>\n",
              "      <td>1.548102</td>\n",
              "    </tr>\n",
              "    <tr>\n",
              "      <th>min</th>\n",
              "      <td>-439.861981</td>\n",
              "      <td>-0.793005</td>\n",
              "      <td>-0.917665</td>\n",
              "      <td>-0.793043</td>\n",
              "      <td>-0.875278</td>\n",
              "      <td>-0.718652</td>\n",
              "      <td>-1.446503</td>\n",
              "      <td>-0.962559</td>\n",
              "      <td>-1.049972</td>\n",
              "      <td>1.609438</td>\n",
              "      <td>1.386294</td>\n",
              "      <td>1.304407</td>\n",
              "      <td>0.895389</td>\n",
              "      <td>0.461911</td>\n",
              "      <td>-0.782512</td>\n",
              "      <td>-0.658666</td>\n",
              "      <td>-1.677169</td>\n",
              "      <td>2.860194</td>\n",
              "      <td>-2.825155</td>\n",
              "      <td>-4.090479</td>\n",
              "      <td>-5.458613</td>\n",
              "      <td>-6.912820</td>\n",
              "      <td>-10.002751</td>\n",
              "      <td>-8.434358</td>\n",
              "      <td>-11.596064</td>\n",
              "      <td>-14.764500</td>\n",
              "      <td>-16.291620</td>\n",
              "      <td>-13.191252</td>\n",
              "      <td>-48.884054</td>\n",
              "      <td>5.525140</td>\n",
              "      <td>-7.329250</td>\n",
              "      <td>-3.371503</td>\n",
              "      <td>9.164088</td>\n",
              "      <td>9.171179</td>\n",
              "      <td>8.895800</td>\n",
              "      <td>8.824800</td>\n",
              "      <td>8.667000</td>\n",
              "      <td>-58311.361523</td>\n",
              "      <td>-344.439874</td>\n",
              "      <td>-2.952143</td>\n",
              "      <td>-124.893689</td>\n",
              "      <td>-130.440932</td>\n",
              "      <td>8.212921</td>\n",
              "      <td>-0.290036</td>\n",
              "      <td>5.662342</td>\n",
              "      <td>-9.313645</td>\n",
              "      <td>-14.116009</td>\n",
              "      <td>4.220412</td>\n",
              "      <td>2.393058</td>\n",
              "      <td>5.638090</td>\n",
              "      <td>0.742706</td>\n",
              "      <td>-15.590804</td>\n",
              "      <td>-882.705115</td>\n",
              "      <td>0.000000</td>\n",
              "      <td>0.000000</td>\n",
              "      <td>0.000000</td>\n",
              "      <td>0.000000</td>\n",
              "      <td>0.000000</td>\n",
              "      <td>0.000000</td>\n",
              "      <td>0.000000</td>\n",
              "      <td>0.000000</td>\n",
              "      <td>0.000000</td>\n",
              "      <td>0.000000</td>\n",
              "    </tr>\n",
              "    <tr>\n",
              "      <th>25%</th>\n",
              "      <td>4.711044</td>\n",
              "      <td>-0.028569</td>\n",
              "      <td>-0.019070</td>\n",
              "      <td>-0.018263</td>\n",
              "      <td>-0.020758</td>\n",
              "      <td>-0.022758</td>\n",
              "      <td>-0.016998</td>\n",
              "      <td>-0.017261</td>\n",
              "      <td>-0.017474</td>\n",
              "      <td>4.422767</td>\n",
              "      <td>5.462506</td>\n",
              "      <td>3.048032</td>\n",
              "      <td>1.754218</td>\n",
              "      <td>1.968224</td>\n",
              "      <td>5.854477</td>\n",
              "      <td>8.722569</td>\n",
              "      <td>11.526420</td>\n",
              "      <td>4.969424</td>\n",
              "      <td>14.245302</td>\n",
              "      <td>16.859300</td>\n",
              "      <td>19.350669</td>\n",
              "      <td>21.702989</td>\n",
              "      <td>25.932993</td>\n",
              "      <td>23.901384</td>\n",
              "      <td>27.786084</td>\n",
              "      <td>30.922216</td>\n",
              "      <td>32.193830</td>\n",
              "      <td>29.451568</td>\n",
              "      <td>2.584349</td>\n",
              "      <td>9.110995</td>\n",
              "      <td>21.831320</td>\n",
              "      <td>23.204907</td>\n",
              "      <td>15.157839</td>\n",
              "      <td>15.165237</td>\n",
              "      <td>15.153000</td>\n",
              "      <td>15.145000</td>\n",
              "      <td>15.138000</td>\n",
              "      <td>0.000747</td>\n",
              "      <td>0.001182</td>\n",
              "      <td>0.000938</td>\n",
              "      <td>0.002384</td>\n",
              "      <td>16.872000</td>\n",
              "      <td>16.616662</td>\n",
              "      <td>19.199937</td>\n",
              "      <td>12.260068</td>\n",
              "      <td>19.875324</td>\n",
              "      <td>2.183259</td>\n",
              "      <td>9.375883</td>\n",
              "      <td>12.781548</td>\n",
              "      <td>10.119802</td>\n",
              "      <td>5.519840</td>\n",
              "      <td>19.014970</td>\n",
              "      <td>16.817400</td>\n",
              "      <td>0.000000</td>\n",
              "      <td>0.000000</td>\n",
              "      <td>0.000000</td>\n",
              "      <td>0.000000</td>\n",
              "      <td>0.000000</td>\n",
              "      <td>0.000000</td>\n",
              "      <td>0.000000</td>\n",
              "      <td>0.000000</td>\n",
              "      <td>0.000000</td>\n",
              "      <td>4.000000</td>\n",
              "    </tr>\n",
              "    <tr>\n",
              "      <th>50%</th>\n",
              "      <td>15.018787</td>\n",
              "      <td>0.075232</td>\n",
              "      <td>0.049531</td>\n",
              "      <td>0.048107</td>\n",
              "      <td>0.052630</td>\n",
              "      <td>0.061496</td>\n",
              "      <td>0.041170</td>\n",
              "      <td>0.045785</td>\n",
              "      <td>0.043426</td>\n",
              "      <td>4.590470</td>\n",
              "      <td>5.665350</td>\n",
              "      <td>3.127675</td>\n",
              "      <td>1.780147</td>\n",
              "      <td>2.198103</td>\n",
              "      <td>6.677086</td>\n",
              "      <td>9.944148</td>\n",
              "      <td>13.133214</td>\n",
              "      <td>5.632524</td>\n",
              "      <td>16.224800</td>\n",
              "      <td>19.196004</td>\n",
              "      <td>22.028405</td>\n",
              "      <td>24.702015</td>\n",
              "      <td>29.504430</td>\n",
              "      <td>27.198971</td>\n",
              "      <td>31.603424</td>\n",
              "      <td>35.154174</td>\n",
              "      <td>36.593978</td>\n",
              "      <td>33.487590</td>\n",
              "      <td>2.908681</td>\n",
              "      <td>10.328045</td>\n",
              "      <td>24.769320</td>\n",
              "      <td>26.328267</td>\n",
              "      <td>17.246924</td>\n",
              "      <td>17.280727</td>\n",
              "      <td>17.201000</td>\n",
              "      <td>17.177200</td>\n",
              "      <td>17.156000</td>\n",
              "      <td>0.009678</td>\n",
              "      <td>0.014098</td>\n",
              "      <td>0.002650</td>\n",
              "      <td>0.006776</td>\n",
              "      <td>17.900903</td>\n",
              "      <td>18.233696</td>\n",
              "      <td>20.559726</td>\n",
              "      <td>13.822960</td>\n",
              "      <td>21.164817</td>\n",
              "      <td>2.293136</td>\n",
              "      <td>9.952704</td>\n",
              "      <td>13.539536</td>\n",
              "      <td>10.689909</td>\n",
              "      <td>5.830141</td>\n",
              "      <td>20.173477</td>\n",
              "      <td>17.717100</td>\n",
              "      <td>0.000000</td>\n",
              "      <td>0.000000</td>\n",
              "      <td>0.000000</td>\n",
              "      <td>0.000000</td>\n",
              "      <td>0.000000</td>\n",
              "      <td>0.000000</td>\n",
              "      <td>0.000000</td>\n",
              "      <td>0.000000</td>\n",
              "      <td>0.000000</td>\n",
              "      <td>5.000000</td>\n",
              "    </tr>\n",
              "    <tr>\n",
              "      <th>75%</th>\n",
              "      <td>20.674117</td>\n",
              "      <td>0.331038</td>\n",
              "      <td>0.182871</td>\n",
              "      <td>0.173235</td>\n",
              "      <td>0.204297</td>\n",
              "      <td>0.240419</td>\n",
              "      <td>0.142529</td>\n",
              "      <td>0.162323</td>\n",
              "      <td>0.153871</td>\n",
              "      <td>4.652623</td>\n",
              "      <td>5.860470</td>\n",
              "      <td>3.151808</td>\n",
              "      <td>1.787484</td>\n",
              "      <td>2.439325</td>\n",
              "      <td>7.297633</td>\n",
              "      <td>10.875986</td>\n",
              "      <td>14.372031</td>\n",
              "      <td>6.182538</td>\n",
              "      <td>17.761313</td>\n",
              "      <td>21.020423</td>\n",
              "      <td>24.126124</td>\n",
              "      <td>27.057958</td>\n",
              "      <td>32.329506</td>\n",
              "      <td>29.797954</td>\n",
              "      <td>34.639046</td>\n",
              "      <td>38.549405</td>\n",
              "      <td>40.135165</td>\n",
              "      <td>36.715198</td>\n",
              "      <td>3.203100</td>\n",
              "      <td>11.342187</td>\n",
              "      <td>27.186352</td>\n",
              "      <td>28.897197</td>\n",
              "      <td>19.010709</td>\n",
              "      <td>19.057495</td>\n",
              "      <td>18.939200</td>\n",
              "      <td>18.902000</td>\n",
              "      <td>18.860000</td>\n",
              "      <td>0.041554</td>\n",
              "      <td>0.076447</td>\n",
              "      <td>0.009487</td>\n",
              "      <td>0.021939</td>\n",
              "      <td>19.631740</td>\n",
              "      <td>19.490283</td>\n",
              "      <td>22.353647</td>\n",
              "      <td>14.793258</td>\n",
              "      <td>23.098689</td>\n",
              "      <td>2.530097</td>\n",
              "      <td>10.850407</td>\n",
              "      <td>14.771409</td>\n",
              "      <td>11.679229</td>\n",
              "      <td>6.367374</td>\n",
              "      <td>22.105726</td>\n",
              "      <td>19.468800</td>\n",
              "      <td>0.000000</td>\n",
              "      <td>0.000000</td>\n",
              "      <td>0.000000</td>\n",
              "      <td>0.000000</td>\n",
              "      <td>1.000000</td>\n",
              "      <td>1.000000</td>\n",
              "      <td>0.000000</td>\n",
              "      <td>1.000000</td>\n",
              "      <td>0.000000</td>\n",
              "      <td>7.000000</td>\n",
              "    </tr>\n",
              "    <tr>\n",
              "      <th>max</th>\n",
              "      <td>4775.443655</td>\n",
              "      <td>0.998748</td>\n",
              "      <td>0.995583</td>\n",
              "      <td>0.994289</td>\n",
              "      <td>0.996775</td>\n",
              "      <td>0.997823</td>\n",
              "      <td>1.409755</td>\n",
              "      <td>0.995681</td>\n",
              "      <td>1.787245</td>\n",
              "      <td>4.761095</td>\n",
              "      <td>6.390080</td>\n",
              "      <td>3.175780</td>\n",
              "      <td>1.791759</td>\n",
              "      <td>12.896839</td>\n",
              "      <td>56.622355</td>\n",
              "      <td>60.377384</td>\n",
              "      <td>64.034896</td>\n",
              "      <td>20.511223</td>\n",
              "      <td>67.567551</td>\n",
              "      <td>70.947630</td>\n",
              "      <td>74.160656</td>\n",
              "      <td>77.178818</td>\n",
              "      <td>82.574011</td>\n",
              "      <td>79.990108</td>\n",
              "      <td>84.915110</td>\n",
              "      <td>88.841884</td>\n",
              "      <td>90.406991</td>\n",
              "      <td>87.007985</td>\n",
              "      <td>36.577848</td>\n",
              "      <td>22.751343</td>\n",
              "      <td>64.818902</td>\n",
              "      <td>65.275824</td>\n",
              "      <td>22.339626</td>\n",
              "      <td>22.844210</td>\n",
              "      <td>21.999400</td>\n",
              "      <td>21.821800</td>\n",
              "      <td>21.668000</td>\n",
              "      <td>236147.035896</td>\n",
              "      <td>58385.944358</td>\n",
              "      <td>35.026469</td>\n",
              "      <td>223.619872</td>\n",
              "      <td>1090.418892</td>\n",
              "      <td>717.461293</td>\n",
              "      <td>797.811179</td>\n",
              "      <td>569.361095</td>\n",
              "      <td>812.756979</td>\n",
              "      <td>99.032783</td>\n",
              "      <td>371.114703</td>\n",
              "      <td>509.504897</td>\n",
              "      <td>403.607663</td>\n",
              "      <td>225.906780</td>\n",
              "      <td>784.152472</td>\n",
              "      <td>793.352400</td>\n",
              "      <td>1.000000</td>\n",
              "      <td>1.000000</td>\n",
              "      <td>1.000000</td>\n",
              "      <td>1.000000</td>\n",
              "      <td>1.000000</td>\n",
              "      <td>1.000000</td>\n",
              "      <td>1.000000</td>\n",
              "      <td>1.000000</td>\n",
              "      <td>1.000000</td>\n",
              "      <td>8.000000</td>\n",
              "    </tr>\n",
              "  </tbody>\n",
              "</table>\n",
              "</div>"
            ],
            "text/plain": [
              "       I__ar_coefficient__coeff_0__k_10  ...             OY\n",
              "count                     286122.000000  ...  286122.000000\n",
              "mean                          13.507051  ...       4.983392\n",
              "std                           13.694786  ...       1.548102\n",
              "min                         -439.861981  ...       0.000000\n",
              "25%                            4.711044  ...       4.000000\n",
              "50%                           15.018787  ...       5.000000\n",
              "75%                           20.674117  ...       7.000000\n",
              "max                         4775.443655  ...       8.000000\n",
              "\n",
              "[8 rows x 63 columns]"
            ]
          },
          "metadata": {
            "tags": []
          },
          "execution_count": 57
        }
      ]
    },
    {
      "cell_type": "code",
      "metadata": {
        "id": "A6K3l8iv0eP1"
      },
      "source": [
        "zipObj = ZipFile('final_data.zip', 'w', zipfile.ZIP_BZIP2)\n",
        "zipObj.write('/content/final_data')\n",
        "zipObj.close()"
      ],
      "execution_count": null,
      "outputs": []
    },
    {
      "cell_type": "markdown",
      "metadata": {
        "id": "7k4SiOwC0PuO"
      },
      "source": [
        "-----\n",
        "# Fitting Models :"
      ]
    },
    {
      "cell_type": "markdown",
      "metadata": {
        "id": "QSr0e09B93k5"
      },
      "source": [
        "# data"
      ]
    },
    {
      "cell_type": "code",
      "metadata": {
        "id": "booBQzTB0w-v"
      },
      "source": [
        "Archive('/content/drive/MyDrive/final_data.rar').extractall('/content')\n",
        "final_data = pd.read_csv('/content/final_data', index_col=0, header=0)"
      ],
      "execution_count": null,
      "outputs": []
    },
    {
      "cell_type": "code",
      "metadata": {
        "id": "q26tsAx8wupv"
      },
      "source": [
        "X = final_data.iloc[:,0:53]\n",
        "Y = final_data['class']\n",
        "OH_Y = final_data.loc[:,'OH1':'OH9']\n",
        "O_Y = final_data['OY']\n",
        "LPV_Y = final_data['OH6']\n",
        "categories = Y"
      ],
      "execution_count": null,
      "outputs": []
    },
    {
      "cell_type": "code",
      "metadata": {
        "colab": {
          "base_uri": "https://localhost:8080/"
        },
        "id": "5FMoHWBuy7Ka",
        "outputId": "e96ec196-4343-490d-a3af-46eda8833d7b"
      },
      "source": [
        "Y.value_counts()"
      ],
      "execution_count": null,
      "outputs": [
        {
          "output_type": "execute_result",
          "data": {
            "text/plain": [
              "LPV      111379\n",
              "ECL       78343\n",
              "RRLYR     74935\n",
              "CEP       17582\n",
              "DSCT       2788\n",
              "T2CEP       586\n",
              "ACEP        349\n",
              "DPV         137\n",
              "RCB          23\n",
              "Name: class, dtype: int64"
            ]
          },
          "metadata": {
            "tags": []
          },
          "execution_count": 14
        }
      ]
    },
    {
      "cell_type": "code",
      "metadata": {
        "id": "Upjz3xkV2M3K",
        "colab": {
          "base_uri": "https://localhost:8080/",
          "height": 1000
        },
        "outputId": "44b699f4-a67a-41c6-d372-33a88632920a"
      },
      "source": [
        "import seaborn as sns\n",
        "\n",
        "\n",
        "fig = plt.figure(figsize = [20, 20])\n",
        "matrix = np.triu(X.corr())\n",
        "sns.heatmap(X.corr(), yticklabels=False, mask=matrix,\n",
        "            cmap=sns.diverging_palette(20, 220, n=200))\n",
        "\n",
        "plt.savefig('XCorr.pdf')"
      ],
      "execution_count": null,
      "outputs": [
        {
          "output_type": "display_data",
          "data": {
            "image/png": "[encoded data removed]",
            "text/plain": [
              "<Figure size 1440x1440 with 2 Axes>"
            ]
          },
          "metadata": {
            "tags": [],
            "needs_background": "light"
          }
        }
      ]
    },
    {
      "cell_type": "markdown",
      "metadata": {
        "id": "SGvHETHRw1--"
      },
      "source": [
        "-----\n",
        "# Problem Selection (with KNN)"
      ]
    },
    {
      "cell_type": "code",
      "metadata": {
        "id": "65UeVgPIw68w"
      },
      "source": [
        "from sklearn import preprocessing\n",
        "\n",
        "# problem 11\n",
        "X11 = X\n",
        "Y11 = O_Y\n",
        "\n",
        "# problem 12\n",
        "X12 = X\n",
        "Y12 = Y\n",
        "Y12 = Y12.replace({'ACEP': 'CEP', 'T2CEP': 'CEP'})\n",
        "LE12 = preprocessing.LabelEncoder()\n",
        "y = LE12.fit_transform(Y12)\n",
        "Y12 = pd.DataFrame(y)\n",
        "Y12.columns = ['Y12']\n",
        "\n",
        "# problem 2\n",
        "X2 = X\n",
        "Y2 = LPV_Y\n",
        "\n",
        "# problem 31\n",
        "X31 = X\n",
        "Y31 = Y\n",
        "Y31 = Y31.replace({'ACEP':'CEP','T2CEP':'CEP','DSCT':'OTHER',\n",
        "                   'RCB':'OTHER','DPV':'OTHER'})\n",
        "LE31 = preprocessing.LabelEncoder()\n",
        "y = LE31.fit_transform(Y31)\n",
        "Y31 = pd.DataFrame(y)\n",
        "Y31.columns = ['Y31']\n",
        "\n",
        "# problem 32\n",
        "X32 = X\n",
        "Y32 = Y\n",
        "Y32 = Y32.replace({'ACEP':'CEP','T2CEP':'CEP',\n",
        "                   'RCB':'OTHER','DPV':'OTHER'})\n",
        "LE32 = preprocessing.LabelEncoder()\n",
        "y = LE32.fit_transform(Y32)\n",
        "Y32 = pd.DataFrame(y)\n",
        "Y32.columns = ['Y32']\n",
        "\n",
        "# problem 41\n",
        "a = final_data\n",
        "a = a.drop(a[a['class'] == 'RCB'].index)\n",
        "a = a.drop(a[a['class'] == 'DPV'].index)\n",
        "a = a.drop(a[a['class'] == 'DSCT'].index)\n",
        "\n",
        "X41 = a.iloc[:,0:53]\n",
        "Y41 = a['class']\n",
        "Y41 = Y41.replace({'ACEP': 'CEP', 'T2CEP': 'CEP'})\n",
        "LE41 = preprocessing.LabelEncoder()\n",
        "y = LE41.fit_transform(Y41)\n",
        "Y41 = pd.DataFrame(y)\n",
        "Y41.columns = ['Y41']\n",
        "\n",
        "# problem 42\n",
        "a = final_data\n",
        "a = a.drop(a[a['class'] == 'RCB'].index)\n",
        "a = a.drop(a[a['class'] == 'DPV'].index)\n",
        "\n",
        "X42 = a.iloc[:,0:53]\n",
        "Y42 = a['class']\n",
        "Y42 = Y42.replace({'ACEP': 'CEP', 'T2CEP': 'CEP'})\n",
        "LE42 = preprocessing.LabelEncoder()\n",
        "y = LE42.fit_transform(Y42)\n",
        "Y42 = pd.DataFrame(y)\n",
        "Y42.columns = ['Y42']"
      ],
      "execution_count": null,
      "outputs": []
    },
    {
      "cell_type": "markdown",
      "metadata": {
        "id": "VEKMKPpu744e"
      },
      "source": [
        "> * function for testing problems :"
      ]
    },
    {
      "cell_type": "code",
      "metadata": {
        "id": "Oaaf0Xxw5vHM"
      },
      "source": [
        "from sklearn.neighbors import KNeighborsClassifier\n",
        "from sklearn.model_selection import train_test_split\n",
        "from sklearn.metrics import classification_report\n",
        "from sklearn.metrics import confusion_matrix, plot_confusion_matrix\n",
        "\n",
        "def clf_reports(x,y,tn):\n",
        "  clf = KNeighborsClassifier()\n",
        "\n",
        "  x_train, x_test, y_train, y_test= train_test_split(x, y, test_size=0.2, random_state=42)\n",
        "  clf.fit(x_train, y_train)\n",
        "  #clf.score(x_test,y_test)\n",
        "\n",
        "  y_pred = clf.predict(x_test)\n",
        "  print(classification_report(y_test, y_pred, target_names=tn),'\\n')\n",
        "\n",
        "  fig, ax = plt.subplots(figsize=(10, 10))\n",
        "  plot_confusion_matrix(clf, x_test, y_test,  ax=ax, display_labels=tn, normalize='true')\n",
        "  return"
      ],
      "execution_count": null,
      "outputs": []
    },
    {
      "cell_type": "markdown",
      "metadata": {
        "id": "J66lOTV34hxC"
      },
      "source": [
        "------\n",
        "> * problem 1.1 :"
      ]
    },
    {
      "cell_type": "code",
      "metadata": {
        "colab": {
          "base_uri": "https://localhost:8080/",
          "height": 872
        },
        "id": "7wQdj2vz4fnc",
        "outputId": "a7ab7477-70fe-4c45-c49a-b239037b4267"
      },
      "source": [
        "tns = ['ACEP', 'CEP', 'DPV', 'DSCT', 'ECL', 'LPV', 'RCB', 'RRLYR','T2CEP']\n",
        "clf_reports(X11,Y11,tns)"
      ],
      "execution_count": null,
      "outputs": [
        {
          "output_type": "stream",
          "text": [
            "              precision    recall  f1-score   support\n",
            "\n",
            "        ACEP       0.21      0.05      0.08        65\n",
            "         CEP       0.84      0.88      0.86      3468\n",
            "         DPV       0.62      0.23      0.33        22\n",
            "        DSCT       0.68      0.46      0.55       604\n",
            "         ECL       0.86      0.87      0.87     15802\n",
            "         LPV       0.99      1.00      0.99     22288\n",
            "         RCB       0.00      0.00      0.00         4\n",
            "       RRLYR       0.90      0.89      0.89     14865\n",
            "       T2CEP       1.00      0.03      0.05       107\n",
            "\n",
            "    accuracy                           0.92     57225\n",
            "   macro avg       0.68      0.49      0.51     57225\n",
            "weighted avg       0.92      0.92      0.92     57225\n",
            " \n",
            "\n"
          ],
          "name": "stdout"
        },
        {
          "output_type": "display_data",
          "data": {
            "image/png": "[encoded data removed]",
            "text/plain": [
              "<Figure size 720x720 with 2 Axes>"
            ]
          },
          "metadata": {
            "tags": [],
            "needs_background": "light"
          }
        }
      ]
    },
    {
      "cell_type": "markdown",
      "metadata": {
        "id": "Ea5Q2PrW7KWA"
      },
      "source": [
        "------\n",
        "> * problem 1.2 :"
      ]
    },
    {
      "cell_type": "code",
      "metadata": {
        "colab": {
          "base_uri": "https://localhost:8080/",
          "height": 838
        },
        "id": "3aY7CUbZ7MfR",
        "outputId": "cb7e75bd-9c52-4739-92ca-a362efcd5584"
      },
      "source": [
        "tns = LE12.inverse_transform(np.arange(0,7))\n",
        "clf_reports(X12,Y12,tns)"
      ],
      "execution_count": null,
      "outputs": [
        {
          "output_type": "stream",
          "text": [
            "              precision    recall  f1-score   support\n",
            "\n",
            "         CEP       0.86      0.86      0.86      3640\n",
            "         DPV       0.62      0.23      0.33        22\n",
            "        DSCT       0.68      0.46      0.55       604\n",
            "         ECL       0.86      0.87      0.87     15802\n",
            "         LPV       0.99      1.00      0.99     22288\n",
            "         RCB       0.00      0.00      0.00         4\n",
            "       RRLYR       0.90      0.89      0.89     14865\n",
            "\n",
            "    accuracy                           0.92     57225\n",
            "   macro avg       0.70      0.62      0.64     57225\n",
            "weighted avg       0.92      0.92      0.92     57225\n",
            " \n",
            "\n"
          ],
          "name": "stdout"
        },
        {
          "output_type": "display_data",
          "data": {
            "image/png": "[encoded data removed]",
            "text/plain": [
              "<Figure size 720x720 with 2 Axes>"
            ]
          },
          "metadata": {
            "tags": [],
            "needs_background": "light"
          }
        }
      ]
    },
    {
      "cell_type": "markdown",
      "metadata": {
        "id": "BSnpMX9b7M8_"
      },
      "source": [
        "------\n",
        "> * problem 2 :"
      ]
    },
    {
      "cell_type": "code",
      "metadata": {
        "colab": {
          "base_uri": "https://localhost:8080/",
          "height": 744
        },
        "id": "kLcqpZqp9bJe",
        "outputId": "62f92740-6f2f-4428-86a0-930dedf5b93e"
      },
      "source": [
        "tns = ['Not-LPV', 'LPV']\n",
        "clf_reports(X2,Y2,tns)"
      ],
      "execution_count": null,
      "outputs": [
        {
          "output_type": "stream",
          "text": [
            "              precision    recall  f1-score   support\n",
            "\n",
            "     Not-LPV       1.00      0.99      0.99     34937\n",
            "         LPV       0.99      1.00      0.99     22288\n",
            "\n",
            "    accuracy                           0.99     57225\n",
            "   macro avg       0.99      0.99      0.99     57225\n",
            "weighted avg       0.99      0.99      0.99     57225\n",
            " \n",
            "\n"
          ],
          "name": "stdout"
        },
        {
          "output_type": "display_data",
          "data": {
            "image/png": "[encoded data removed]",
            "text/plain": [
              "<Figure size 720x720 with 2 Axes>"
            ]
          },
          "metadata": {
            "tags": [],
            "needs_background": "light"
          }
        }
      ]
    },
    {
      "cell_type": "markdown",
      "metadata": {
        "id": "vDBhuz1D7NMR"
      },
      "source": [
        "------\n",
        "> * problem 3.1 :"
      ]
    },
    {
      "cell_type": "code",
      "metadata": {
        "colab": {
          "base_uri": "https://localhost:8080/",
          "height": 804
        },
        "id": "2Jkndxgl_S4p",
        "outputId": "7f521eba-5e5b-4f3d-d87a-98f8d22f6061"
      },
      "source": [
        "tns = LE31.inverse_transform(np.arange(0,5))\n",
        "clf_reports(X31,Y31,tns)"
      ],
      "execution_count": null,
      "outputs": [
        {
          "output_type": "stream",
          "text": [
            "              precision    recall  f1-score   support\n",
            "\n",
            "         CEP       0.86      0.86      0.86      3640\n",
            "         ECL       0.86      0.87      0.87     15802\n",
            "         LPV       0.99      1.00      0.99     22288\n",
            "       OTHER       0.74      0.43      0.54       630\n",
            "       RRLYR       0.90      0.89      0.89     14865\n",
            "\n",
            "    accuracy                           0.92     57225\n",
            "   macro avg       0.87      0.81      0.83     57225\n",
            "weighted avg       0.92      0.92      0.92     57225\n",
            " \n",
            "\n"
          ],
          "name": "stdout"
        },
        {
          "output_type": "display_data",
          "data": {
            "image/png": "[encoded data removed]",
            "text/plain": [
              "<Figure size 720x720 with 2 Axes>"
            ]
          },
          "metadata": {
            "tags": [],
            "needs_background": "light"
          }
        }
      ]
    },
    {
      "cell_type": "markdown",
      "metadata": {
        "id": "Wphgj6PN7NZd"
      },
      "source": [
        "------\n",
        "> * problem 3.2 :"
      ]
    },
    {
      "cell_type": "code",
      "metadata": {
        "colab": {
          "base_uri": "https://localhost:8080/",
          "height": 821
        },
        "id": "JPTh6jGf_vb5",
        "outputId": "2e59fbcb-0cc9-4840-9f61-6d8f729e2019"
      },
      "source": [
        "tns = LE32.inverse_transform(np.arange(0,6))\n",
        "clf_reports(X32,Y32,tns)"
      ],
      "execution_count": null,
      "outputs": [
        {
          "output_type": "stream",
          "text": [
            "              precision    recall  f1-score   support\n",
            "\n",
            "         CEP       0.86      0.86      0.86      3640\n",
            "        DSCT       0.68      0.46      0.55       604\n",
            "         ECL       0.86      0.87      0.87     15802\n",
            "         LPV       0.99      1.00      0.99     22288\n",
            "       OTHER       0.50      0.08      0.13        26\n",
            "       RRLYR       0.90      0.89      0.89     14865\n",
            "\n",
            "    accuracy                           0.92     57225\n",
            "   macro avg       0.80      0.69      0.72     57225\n",
            "weighted avg       0.92      0.92      0.92     57225\n",
            " \n",
            "\n"
          ],
          "name": "stdout"
        },
        {
          "output_type": "display_data",
          "data": {
            "image/png": "[encoded data removed]",
            "text/plain": [
              "<Figure size 720x720 with 2 Axes>"
            ]
          },
          "metadata": {
            "tags": [],
            "needs_background": "light"
          }
        }
      ]
    },
    {
      "cell_type": "markdown",
      "metadata": {
        "id": "4fApgUX67Qn8"
      },
      "source": [
        "------\n",
        "> * problem 4.1 :"
      ]
    },
    {
      "cell_type": "code",
      "metadata": {
        "colab": {
          "base_uri": "https://localhost:8080/",
          "height": 778
        },
        "id": "PKMDHENA_6EW",
        "outputId": "9c81a11b-2204-4001-cbc7-580c42f933c3"
      },
      "source": [
        "tns = LE41.inverse_transform(np.arange(0,4))\n",
        "clf_reports(X41,Y41,tns)"
      ],
      "execution_count": null,
      "outputs": [
        {
          "output_type": "stream",
          "text": [
            "              precision    recall  f1-score   support\n",
            "\n",
            "         CEP       0.86      0.85      0.86      3685\n",
            "         ECL       0.87      0.88      0.88     15729\n",
            "         LPV       0.99      1.00      0.99     22284\n",
            "       RRLYR       0.90      0.89      0.90     14937\n",
            "\n",
            "    accuracy                           0.93     56635\n",
            "   macro avg       0.91      0.90      0.90     56635\n",
            "weighted avg       0.93      0.93      0.93     56635\n",
            " \n",
            "\n"
          ],
          "name": "stdout"
        },
        {
          "output_type": "display_data",
          "data": {
            "image/png": "[encoded data removed]",
            "text/plain": [
              "<Figure size 720x720 with 2 Axes>"
            ]
          },
          "metadata": {
            "tags": [],
            "needs_background": "light"
          }
        }
      ]
    },
    {
      "cell_type": "markdown",
      "metadata": {
        "id": "EFQ3Fpru7Q63"
      },
      "source": [
        "------\n",
        "> * problem 4.2 :"
      ]
    },
    {
      "cell_type": "code",
      "metadata": {
        "colab": {
          "base_uri": "https://localhost:8080/",
          "height": 804
        },
        "id": "co_2jYsfAG2N",
        "outputId": "aab91679-33f4-4852-ed63-199e3059ce76"
      },
      "source": [
        "tns = LE42.inverse_transform(np.arange(0,5))\n",
        "clf_reports(X42,Y42,tns)"
      ],
      "execution_count": null,
      "outputs": [
        {
          "output_type": "stream",
          "text": [
            "              precision    recall  f1-score   support\n",
            "\n",
            "         CEP       0.86      0.86      0.86      3687\n",
            "        DSCT       0.63      0.43      0.51       523\n",
            "         ECL       0.86      0.87      0.87     15469\n",
            "         LPV       0.99      1.00      0.99     22481\n",
            "       RRLYR       0.90      0.89      0.89     15033\n",
            "\n",
            "    accuracy                           0.92     57193\n",
            "   macro avg       0.85      0.81      0.82     57193\n",
            "weighted avg       0.92      0.92      0.92     57193\n",
            " \n",
            "\n"
          ],
          "name": "stdout"
        },
        {
          "output_type": "display_data",
          "data": {
            "image/png": "[encoded data removed]",
            "text/plain": [
              "<Figure size 720x720 with 2 Axes>"
            ]
          },
          "metadata": {
            "tags": [],
            "needs_background": "light"
          }
        }
      ]
    },
    {
      "cell_type": "markdown",
      "metadata": {
        "id": "lj5JVJM4Yk7D"
      },
      "source": [
        "-----\n",
        "# Solving Problem 3.1 :\n"
      ]
    },
    {
      "cell_type": "markdown",
      "metadata": {
        "id": "H0C2RDAcZQiA"
      },
      "source": [
        "# pre"
      ]
    },
    {
      "cell_type": "code",
      "metadata": {
        "id": "JJFJmutMZPxa"
      },
      "source": [
        "from sklearn.model_selection import train_test_split\n",
        "from sklearn.metrics import classification_report\n",
        "from sklearn.metrics import confusion_matrix, plot_confusion_matrix\n",
        "\n",
        "tn = LE31.inverse_transform(np.arange(0,5))\n",
        "\n",
        "def model_reports(clf):\n",
        "\n",
        "  x_train, x_test, y_train, y_test= train_test_split(X31, Y31, test_size=0.2, random_state=42)\n",
        "  clf.fit(x_train, y_train)\n",
        "  y_pred = clf.predict(x_test)\n",
        "  print(classification_report(y_test, y_pred, target_names=tn),'\\n')\n",
        "\n",
        "  fig, ax = plt.subplots(figsize=(10, 10))\n",
        "  plot_confusion_matrix(clf, x_test, y_test,  ax=ax, display_labels=tn, normalize='true')\n",
        "  return"
      ],
      "execution_count": null,
      "outputs": []
    },
    {
      "cell_type": "code",
      "metadata": {
        "id": "1jFpVlHgunuB"
      },
      "source": [
        "np.save('classes.npy', LE31.classes_)"
      ],
      "execution_count": null,
      "outputs": []
    },
    {
      "cell_type": "markdown",
      "metadata": {
        "id": "fhEy6UiL_mtI"
      },
      "source": [
        "# K-Nearest Neighbors (KNN)"
      ]
    },
    {
      "cell_type": "code",
      "metadata": {
        "id": "vfc4LcBza9DW",
        "colab": {
          "base_uri": "https://localhost:8080/"
        },
        "outputId": "e96e9a41-a41d-4d73-831f-2bf02d8d7ca2"
      },
      "source": [
        "from sklearn.neighbors import KNeighborsClassifier\n",
        "from sklearn.model_selection import GridSearchCV\n",
        "from sklearn.model_selection import RandomizedSearchCV\n",
        "\n",
        "knn = KNeighborsClassifier(n_jobs=-1)\n",
        "\n",
        "weight_options = ['uniform', 'distance']\n",
        "algorithm = ['ball_tree','kd_tree','brute']\n",
        "hyperparameters = dict(algorithm=algorithm ,weights=weight_options)\n",
        "\n",
        "clf = GridSearchCV(knn, hyperparameters, cv=10, scoring='f1_micro', n_jobs=-1)\n",
        "clf.fit(X31,Y31)\n",
        "\n",
        "print(f'Best score : {clf.best_score_} \\n')\n",
        "print(f'Best parameters : \\n {clf.best_params_} \\n')"
      ],
      "execution_count": null,
      "outputs": [
        {
          "output_type": "stream",
          "text": [
            "Best score : 0.9201599319083282 \n",
            "\n",
            "Best parameters : \n",
            " {'algorithm': 'kd_tree', 'weights': 'distance'} \n",
            "\n"
          ],
          "name": "stdout"
        }
      ]
    },
    {
      "cell_type": "code",
      "metadata": {
        "id": "9do7L9L3_lRB",
        "colab": {
          "base_uri": "https://localhost:8080/",
          "height": 804
        },
        "outputId": "59553183-d685-4172-e9b7-53adb1373356"
      },
      "source": [
        "# model evaluation\n",
        "\n",
        "clf = KNeighborsClassifier(n_jobs=-1,weights='distance',algorithm='kd_tree')\n",
        "model_reports(clf)"
      ],
      "execution_count": null,
      "outputs": [
        {
          "output_type": "stream",
          "text": [
            "              precision    recall  f1-score   support\n",
            "\n",
            "         CEP       0.87      0.85      0.86      3640\n",
            "         ECL       0.86      0.87      0.87     15802\n",
            "         LPV       0.99      1.00      0.99     22288\n",
            "       OTHER       0.72      0.44      0.55       630\n",
            "       RRLYR       0.89      0.89      0.89     14865\n",
            "\n",
            "    accuracy                           0.92     57225\n",
            "   macro avg       0.87      0.81      0.83     57225\n",
            "weighted avg       0.92      0.92      0.92     57225\n",
            " \n",
            "\n"
          ],
          "name": "stdout"
        },
        {
          "output_type": "display_data",
          "data": {
            "image/png": "[encoded data removed]",
            "text/plain": [
              "<Figure size 720x720 with 2 Axes>"
            ]
          },
          "metadata": {
            "tags": [],
            "needs_background": "light"
          }
        }
      ]
    },
    {
      "cell_type": "markdown",
      "metadata": {
        "id": "1GigYWolvaee"
      },
      "source": [
        "# Decision Tree Classifier"
      ]
    },
    {
      "cell_type": "code",
      "metadata": {
        "id": "B4flprReved_",
        "colab": {
          "base_uri": "https://localhost:8080/"
        },
        "outputId": "1e6bb082-b17a-4c13-87f5-cfc87b29bee4"
      },
      "source": [
        "from sklearn.tree import DecisionTreeClassifier as DTC\n",
        "from sklearn.model_selection import GridSearchCV\n",
        "from sklearn.model_selection import RandomizedSearchCV\n",
        "\n",
        "criterion = ['gini', 'entropy']\n",
        "splitter = ['best','random']\n",
        "max_features = ['auto','sqrt','log2',None]\n",
        "hyperparameters = dict(criterion=criterion,splitter=splitter,\n",
        "                       max_features=max_features)\n",
        "\n",
        "dtc = DTC()\n",
        "clf = GridSearchCV(dtc, hyperparameters, cv=10, scoring='f1_micro', n_jobs=-1)\n",
        "clf.fit(X31,Y31)\n",
        "\n",
        "print(f'Best score : {clf.best_score_} \\n')\n",
        "print(f'Best parameters : \\n {clf.best_params_} \\n')"
      ],
      "execution_count": null,
      "outputs": [
        {
          "output_type": "stream",
          "text": [
            "Best score : 0.9490077729926863 \n",
            "\n",
            "Best parameters : \n",
            " {'criterion': 'entropy', 'max_features': None, 'splitter': 'best'} \n",
            "\n"
          ],
          "name": "stdout"
        }
      ]
    },
    {
      "cell_type": "code",
      "metadata": {
        "id": "PvO1wDShuUEp",
        "colab": {
          "base_uri": "https://localhost:8080/",
          "height": 478
        },
        "outputId": "209e1fd0-c7b4-4454-fe11-c8ee6b15e0ee"
      },
      "source": [
        "# validation curve\n",
        "from sklearn.model_selection import validation_curve\n",
        "from sklearn.model_selection import ShuffleSplit\n",
        "from sklearn.model_selection import train_test_split\n",
        "\n",
        "clf = DTC(criterion='entropy',splitter='best',max_features='auto')\n",
        "\n",
        "cv = ShuffleSplit(n_splits=10, test_size=0.2, random_state=42)\n",
        "pn = \"max_depth\"\n",
        "pr = list(range(1, 30))\n",
        "\n",
        "train_scores, test_scores = validation_curve(clf, X31, Y31, cv=cv, n_jobs=-1,\n",
        "                                             param_name=pn, param_range=pr)\n",
        "\n",
        "train_scores_mean = np.mean(train_scores, axis=1)\n",
        "train_scores_std = np.std(train_scores, axis=1)\n",
        "test_scores_mean = np.mean(test_scores, axis=1)\n",
        "test_scores_std = np.std(test_scores, axis=1)\n",
        "\n",
        "plt.figure(figsize=(8, 6), dpi=80)\n",
        "plt.title(\"Validation Curve\")\n",
        "plt.xlabel(f\"{pn}\")\n",
        "plt.ylabel(\"Score\")\n",
        "plt.ylim(0.0, 1.1)\n",
        "lw = 2\n",
        "\n",
        "plt.grid()\n",
        "plt.plot(pr, train_scores_mean, label=\"Training score\",\n",
        "             color=\"darkorange\", lw=lw)\n",
        "plt.plot(pr, test_scores_mean, label=\"Cross-validation score\",\n",
        "             color=\"navy\", lw=lw)\n",
        "\n",
        "plt.fill_between(pr, train_scores_mean - train_scores_std,\n",
        "                 train_scores_mean + train_scores_std, alpha=0.2,\n",
        "                 color=\"darkorange\", lw=lw)\n",
        "plt.fill_between(pr, test_scores_mean - test_scores_std,\n",
        "                 test_scores_mean + test_scores_std, alpha=0.2,\n",
        "                 color=\"navy\", lw=lw)\n",
        "plt.legend(loc=\"best\")"
      ],
      "execution_count": null,
      "outputs": [
        {
          "output_type": "execute_result",
          "data": {
            "text/plain": [
              "<matplotlib.legend.Legend at 0x7fd0dc270cd0>"
            ]
          },
          "metadata": {
            "tags": []
          },
          "execution_count": 51
        },
        {
          "output_type": "display_data",
          "data": {
            "image/png": "[encoded data removed]",
            "text/plain": [
              "<Figure size 640x480 with 1 Axes>"
            ]
          },
          "metadata": {
            "tags": [],
            "needs_background": "light"
          }
        }
      ]
    },
    {
      "cell_type": "code",
      "metadata": {
        "id": "BXRALWcmihi1",
        "colab": {
          "base_uri": "https://localhost:8080/",
          "height": 795
        },
        "outputId": "8512e589-0481-45f4-9aff-ab3616df62c3"
      },
      "source": [
        "# model evaluation\n",
        "\n",
        "clf = DTC(criterion='entropy',splitter='best',max_features=None)\n",
        "model_reports(clf)"
      ],
      "execution_count": null,
      "outputs": [
        {
          "output_type": "stream",
          "text": [
            "              precision    recall  f1-score   support\n",
            "\n",
            "         CEP       0.88      0.89      0.89      3640\n",
            "         ECL       0.93      0.92      0.92     15802\n",
            "         LPV       0.99      0.99      0.99     22288\n",
            "       OTHER       0.58      0.60      0.59       630\n",
            "       RRLYR       0.93      0.94      0.94     14865\n",
            "\n",
            "    accuracy                           0.95     57225\n",
            "   macro avg       0.86      0.87      0.87     57225\n",
            "weighted avg       0.95      0.95      0.95     57225\n",
            " \n",
            "\n"
          ],
          "name": "stdout"
        },
        {
          "output_type": "display_data",
          "data": {
            "image/png": "[encoded data removed]",
            "text/plain": [
              "<Figure size 720x720 with 2 Axes>"
            ]
          },
          "metadata": {
            "tags": [],
            "needs_background": "light"
          }
        }
      ]
    },
    {
      "cell_type": "markdown",
      "metadata": {
        "id": "tsmxDY7NwvS_"
      },
      "source": [
        "# Linear Discriminant Analysis (LDA)"
      ]
    },
    {
      "cell_type": "code",
      "metadata": {
        "colab": {
          "base_uri": "https://localhost:8080/"
        },
        "id": "fgX7bCWNwzQy",
        "outputId": "28f07b0a-4473-4c4a-a76d-ae3cd3da3277"
      },
      "source": [
        "from sklearn.discriminant_analysis import LinearDiscriminantAnalysis as LDA\n",
        "from sklearn.model_selection import GridSearchCV\n",
        "from sklearn.model_selection import RandomizedSearchCV\n",
        "\n",
        "shrink = np.arange(0, 1, 0.01)\n",
        "shrink1 = 'auto'\n",
        "solver = ['svd', 'lsqr', 'eigen']\n",
        "\n",
        "hyperparameters = dict(shrinkage=[shrink,shrink1], solver=solver)\n",
        "\n",
        "lda = LDA()\n",
        "clf = GridSearchCV(lda, hyperparameters, cv=10, scoring='f1_micro', n_jobs=-1)\n",
        "clf.fit(X31,Y31)\n",
        "\n",
        "print(f'Best score : {clf.best_score_} \\n')\n",
        "print(f'Best parameters : \\n {clf.best_params_} \\n')"
      ],
      "execution_count": null,
      "outputs": [
        {
          "output_type": "stream",
          "text": [
            "Best score : 0.8362551651683443 \n",
            "\n",
            "Best parameters : \n",
            " {'shrinkage': 'auto', 'solver': 'lsqr'} \n",
            "\n"
          ],
          "name": "stdout"
        }
      ]
    },
    {
      "cell_type": "code",
      "metadata": {
        "colab": {
          "base_uri": "https://localhost:8080/",
          "height": 804
        },
        "id": "XkLLYvJXuwUW",
        "outputId": "108ce190-19f1-4c86-ceba-ae02554f0dd5"
      },
      "source": [
        "# model evaluation\n",
        "\n",
        "clf = LDA(solver='lsqr', shrinkage='auto')\n",
        "model_reports(clf)"
      ],
      "execution_count": null,
      "outputs": [
        {
          "output_type": "stream",
          "text": [
            "              precision    recall  f1-score   support\n",
            "\n",
            "         CEP       0.65      0.70      0.67      3640\n",
            "         ECL       0.78      0.65      0.71     15802\n",
            "         LPV       0.95      0.99      0.97     22288\n",
            "       OTHER       0.49      0.18      0.27       630\n",
            "       RRLYR       0.75      0.84      0.79     14865\n",
            "\n",
            "    accuracy                           0.83     57225\n",
            "   macro avg       0.72      0.67      0.68     57225\n",
            "weighted avg       0.83      0.83      0.82     57225\n",
            " \n",
            "\n"
          ],
          "name": "stdout"
        },
        {
          "output_type": "display_data",
          "data": {
            "image/png": "[encoded data removed]",
            "text/plain": [
              "<Figure size 720x720 with 2 Axes>"
            ]
          },
          "metadata": {
            "tags": [],
            "needs_background": "light"
          }
        }
      ]
    },
    {
      "cell_type": "markdown",
      "metadata": {
        "id": "k4vpe7BcQY8A"
      },
      "source": [
        "> * Learning Curve"
      ]
    },
    {
      "cell_type": "code",
      "metadata": {
        "colab": {
          "base_uri": "https://localhost:8080/",
          "height": 477
        },
        "id": "rREICiihvAAG",
        "outputId": "67a5696a-b277-4807-cf35-c988642d41b7"
      },
      "source": [
        "from sklearn.model_selection import learning_curve\n",
        "from sklearn.model_selection import ShuffleSplit\n",
        "\n",
        "\n",
        "plt.figure(figsize=(10, 6), dpi=80)\n",
        "plt.title('Learning Curve')\n",
        "plt.xlabel(\"Training samples\")\n",
        "plt.ylabel(\"Score\")\n",
        "\n",
        "clf = LDA(solver='lsqr', shrinkage='auto')\n",
        "cv = ShuffleSplit(n_splits=10, test_size=0.2, random_state=42)\n",
        "train_sizes = np.linspace(0.05, 1, 15)\n",
        "\n",
        "train_sizes, train_scores, test_scores = learning_curve(\n",
        "    clf, X31, Y31, cv=cv, n_jobs=-1, train_sizes=train_sizes)\n",
        "\n",
        "train_scores_mean = np.mean(train_scores, axis=1)\n",
        "train_scores_std = np.std(train_scores, axis=1)\n",
        "test_scores_mean = np.mean(test_scores, axis=1)\n",
        "test_scores_std = np.std(test_scores, axis=1)\n",
        "plt.grid()\n",
        "\n",
        "plt.fill_between(train_sizes, train_scores_mean - train_scores_std,\n",
        "                 train_scores_mean + train_scores_std, alpha=0.1,color=\"r\")\n",
        "plt.fill_between(train_sizes, test_scores_mean - test_scores_std,\n",
        "                 test_scores_mean + test_scores_std, alpha=0.1, color=\"g\")\n",
        "plt.plot(train_sizes, train_scores_mean, 'o-', color=\"r\",\n",
        "         label=\"Training score\")\n",
        "plt.plot(train_sizes, test_scores_mean, 'o-', color=\"g\",\n",
        "         label=\"Cross-validation score\")\n",
        "\n",
        "plt.legend(loc=\"best\")"
      ],
      "execution_count": null,
      "outputs": [
        {
          "output_type": "execute_result",
          "data": {
            "text/plain": [
              "<matplotlib.legend.Legend at 0x7fbda8c6d9d0>"
            ]
          },
          "metadata": {
            "tags": []
          },
          "execution_count": 21
        },
        {
          "output_type": "display_data",
          "data": {
            "image/png": "[encoded data removed]",
            "text/plain": [
              "<Figure size 800x480 with 1 Axes>"
            ]
          },
          "metadata": {
            "tags": [],
            "needs_background": "light"
          }
        }
      ]
    },
    {
      "cell_type": "markdown",
      "metadata": {
        "id": "9sCGy8cPpifG"
      },
      "source": [
        "-----\n",
        "# Save the Best Model"
      ]
    },
    {
      "cell_type": "code",
      "metadata": {
        "id": "uE4yGNr7pqDv",
        "colab": {
          "base_uri": "https://localhost:8080/"
        },
        "outputId": "f38a28fc-2660-4ab3-e8bd-65a644fe8d9c"
      },
      "source": [
        "from sklearn.tree import DecisionTreeClassifier as DTC\n",
        "model = DTC(criterion='entropy',splitter='best',max_features=None)\n",
        "model.fit(X31,Y31)"
      ],
      "execution_count": null,
      "outputs": [
        {
          "output_type": "execute_result",
          "data": {
            "text/plain": [
              "DecisionTreeClassifier(ccp_alpha=0.0, class_weight=None, criterion='entropy',\n",
              "                       max_depth=None, max_features=None, max_leaf_nodes=None,\n",
              "                       min_impurity_decrease=0.0, min_impurity_split=None,\n",
              "                       min_samples_leaf=1, min_samples_split=2,\n",
              "                       min_weight_fraction_leaf=0.0, presort='deprecated',\n",
              "                       random_state=None, splitter='best')"
            ]
          },
          "metadata": {
            "tags": []
          },
          "execution_count": 8
        }
      ]
    },
    {
      "cell_type": "code",
      "metadata": {
        "id": "A97EPcd1h3cG"
      },
      "source": [
        "import pickle\n",
        "\n",
        "a_file = open(\"finalized_model.sav\", \"wb\")\n",
        "pickle.dump(model, a_file)\n",
        "a_file.close()"
      ],
      "execution_count": null,
      "outputs": []
    },
    {
      "cell_type": "markdown",
      "source": [
        "# Binary Classification"
      ],
      "metadata": {
        "id": "azhhU4omP4lM"
      }
    },
    {
      "cell_type": "code",
      "metadata": {
        "id": "rBlK4hetQaHZ"
      },
      "source": [
        "final_data = pd.read_csv('/content/drive/MyDrive/final_data', index_col=0, header=0)"
      ],
      "execution_count": null,
      "outputs": []
    },
    {
      "cell_type": "code",
      "source": [
        "X = final_data.iloc[:,0:53]\n",
        "Y = final_data['class']\n",
        "BY = final_data['OH6']"
      ],
      "metadata": {
        "id": "JsjI2984SYcJ"
      },
      "execution_count": null,
      "outputs": []
    },
    {
      "cell_type": "code",
      "source": [
        "from sklearn.neighbors import KNeighborsClassifier\n",
        "from sklearn.metrics import classification_report\n",
        "from sklearn.metrics import confusion_matrix, plot_confusion_matrix\n",
        "\n",
        "clf = KNeighborsClassifier()\n",
        "clf.fit(X,BY)\n",
        "\n",
        "import pickle\n",
        "a_file = open(\"Binary_model.sav\", \"wb\")\n",
        "pickle.dump(clf, a_file)\n",
        "a_file.close()"
      ],
      "metadata": {
        "id": "gg4N9OfsS393"
      },
      "execution_count": null,
      "outputs": []
    }
  ]
}